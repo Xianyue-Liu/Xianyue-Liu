{
 "cells": [
  {
   "cell_type": "code",
   "execution_count": 1,
   "metadata": {
    "ExecuteTime": {
     "end_time": "2021-02-16T03:02:31.051111Z",
     "start_time": "2021-02-16T03:02:29.393608Z"
    }
   },
   "outputs": [],
   "source": [
    "import pandas as pd\n",
    "import numpy as np"
   ]
  },
  {
   "cell_type": "code",
   "execution_count": 2,
   "metadata": {
    "ExecuteTime": {
     "end_time": "2021-02-16T03:02:38.192558Z",
     "start_time": "2021-02-16T03:02:31.058546Z"
    }
   },
   "outputs": [
    {
     "data": {
      "text/html": [
       "<div>\n",
       "<style scoped>\n",
       "    .dataframe tbody tr th:only-of-type {\n",
       "        vertical-align: middle;\n",
       "    }\n",
       "\n",
       "    .dataframe tbody tr th {\n",
       "        vertical-align: top;\n",
       "    }\n",
       "\n",
       "    .dataframe thead th {\n",
       "        text-align: right;\n",
       "    }\n",
       "</style>\n",
       "<table border=\"1\" class=\"dataframe\">\n",
       "  <thead>\n",
       "    <tr style=\"text-align: right;\">\n",
       "      <th></th>\n",
       "      <th>RECORD</th>\n",
       "      <th>BBLE</th>\n",
       "      <th>B</th>\n",
       "      <th>BLOCK</th>\n",
       "      <th>LOT</th>\n",
       "      <th>EASEMENT</th>\n",
       "      <th>OWNER</th>\n",
       "      <th>BLDGCL</th>\n",
       "      <th>TAXCLASS</th>\n",
       "      <th>LTFRONT</th>\n",
       "      <th>...</th>\n",
       "      <th>BLDFRONT</th>\n",
       "      <th>BLDDEPTH</th>\n",
       "      <th>AVLAND2</th>\n",
       "      <th>AVTOT2</th>\n",
       "      <th>EXLAND2</th>\n",
       "      <th>EXTOT2</th>\n",
       "      <th>EXCD2</th>\n",
       "      <th>PERIOD</th>\n",
       "      <th>YEAR</th>\n",
       "      <th>VALTYPE</th>\n",
       "    </tr>\n",
       "  </thead>\n",
       "  <tbody>\n",
       "    <tr>\n",
       "      <th>0</th>\n",
       "      <td>1</td>\n",
       "      <td>1000010101</td>\n",
       "      <td>1</td>\n",
       "      <td>1</td>\n",
       "      <td>101</td>\n",
       "      <td>NaN</td>\n",
       "      <td>U S GOVT LAND &amp; BLDGS</td>\n",
       "      <td>P7</td>\n",
       "      <td>4</td>\n",
       "      <td>500</td>\n",
       "      <td>...</td>\n",
       "      <td>0</td>\n",
       "      <td>0</td>\n",
       "      <td>3775500.0</td>\n",
       "      <td>8613000.0</td>\n",
       "      <td>3775500.0</td>\n",
       "      <td>8613000.0</td>\n",
       "      <td>NaN</td>\n",
       "      <td>FINAL</td>\n",
       "      <td>2010/11</td>\n",
       "      <td>AC-TR</td>\n",
       "    </tr>\n",
       "    <tr>\n",
       "      <th>1</th>\n",
       "      <td>2</td>\n",
       "      <td>1000010201</td>\n",
       "      <td>1</td>\n",
       "      <td>1</td>\n",
       "      <td>201</td>\n",
       "      <td>NaN</td>\n",
       "      <td>U S GOVT LAND &amp; BLDGS</td>\n",
       "      <td>Z9</td>\n",
       "      <td>4</td>\n",
       "      <td>27</td>\n",
       "      <td>...</td>\n",
       "      <td>0</td>\n",
       "      <td>0</td>\n",
       "      <td>11111400.0</td>\n",
       "      <td>80690400.0</td>\n",
       "      <td>11111400.0</td>\n",
       "      <td>80690400.0</td>\n",
       "      <td>NaN</td>\n",
       "      <td>FINAL</td>\n",
       "      <td>2010/11</td>\n",
       "      <td>AC-TR</td>\n",
       "    </tr>\n",
       "    <tr>\n",
       "      <th>2</th>\n",
       "      <td>3</td>\n",
       "      <td>1000020001</td>\n",
       "      <td>1</td>\n",
       "      <td>2</td>\n",
       "      <td>1</td>\n",
       "      <td>NaN</td>\n",
       "      <td>DEPT OF GENERAL SERVI</td>\n",
       "      <td>Y7</td>\n",
       "      <td>4</td>\n",
       "      <td>709</td>\n",
       "      <td>...</td>\n",
       "      <td>709</td>\n",
       "      <td>564</td>\n",
       "      <td>32321790.0</td>\n",
       "      <td>40179510.0</td>\n",
       "      <td>32321790.0</td>\n",
       "      <td>40179510.0</td>\n",
       "      <td>NaN</td>\n",
       "      <td>FINAL</td>\n",
       "      <td>2010/11</td>\n",
       "      <td>AC-TR</td>\n",
       "    </tr>\n",
       "    <tr>\n",
       "      <th>3</th>\n",
       "      <td>4</td>\n",
       "      <td>1000020023</td>\n",
       "      <td>1</td>\n",
       "      <td>2</td>\n",
       "      <td>23</td>\n",
       "      <td>NaN</td>\n",
       "      <td>DEPARTMENT OF BUSINES</td>\n",
       "      <td>T2</td>\n",
       "      <td>4</td>\n",
       "      <td>793</td>\n",
       "      <td>...</td>\n",
       "      <td>85</td>\n",
       "      <td>551</td>\n",
       "      <td>13644000.0</td>\n",
       "      <td>15750000.0</td>\n",
       "      <td>13644000.0</td>\n",
       "      <td>15750000.0</td>\n",
       "      <td>NaN</td>\n",
       "      <td>FINAL</td>\n",
       "      <td>2010/11</td>\n",
       "      <td>AC-TR</td>\n",
       "    </tr>\n",
       "    <tr>\n",
       "      <th>4</th>\n",
       "      <td>5</td>\n",
       "      <td>1000030001</td>\n",
       "      <td>1</td>\n",
       "      <td>3</td>\n",
       "      <td>1</td>\n",
       "      <td>NaN</td>\n",
       "      <td>PARKS AND RECREATION</td>\n",
       "      <td>Q1</td>\n",
       "      <td>4</td>\n",
       "      <td>323</td>\n",
       "      <td>...</td>\n",
       "      <td>89</td>\n",
       "      <td>57</td>\n",
       "      <td>106348680.0</td>\n",
       "      <td>107758350.0</td>\n",
       "      <td>106348680.0</td>\n",
       "      <td>107758350.0</td>\n",
       "      <td>NaN</td>\n",
       "      <td>FINAL</td>\n",
       "      <td>2010/11</td>\n",
       "      <td>AC-TR</td>\n",
       "    </tr>\n",
       "  </tbody>\n",
       "</table>\n",
       "<p>5 rows × 32 columns</p>\n",
       "</div>"
      ],
      "text/plain": [
       "   RECORD        BBLE  B  BLOCK  LOT EASEMENT                  OWNER BLDGCL  \\\n",
       "0       1  1000010101  1      1  101      NaN  U S GOVT LAND & BLDGS     P7   \n",
       "1       2  1000010201  1      1  201      NaN  U S GOVT LAND & BLDGS     Z9   \n",
       "2       3  1000020001  1      2    1      NaN  DEPT OF GENERAL SERVI     Y7   \n",
       "3       4  1000020023  1      2   23      NaN  DEPARTMENT OF BUSINES     T2   \n",
       "4       5  1000030001  1      3    1      NaN   PARKS AND RECREATION     Q1   \n",
       "\n",
       "  TAXCLASS  LTFRONT  ...  BLDFRONT BLDDEPTH      AVLAND2       AVTOT2  \\\n",
       "0        4      500  ...         0        0    3775500.0    8613000.0   \n",
       "1        4       27  ...         0        0   11111400.0   80690400.0   \n",
       "2        4      709  ...       709      564   32321790.0   40179510.0   \n",
       "3        4      793  ...        85      551   13644000.0   15750000.0   \n",
       "4        4      323  ...        89       57  106348680.0  107758350.0   \n",
       "\n",
       "       EXLAND2       EXTOT2  EXCD2  PERIOD     YEAR VALTYPE  \n",
       "0    3775500.0    8613000.0    NaN   FINAL  2010/11   AC-TR  \n",
       "1   11111400.0   80690400.0    NaN   FINAL  2010/11   AC-TR  \n",
       "2   32321790.0   40179510.0    NaN   FINAL  2010/11   AC-TR  \n",
       "3   13644000.0   15750000.0    NaN   FINAL  2010/11   AC-TR  \n",
       "4  106348680.0  107758350.0    NaN   FINAL  2010/11   AC-TR  \n",
       "\n",
       "[5 rows x 32 columns]"
      ]
     },
     "execution_count": 2,
     "metadata": {},
     "output_type": "execute_result"
    }
   ],
   "source": [
    "data=pd.read_csv('NY property data.csv')\n",
    "data.head()"
   ]
  },
  {
   "cell_type": "code",
   "execution_count": 3,
   "metadata": {
    "ExecuteTime": {
     "end_time": "2021-02-16T03:02:38.572951Z",
     "start_time": "2021-02-16T03:02:38.200269Z"
    }
   },
   "outputs": [],
   "source": [
    "data_orig=data.copy()"
   ]
  },
  {
   "cell_type": "code",
   "execution_count": 4,
   "metadata": {
    "ExecuteTime": {
     "end_time": "2021-02-16T03:02:39.472923Z",
     "start_time": "2021-02-16T03:02:38.581331Z"
    }
   },
   "outputs": [
    {
     "data": {
      "text/plain": [
       "RECORD            0\n",
       "BBLE              0\n",
       "B                 0\n",
       "BLOCK             0\n",
       "LOT               0\n",
       "EASEMENT    1066358\n",
       "OWNER         31745\n",
       "BLDGCL            0\n",
       "TAXCLASS          0\n",
       "LTFRONT           0\n",
       "LTDEPTH           0\n",
       "EXT          716689\n",
       "STORIES       56264\n",
       "FULLVAL           0\n",
       "AVLAND            0\n",
       "AVTOT             0\n",
       "EXLAND            0\n",
       "EXTOT             0\n",
       "EXCD1        432506\n",
       "STADDR          676\n",
       "ZIP           29890\n",
       "EXMPTCL     1055415\n",
       "BLDFRONT          0\n",
       "BLDDEPTH          0\n",
       "AVLAND2      788268\n",
       "AVTOT2       788262\n",
       "EXLAND2      983545\n",
       "EXTOT2       940166\n",
       "EXCD2        978046\n",
       "PERIOD            0\n",
       "YEAR              0\n",
       "VALTYPE           0\n",
       "dtype: int64"
      ]
     },
     "execution_count": 4,
     "metadata": {},
     "output_type": "execute_result"
    }
   ],
   "source": [
    "data.isnull().sum()"
   ]
  },
  {
   "cell_type": "markdown",
   "metadata": {},
   "source": [
    "<b>Filling in missing ZIP</b>"
   ]
  },
  {
   "cell_type": "code",
   "execution_count": 5,
   "metadata": {
    "ExecuteTime": {
     "end_time": "2021-02-16T03:02:39.508910Z",
     "start_time": "2021-02-16T03:02:39.483300Z"
    }
   },
   "outputs": [
    {
     "data": {
      "text/plain": [
       "29890"
      ]
     },
     "execution_count": 5,
     "metadata": {},
     "output_type": "execute_result"
    }
   ],
   "source": [
    "missing_zips=np.where(pd.isnull(data['ZIP']))[0]\n",
    "len(missing_zips)"
   ]
  },
  {
   "cell_type": "code",
   "execution_count": 6,
   "metadata": {
    "ExecuteTime": {
     "end_time": "2021-02-16T03:04:35.038978Z",
     "start_time": "2021-02-16T03:02:39.518651Z"
    }
   },
   "outputs": [],
   "source": [
    "# If the zip on both the record before and after the record \n",
    "# with the missing zip are the same, \n",
    "# replace by that zip code\n",
    "for i in range(len(missing_zips)):\n",
    "    if data.loc[missing_zips[i]+1,'ZIP']==data.loc[missing_zips[i]-1,'ZIP']:\n",
    "        data.loc[missing_zips[i],'ZIP']=data.loc[missing_zips[i]-1,'ZIP']"
   ]
  },
  {
   "cell_type": "code",
   "execution_count": 7,
   "metadata": {
    "ExecuteTime": {
     "end_time": "2021-02-16T03:04:35.064914Z",
     "start_time": "2021-02-16T03:04:35.050562Z"
    }
   },
   "outputs": [
    {
     "data": {
      "text/plain": [
       "16437"
      ]
     },
     "execution_count": 7,
     "metadata": {},
     "output_type": "execute_result"
    }
   ],
   "source": [
    "missing_zips=np.where(pd.isnull(data['ZIP']))[0]\n",
    "len(missing_zips)"
   ]
  },
  {
   "cell_type": "code",
   "execution_count": 8,
   "metadata": {
    "ExecuteTime": {
     "end_time": "2021-02-16T03:06:52.170360Z",
     "start_time": "2021-02-16T03:04:35.073277Z"
    }
   },
   "outputs": [],
   "source": [
    "for i in range(len(missing_zips)):\n",
    "    data.loc[missing_zips[i],'ZIP']=data.loc[missing_zips[i]-1,'ZIP']"
   ]
  },
  {
   "cell_type": "code",
   "execution_count": 9,
   "metadata": {
    "ExecuteTime": {
     "end_time": "2021-02-16T03:06:52.187418Z",
     "start_time": "2021-02-16T03:06:52.174127Z"
    }
   },
   "outputs": [
    {
     "data": {
      "text/plain": [
       "0"
      ]
     },
     "execution_count": 9,
     "metadata": {},
     "output_type": "execute_result"
    }
   ],
   "source": [
    "missing_zips=np.where(pd.isnull(data['ZIP']))[0]\n",
    "len(missing_zips)"
   ]
  },
  {
   "cell_type": "markdown",
   "metadata": {},
   "source": [
    "<b>Filling in missing STORIES</b>"
   ]
  },
  {
   "cell_type": "code",
   "execution_count": 10,
   "metadata": {
    "ExecuteTime": {
     "end_time": "2021-02-16T03:06:52.260841Z",
     "start_time": "2021-02-16T03:06:52.196259Z"
    }
   },
   "outputs": [
    {
     "data": {
      "text/plain": [
       "56264"
      ]
     },
     "execution_count": 10,
     "metadata": {},
     "output_type": "execute_result"
    }
   ],
   "source": [
    "temp=data[data['STORIES'].isnull()]\n",
    "len(temp)"
   ]
  },
  {
   "cell_type": "code",
   "execution_count": 11,
   "metadata": {
    "ExecuteTime": {
     "end_time": "2021-02-16T03:06:52.305484Z",
     "start_time": "2021-02-16T03:06:52.266966Z"
    }
   },
   "outputs": [
    {
     "data": {
      "text/plain": [
       "1B    24736\n",
       "4     22354\n",
       "3      4635\n",
       "2      3435\n",
       "1       897\n",
       "2C      138\n",
       "2B       34\n",
       "2A       30\n",
       "1A        5\n",
       "Name: TAXCLASS, dtype: int64"
      ]
     },
     "execution_count": 11,
     "metadata": {},
     "output_type": "execute_result"
    }
   ],
   "source": [
    "temp['TAXCLASS'].value_counts()"
   ]
  },
  {
   "cell_type": "code",
   "execution_count": 12,
   "metadata": {
    "ExecuteTime": {
     "end_time": "2021-02-16T03:06:52.439120Z",
     "start_time": "2021-02-16T03:06:52.315386Z"
    }
   },
   "outputs": [
    {
     "data": {
      "text/plain": [
       "TAXCLASS\n",
       "1      2.111641\n",
       "1A     1.656837\n",
       "1B     4.000000\n",
       "1C     3.052748\n",
       "1D     1.068966\n",
       "2     16.095110\n",
       "2A     2.844574\n",
       "2B     4.004494\n",
       "2C     4.745097\n",
       "3      1.333333\n",
       "4      5.446968\n",
       "Name: STORIES, dtype: float64"
      ]
     },
     "execution_count": 12,
     "metadata": {},
     "output_type": "execute_result"
    }
   ],
   "source": [
    "mean_stories=data.groupby('TAXCLASS')['STORIES'].mean()\n",
    "mean_stories"
   ]
  },
  {
   "cell_type": "code",
   "execution_count": 13,
   "metadata": {
    "ExecuteTime": {
     "end_time": "2021-02-16T03:06:52.477283Z",
     "start_time": "2021-02-16T03:06:52.457225Z"
    }
   },
   "outputs": [
    {
     "data": {
      "text/plain": [
       "0"
      ]
     },
     "execution_count": 13,
     "metadata": {},
     "output_type": "execute_result"
    }
   ],
   "source": [
    "len(data[data['STORIES']==0])"
   ]
  },
  {
   "cell_type": "code",
   "execution_count": 14,
   "metadata": {
    "ExecuteTime": {
     "end_time": "2021-02-16T03:06:53.772958Z",
     "start_time": "2021-02-16T03:06:52.482996Z"
    }
   },
   "outputs": [],
   "source": [
    "# Filling in with the average by that record's TAXCLASS\n",
    "data['STORIES']=data['STORIES'].fillna(value=0)\n",
    "for index in mean_stories.index:\n",
    "    data.loc[(data['STORIES']==0)&(data['TAXCLASS']==index),'STORIES']=mean_stories[index]"
   ]
  },
  {
   "cell_type": "markdown",
   "metadata": {},
   "source": [
    "<b>Filling in Missing FULLVAL, AVLAND, AVTOT</b>"
   ]
  },
  {
   "cell_type": "code",
   "execution_count": 15,
   "metadata": {
    "ExecuteTime": {
     "end_time": "2021-02-16T03:06:54.260083Z",
     "start_time": "2021-02-16T03:06:53.775829Z"
    }
   },
   "outputs": [
    {
     "name": "stdout",
     "output_type": "stream",
     "text": [
      "TAXCLASS\n",
      "1     5.698435e+05\n",
      "1A    3.352842e+05\n",
      "1B    5.613639e+05\n",
      "1C    7.615359e+05\n",
      "1D    2.233614e+07\n",
      "2     7.998018e+05\n",
      "2A    8.640037e+05\n",
      "2B    1.252989e+06\n",
      "2C    7.728799e+05\n",
      "3     1.112765e+05\n",
      "4     3.211928e+06\n",
      "Name: FULLVAL, dtype: float64\n"
     ]
    }
   ],
   "source": [
    "data['FULLVAL'].replace('NaN',0)\n",
    "temp_fullval=data[data['FULLVAL']!=0]\n",
    "mean_fullval=temp_fullval.groupby('TAXCLASS')['FULLVAL'].mean()\n",
    "print(mean_fullval)"
   ]
  },
  {
   "cell_type": "code",
   "execution_count": 16,
   "metadata": {
    "ExecuteTime": {
     "end_time": "2021-02-16T03:06:55.139536Z",
     "start_time": "2021-02-16T03:06:54.265124Z"
    }
   },
   "outputs": [
    {
     "name": "stdout",
     "output_type": "stream",
     "text": [
      "TAXCLASS\n",
      "1      14896.433976\n",
      "1A      2247.369138\n",
      "1B     14781.268478\n",
      "1C      8225.658898\n",
      "1D    709303.793103\n",
      "2      90830.095031\n",
      "2A     31363.390619\n",
      "2B     54446.810503\n",
      "2C     25639.066531\n",
      "3      43368.352941\n",
      "4     600949.433397\n",
      "Name: AVLAND, dtype: float64\n"
     ]
    }
   ],
   "source": [
    "data['AVLAND'].replace('NaN',0)\n",
    "temp_avland=data[data['AVLAND']!=0]\n",
    "mean_avland=temp_avland.groupby('TAXCLASS')['AVLAND'].mean()\n",
    "print(mean_avland)"
   ]
  },
  {
   "cell_type": "code",
   "execution_count": 17,
   "metadata": {
    "ExecuteTime": {
     "end_time": "2021-02-16T03:06:56.188155Z",
     "start_time": "2021-02-16T03:06:55.147259Z"
    }
   },
   "outputs": [
    {
     "name": "stdout",
     "output_type": "stream",
     "text": [
      "TAXCLASS\n",
      "1     2.501609e+04\n",
      "1A    1.436972e+04\n",
      "1B    1.478410e+04\n",
      "1C    2.898447e+04\n",
      "1D    1.166866e+06\n",
      "2     3.599141e+05\n",
      "2A    7.961158e+04\n",
      "2B    1.785982e+05\n",
      "2C    1.170552e+05\n",
      "3     5.007444e+04\n",
      "4     1.488705e+06\n",
      "Name: AVTOT, dtype: float64\n"
     ]
    }
   ],
   "source": [
    "data['AVTOT'].replace('NaN',0)\n",
    "temp_avtot=data[data['AVTOT']!=0]\n",
    "mean_avtot=temp_avland.groupby('TAXCLASS')['AVTOT'].mean()\n",
    "print(mean_avtot)"
   ]
  },
  {
   "cell_type": "code",
   "execution_count": 18,
   "metadata": {
    "ExecuteTime": {
     "end_time": "2021-02-16T03:06:59.945876Z",
     "start_time": "2021-02-16T03:06:56.201537Z"
    }
   },
   "outputs": [],
   "source": [
    "# Filling in with the average by that record's TAXCLASS\n",
    "for index in mean_fullval.index:\n",
    "    data.loc[(data['FULLVAL']==0)&(data['TAXCLASS']==index),'FULLVAL']=mean_fullval[index]\n",
    "    data.loc[(data['AVLAND']==0)&(data['TAXCLASS']==index),'AVLAND']=mean_avland[index]\n",
    "    data.loc[(data['AVTOT']==0)&(data['TAXCLASS']==index),'AVTOT']=mean_avtot[index]"
   ]
  },
  {
   "cell_type": "markdown",
   "metadata": {
    "ExecuteTime": {
     "end_time": "2021-01-30T03:26:45.046957Z",
     "start_time": "2021-01-30T03:26:45.036348Z"
    }
   },
   "source": [
    "<b>Filling in missing Lot and Building sizes</b>"
   ]
  },
  {
   "cell_type": "code",
   "execution_count": 19,
   "metadata": {
    "ExecuteTime": {
     "end_time": "2021-02-16T03:07:02.032696Z",
     "start_time": "2021-02-16T03:06:59.949108Z"
    }
   },
   "outputs": [],
   "source": [
    "# Calculate groupwise average. \n",
    "# Replace 0 by NAs so they are not counted in calculating mean.\n",
    "data.loc[data['LTFRONT']==0,'LTFRONT']=np.nan\n",
    "data.loc[data['LTDEPTH']==0,'LTDEPTH']=np.nan\n",
    "data.loc[data['BLDFRONT']==0,'BLDFRONT']=np.nan\n",
    "data.loc[data['BLDDEPTH']==0,'BLDDEPTH']=np.nan\n",
    "data.loc[data['LTFRONT']==1,'LTFRONT']=np.nan\n",
    "data.loc[data['LTDEPTH']==1,'LTDEPTH']=np.nan\n",
    "data.loc[data['BLDFRONT']==1,'BLDFRONT']=np.nan\n",
    "data.loc[data['BLDDEPTH']==1,'BLDDEPTH']=np.nan"
   ]
  },
  {
   "cell_type": "code",
   "execution_count": 20,
   "metadata": {
    "ExecuteTime": {
     "end_time": "2021-02-16T03:07:02.357507Z",
     "start_time": "2021-02-16T03:07:02.034983Z"
    }
   },
   "outputs": [],
   "source": [
    "mean_LTFRONT=data.groupby(data['TAXCLASS'])['LTFRONT'].mean()\n",
    "mean_LTDEPTH=data.groupby(data['TAXCLASS'])['LTDEPTH'].mean()\n",
    "mean_BLDFRONT=data.groupby(data['TAXCLASS'])['BLDFRONT'].mean()\n",
    "mean_BLDDEPTH=data.groupby(data['TAXCLASS'])['BLDDEPTH'].mean()"
   ]
  },
  {
   "cell_type": "code",
   "execution_count": 21,
   "metadata": {
    "ExecuteTime": {
     "end_time": "2021-02-16T03:07:06.654781Z",
     "start_time": "2021-02-16T03:07:02.361936Z"
    }
   },
   "outputs": [],
   "source": [
    "for index in mean_LTFRONT.index:\n",
    "    data.loc[(data['LTFRONT'].isnull())&(data['TAXCLASS']==index),'LTFRONT']=mean_LTFRONT[index]    \n",
    "    data.loc[(data['LTDEPTH'].isnull())&(data['TAXCLASS']==index),'LTDEPTH']=mean_LTDEPTH[index]\n",
    "    data.loc[(data['BLDFRONT'].isnull())&(data['TAXCLASS']==index),'BLDFRONT']=mean_BLDFRONT[index]\n",
    "    data.loc[(data['BLDDEPTH'].isnull())&(data['TAXCLASS']==index),'BLDDEPTH']=mean_BLDDEPTH[index]"
   ]
  },
  {
   "cell_type": "code",
   "execution_count": 22,
   "metadata": {
    "ExecuteTime": {
     "end_time": "2021-02-16T03:07:08.231724Z",
     "start_time": "2021-02-16T03:07:06.671572Z"
    }
   },
   "outputs": [],
   "source": [
    "# Convert ZIP to an integer rather than a float\n",
    "data['ZIP']=data['ZIP'].astype(str)\n",
    "data['zip3']=data['ZIP'].str[:3]"
   ]
  },
  {
   "cell_type": "markdown",
   "metadata": {},
   "source": [
    "<b>Create 3 sizes</b>"
   ]
  },
  {
   "cell_type": "code",
   "execution_count": 23,
   "metadata": {
    "ExecuteTime": {
     "end_time": "2021-02-16T03:07:08.620221Z",
     "start_time": "2021-02-16T03:07:08.239632Z"
    }
   },
   "outputs": [],
   "source": [
    "data['ltsize']=data['LTFRONT']*data['LTDEPTH']\n",
    "data['bldsize']=data['BLDFRONT']*data['BLDDEPTH']\n",
    "data['bldvol']=data['bldsize']*data['STORIES']"
   ]
  },
  {
   "cell_type": "markdown",
   "metadata": {},
   "source": [
    "<b>Normalize the value fields by each of the 3 sizes</b>"
   ]
  },
  {
   "cell_type": "code",
   "execution_count": 24,
   "metadata": {
    "ExecuteTime": {
     "end_time": "2021-02-16T03:07:08.925446Z",
     "start_time": "2021-02-16T03:07:08.624552Z"
    }
   },
   "outputs": [],
   "source": [
    "data['r1']=data['FULLVAL']/data['ltsize']\n",
    "data['r2']=data['FULLVAL']/data['bldsize']\n",
    "data['r3']=data['FULLVAL']/data['bldvol']\n",
    "data['r4']=data['AVLAND']/data['ltsize']\n",
    "data['r5']=data['AVLAND']/data['bldsize']\n",
    "data['r6']=data['AVLAND']/data['bldvol']\n",
    "data['r7']=data['AVTOT']/data['ltsize']\n",
    "data['r8']=data['AVTOT']/data['bldsize']\n",
    "data['r9']=data['AVTOT']/data['bldvol']"
   ]
  },
  {
   "cell_type": "markdown",
   "metadata": {},
   "source": [
    "<b>Create the grouped averages</b>"
   ]
  },
  {
   "cell_type": "code",
   "execution_count": 25,
   "metadata": {
    "ExecuteTime": {
     "end_time": "2021-02-16T03:07:10.306427Z",
     "start_time": "2021-02-16T03:07:08.928617Z"
    }
   },
   "outputs": [],
   "source": [
    "ninevars=['r1','r2','r3','r4','r5','r6','r7','r8','r9']\n",
    "zip5_mean=data.groupby('ZIP')[ninevars].mean()\n",
    "zip3_mean=data.groupby('zip3')[ninevars].mean()\n",
    "taxclass_mean=data.groupby('TAXCLASS')[ninevars].mean()\n",
    "borough_mean=data.groupby('B')[ninevars].mean()"
   ]
  },
  {
   "cell_type": "markdown",
   "metadata": {},
   "source": [
    "<b>Append 36 additional variables</b>"
   ]
  },
  {
   "cell_type": "code",
   "execution_count": 26,
   "metadata": {
    "ExecuteTime": {
     "end_time": "2021-02-16T03:07:13.489083Z",
     "start_time": "2021-02-16T03:07:10.310235Z"
    }
   },
   "outputs": [],
   "source": [
    "data=data.join(zip5_mean,on='ZIP',rsuffix='_zip5')\n",
    "data=data.join(zip3_mean,on='zip3',rsuffix='_zip3')\n",
    "data=data.join(taxclass_mean,on='TAXCLASS',rsuffix='_taxclass')\n",
    "data=data.join(borough_mean,on='B',rsuffix='_boro')\n",
    "rsuffix=['_zip5','_zip3','_taxclass','_boro']"
   ]
  },
  {
   "cell_type": "code",
   "execution_count": 27,
   "metadata": {
    "ExecuteTime": {
     "end_time": "2021-02-16T03:07:13.827952Z",
     "start_time": "2021-02-16T03:07:13.491771Z"
    }
   },
   "outputs": [],
   "source": [
    "for var in ninevars:\n",
    "    for r in rsuffix:\n",
    "        data[str(var)+r]=data[var]/data[str(var)+r]"
   ]
  },
  {
   "cell_type": "code",
   "execution_count": 28,
   "metadata": {
    "ExecuteTime": {
     "end_time": "2021-02-16T03:07:13.841180Z",
     "start_time": "2021-02-16T03:07:13.830638Z"
    }
   },
   "outputs": [],
   "source": [
    "variables=['RECORD','r1','r2','r3','r4','r5','r6','r7','r8','r9',\n",
    "          'r1_zip5','r2_zip5','r3_zip5','r4_zip5','r5_zip5','r6_zip5','r7_zip5','r8_zip5','r9_zip5',\n",
    "          'r1_zip3','r2_zip3','r3_zip3','r4_zip3','r5_zip3','r6_zip3','r7_zip3','r8_zip3','r9_zip3',\n",
    "          'r1_taxclass','r2_taxclass','r3_taxclass','r4_taxclass','r5_taxclass','r6_taxclass','r7_taxclass','r8_taxclass','r9_taxclass',\n",
    "          'r1_boro','r2_boro','r3_boro','r4_boro','r5_boro','r6_boro','r7_boro','r8_boro','r9_boro']"
   ]
  },
  {
   "cell_type": "code",
   "execution_count": 29,
   "metadata": {
    "ExecuteTime": {
     "end_time": "2021-02-16T03:07:17.058000Z",
     "start_time": "2021-02-16T03:07:13.845625Z"
    }
   },
   "outputs": [],
   "source": [
    "data=data[variables]"
   ]
  },
  {
   "cell_type": "markdown",
   "metadata": {},
   "source": [
    "<b>Summary statistics</b>"
   ]
  },
  {
   "cell_type": "code",
   "execution_count": 30,
   "metadata": {
    "ExecuteTime": {
     "end_time": "2021-02-16T03:07:19.335710Z",
     "start_time": "2021-02-16T03:07:17.061658Z"
    }
   },
   "outputs": [],
   "source": [
    "stats = data.describe().transpose()\n",
    "stats.to_csv('stats_on_vars.csv')"
   ]
  },
  {
   "cell_type": "markdown",
   "metadata": {},
   "source": [
    "<b>Before PCA, z scale the variables</b>"
   ]
  },
  {
   "cell_type": "code",
   "execution_count": 31,
   "metadata": {
    "ExecuteTime": {
     "end_time": "2021-02-16T03:07:19.704422Z",
     "start_time": "2021-02-16T03:07:19.338755Z"
    }
   },
   "outputs": [],
   "source": [
    "data.drop(columns='RECORD',inplace=True)"
   ]
  },
  {
   "cell_type": "code",
   "execution_count": 32,
   "metadata": {
    "ExecuteTime": {
     "end_time": "2021-02-16T03:07:21.149834Z",
     "start_time": "2021-02-16T03:07:19.709371Z"
    }
   },
   "outputs": [],
   "source": [
    "data=(data-data.mean())/data.std()"
   ]
  },
  {
   "cell_type": "markdown",
   "metadata": {
    "ExecuteTime": {
     "end_time": "2021-02-06T08:29:08.217512Z",
     "start_time": "2021-02-06T08:29:07.933706Z"
    }
   },
   "source": [
    "<b>Compute most of the PC components and look at the scree plot</b>"
   ]
  },
  {
   "cell_type": "code",
   "execution_count": 33,
   "metadata": {
    "ExecuteTime": {
     "end_time": "2021-02-16T03:07:29.288272Z",
     "start_time": "2021-02-16T03:07:21.153389Z"
    }
   },
   "outputs": [
    {
     "data": {
      "text/plain": [
       "(0.0, 1.0)"
      ]
     },
     "execution_count": 33,
     "metadata": {},
     "output_type": "execute_result"
    },
    {
     "data": {
      "image/png": "[encoded data removed]",
      "text/plain": [
       "<Figure size 432x288 with 1 Axes>"
      ]
     },
     "metadata": {
      "needs_background": "light"
     },
     "output_type": "display_data"
    }
   ],
   "source": [
    "from sklearn.decomposition import PCA\n",
    "import matplotlib.pyplot as plt\n",
    "pca=PCA(n_components=.99,svd_solver='full')\n",
    "pca.fit(data)\n",
    "plt.plot(np.cumsum(pca.explained_variance_ratio_))\n",
    "plt.xlabel('Numer of components')\n",
    "plt.ylabel('Cumulative explained variance')\n",
    "plt.yticks(np.arange(0.05,1.1,step=.1))\n",
    "plt.xticks(np.arange(0,20,step=2))\n",
    "plt.axvline(x=6,linestyle='--')\n",
    "plt.ylim(0,1)"
   ]
  },
  {
   "cell_type": "markdown",
   "metadata": {},
   "source": [
    "<b>Keep the top 6 PCs. Recompute them</b>"
   ]
  },
  {
   "cell_type": "code",
   "execution_count": 34,
   "metadata": {
    "ExecuteTime": {
     "end_time": "2021-02-16T03:07:37.127171Z",
     "start_time": "2021-02-16T03:07:29.292023Z"
    }
   },
   "outputs": [],
   "source": [
    "pca=PCA(n_components=6)\n",
    "princ_comps=pca.fit_transform(data)\n",
    "data_pca=pd.DataFrame(princ_comps,columns=['PC'+str(i) for i in range(1,pca.n_components_+1)])"
   ]
  },
  {
   "cell_type": "code",
   "execution_count": 35,
   "metadata": {
    "ExecuteTime": {
     "end_time": "2021-02-16T03:07:37.147260Z",
     "start_time": "2021-02-16T03:07:37.133286Z"
    }
   },
   "outputs": [
    {
     "data": {
      "text/plain": [
       "(1070994, 6)"
      ]
     },
     "execution_count": 35,
     "metadata": {},
     "output_type": "execute_result"
    }
   ],
   "source": [
    "data_pca.shape"
   ]
  },
  {
   "cell_type": "markdown",
   "metadata": {},
   "source": [
    "<b>After PCA, z scale the varibales (PCs) again</b>"
   ]
  },
  {
   "cell_type": "code",
   "execution_count": 36,
   "metadata": {
    "ExecuteTime": {
     "end_time": "2021-02-16T03:07:37.899300Z",
     "start_time": "2021-02-16T03:07:37.153543Z"
    }
   },
   "outputs": [],
   "source": [
    "pca_mean=data_pca.mean()\n",
    "pca_sd=data_pca.std()\n",
    "data_pca=(data_pca-pca_mean)/pca_sd"
   ]
  },
  {
   "cell_type": "code",
   "execution_count": 37,
   "metadata": {
    "ExecuteTime": {
     "end_time": "2021-02-16T03:07:38.391934Z",
     "start_time": "2021-02-16T03:07:37.904083Z"
    }
   },
   "outputs": [
    {
     "data": {
      "text/html": [
       "<div>\n",
       "<style scoped>\n",
       "    .dataframe tbody tr th:only-of-type {\n",
       "        vertical-align: middle;\n",
       "    }\n",
       "\n",
       "    .dataframe tbody tr th {\n",
       "        vertical-align: top;\n",
       "    }\n",
       "\n",
       "    .dataframe thead th {\n",
       "        text-align: right;\n",
       "    }\n",
       "</style>\n",
       "<table border=\"1\" class=\"dataframe\">\n",
       "  <thead>\n",
       "    <tr style=\"text-align: right;\">\n",
       "      <th></th>\n",
       "      <th>PC1</th>\n",
       "      <th>PC2</th>\n",
       "      <th>PC3</th>\n",
       "      <th>PC4</th>\n",
       "      <th>PC5</th>\n",
       "      <th>PC6</th>\n",
       "    </tr>\n",
       "  </thead>\n",
       "  <tbody>\n",
       "    <tr>\n",
       "      <th>count</th>\n",
       "      <td>1.070994e+06</td>\n",
       "      <td>1.070994e+06</td>\n",
       "      <td>1.070994e+06</td>\n",
       "      <td>1.070994e+06</td>\n",
       "      <td>1.070994e+06</td>\n",
       "      <td>1.070994e+06</td>\n",
       "    </tr>\n",
       "    <tr>\n",
       "      <th>mean</th>\n",
       "      <td>4.843142e-16</td>\n",
       "      <td>-5.926529e-16</td>\n",
       "      <td>1.168304e-16</td>\n",
       "      <td>-5.927111e-16</td>\n",
       "      <td>2.568180e-15</td>\n",
       "      <td>-1.663751e-16</td>\n",
       "    </tr>\n",
       "    <tr>\n",
       "      <th>std</th>\n",
       "      <td>1.000000e+00</td>\n",
       "      <td>1.000000e+00</td>\n",
       "      <td>1.000000e+00</td>\n",
       "      <td>1.000000e+00</td>\n",
       "      <td>1.000000e+00</td>\n",
       "      <td>1.000000e+00</td>\n",
       "    </tr>\n",
       "    <tr>\n",
       "      <th>min</th>\n",
       "      <td>-1.473123e-01</td>\n",
       "      <td>-3.121770e+02</td>\n",
       "      <td>-4.693497e+02</td>\n",
       "      <td>-1.839580e+02</td>\n",
       "      <td>-3.911585e+02</td>\n",
       "      <td>-2.618055e+02</td>\n",
       "    </tr>\n",
       "    <tr>\n",
       "      <th>25%</th>\n",
       "      <td>-6.862403e-02</td>\n",
       "      <td>-9.947863e-02</td>\n",
       "      <td>-6.131603e-02</td>\n",
       "      <td>-1.448078e-01</td>\n",
       "      <td>-1.114987e-01</td>\n",
       "      <td>-7.018291e-02</td>\n",
       "    </tr>\n",
       "    <tr>\n",
       "      <th>50%</th>\n",
       "      <td>-1.944495e-02</td>\n",
       "      <td>-4.105366e-02</td>\n",
       "      <td>1.099318e-02</td>\n",
       "      <td>-2.396821e-02</td>\n",
       "      <td>-5.630886e-02</td>\n",
       "      <td>7.509532e-04</td>\n",
       "    </tr>\n",
       "    <tr>\n",
       "      <th>75%</th>\n",
       "      <td>1.192503e-02</td>\n",
       "      <td>2.033199e-02</td>\n",
       "      <td>1.500593e-01</td>\n",
       "      <td>5.505630e-02</td>\n",
       "      <td>3.222929e-02</td>\n",
       "      <td>1.235236e-01</td>\n",
       "    </tr>\n",
       "    <tr>\n",
       "      <th>max</th>\n",
       "      <td>5.229280e+02</td>\n",
       "      <td>6.036698e+02</td>\n",
       "      <td>6.141779e+02</td>\n",
       "      <td>3.898520e+02</td>\n",
       "      <td>4.478940e+02</td>\n",
       "      <td>4.230686e+02</td>\n",
       "    </tr>\n",
       "  </tbody>\n",
       "</table>\n",
       "</div>"
      ],
      "text/plain": [
       "                PC1           PC2           PC3           PC4           PC5  \\\n",
       "count  1.070994e+06  1.070994e+06  1.070994e+06  1.070994e+06  1.070994e+06   \n",
       "mean   4.843142e-16 -5.926529e-16  1.168304e-16 -5.927111e-16  2.568180e-15   \n",
       "std    1.000000e+00  1.000000e+00  1.000000e+00  1.000000e+00  1.000000e+00   \n",
       "min   -1.473123e-01 -3.121770e+02 -4.693497e+02 -1.839580e+02 -3.911585e+02   \n",
       "25%   -6.862403e-02 -9.947863e-02 -6.131603e-02 -1.448078e-01 -1.114987e-01   \n",
       "50%   -1.944495e-02 -4.105366e-02  1.099318e-02 -2.396821e-02 -5.630886e-02   \n",
       "75%    1.192503e-02  2.033199e-02  1.500593e-01  5.505630e-02  3.222929e-02   \n",
       "max    5.229280e+02  6.036698e+02  6.141779e+02  3.898520e+02  4.478940e+02   \n",
       "\n",
       "                PC6  \n",
       "count  1.070994e+06  \n",
       "mean  -1.663751e-16  \n",
       "std    1.000000e+00  \n",
       "min   -2.618055e+02  \n",
       "25%   -7.018291e-02  \n",
       "50%    7.509532e-04  \n",
       "75%    1.235236e-01  \n",
       "max    4.230686e+02  "
      ]
     },
     "execution_count": 37,
     "metadata": {},
     "output_type": "execute_result"
    }
   ],
   "source": [
    "data_pca.describe()"
   ]
  },
  {
   "cell_type": "markdown",
   "metadata": {
    "ExecuteTime": {
     "end_time": "2021-02-06T09:07:06.742152Z",
     "start_time": "2021-02-06T09:07:06.731717Z"
    }
   },
   "source": [
    "<b>Model 1: z score outliers</b>"
   ]
  },
  {
   "cell_type": "code",
   "execution_count": 38,
   "metadata": {
    "ExecuteTime": {
     "end_time": "2021-02-16T03:07:38.716875Z",
     "start_time": "2021-02-16T03:07:38.398996Z"
    }
   },
   "outputs": [],
   "source": [
    "p=2\n",
    "one_over_p=1/p\n",
    "score1=(((data_pca).abs()**p).sum(axis=1))**one_over_p"
   ]
  },
  {
   "cell_type": "markdown",
   "metadata": {
    "ExecuteTime": {
     "end_time": "2021-02-06T09:13:15.621298Z",
     "start_time": "2021-02-06T09:13:15.603600Z"
    }
   },
   "source": [
    "<b>Model 2: autoencoder error</b>"
   ]
  },
  {
   "cell_type": "code",
   "execution_count": 39,
   "metadata": {
    "ExecuteTime": {
     "end_time": "2021-02-16T03:07:50.306703Z",
     "start_time": "2021-02-16T03:07:38.725536Z"
    }
   },
   "outputs": [],
   "source": [
    "from keras.models import Model\n",
    "from keras.layers import Input, Dense"
   ]
  },
  {
   "cell_type": "code",
   "execution_count": 40,
   "metadata": {
    "ExecuteTime": {
     "end_time": "2021-02-16T03:14:13.704761Z",
     "start_time": "2021-02-16T03:07:50.311981Z"
    }
   },
   "outputs": [
    {
     "name": "stdout",
     "output_type": "stream",
     "text": [
      "Epoch 1/5\n",
      "33469/33469 [==============================] - 73s 2ms/step - loss: 1.0114 - val_loss: 0.9299\n",
      "Epoch 2/5\n",
      "33469/33469 [==============================] - 73s 2ms/step - loss: 0.8868 - val_loss: 0.9273\n",
      "Epoch 3/5\n",
      "33469/33469 [==============================] - 72s 2ms/step - loss: 0.7043 - val_loss: 0.9271\n",
      "Epoch 4/5\n",
      "33469/33469 [==============================] - 71s 2ms/step - loss: 0.6700 - val_loss: 0.9272\n",
      "Epoch 5/5\n",
      "33469/33469 [==============================] - 71s 2ms/step - loss: 0.8659 - val_loss: 0.9261\n"
     ]
    }
   ],
   "source": [
    "# placeholder for input\n",
    "data_in=Input(shape=(6,))\n",
    "# dimension of the encoded data\n",
    "encoded_dim=3\n",
    "# encoded representation of the data\n",
    "encoded=Dense(encoded_dim,activation='tanh')(data_in)\n",
    "# reconstruction of the input\n",
    "decoded=Dense(6,activation='tanh')(encoded)\n",
    "# this model maps the input data to the reconstructed data\n",
    "autoencoder=Model(data_in,decoded)\n",
    "\n",
    "autoencoder.compile(optimizer='adam',loss='mean_squared_error')\n",
    "\n",
    "autoencoder.fit(data_pca,data_pca,epochs=5,shuffle=True,validation_data=(data_pca,data_pca))\n",
    "\n",
    "pca_out=autoencoder.predict(data_pca)\n",
    "error=pca_out-data_pca\n",
    "p=2\n",
    "oop=1/p\n",
    "\n",
    "score2=((error.abs()**p).sum(axis=1))**oop"
   ]
  },
  {
   "cell_type": "markdown",
   "metadata": {},
   "source": [
    "<b>Make the final score as the average ranking</b>"
   ]
  },
  {
   "cell_type": "code",
   "execution_count": 41,
   "metadata": {
    "ExecuteTime": {
     "end_time": "2021-02-16T03:14:14.728961Z",
     "start_time": "2021-02-16T03:14:13.707797Z"
    }
   },
   "outputs": [],
   "source": [
    "scores=pd.DataFrame(score1)\n",
    "scores.columns=['score1']\n",
    "scores['score2']=score2\n",
    "scores['score1 rank']=scores['score1'].rank()\n",
    "scores['score2 rank']=scores['score2'].rank()\n",
    "scores['final']=(scores['score1 rank']+scores['score2 rank'])/2\n",
    "top_records=scores.sort_values(['final'],ascending=False).head(100).index"
   ]
  },
  {
   "cell_type": "code",
   "execution_count": 42,
   "metadata": {
    "ExecuteTime": {
     "end_time": "2021-02-16T03:14:14.744603Z",
     "start_time": "2021-02-16T03:14:14.732354Z"
    }
   },
   "outputs": [
    {
     "data": {
      "text/plain": [
       "Int64Index([ 917941,  565391,   85885,   67128,  684703,  690832,  915468,\n",
       "              44247,  565397,   39769, 1059882,  116646,  556608,  501142,\n",
       "                418,   33750,  918203,  738017,  957063, 1065869,  139725,\n",
       "             964933,  252833,  927226,   48220,  918857,   19241,  106680,\n",
       "             151043,  104410,  932860,  915469,  684562,  964947,  610681,\n",
       "             330290,  771149,  985596,  245572,  752487,   60468,  691878,\n",
       "             649674,   97083,  973911,  109066,  923882,  556910,  153069,\n",
       "             665157,   85883,  773561,   56135,  918204,  764311,  131602,\n",
       "             209713,   86945,  621688,  209711,  216947,  934792,  817348,\n",
       "             918304,   47983,  464854,  720599,   26242,  991516,  177645,\n",
       "             248664,  174538,   12075,  994818,  994816,  994814,  994812,\n",
       "             243058,  334956,   79816,  994820,  398277,  992070,  638992,\n",
       "             773734,  991782,  918919,  934749,   88388,    7053,  330291,\n",
       "              93878,  340899,  134442,  917059,   85961,  116645,  155892,\n",
       "             170441,  665156],\n",
       "           dtype='int64')"
      ]
     },
     "execution_count": 42,
     "metadata": {},
     "output_type": "execute_result"
    }
   ],
   "source": [
    "top_records"
   ]
  },
  {
   "cell_type": "code",
   "execution_count": 43,
   "metadata": {
    "ExecuteTime": {
     "end_time": "2021-02-16T03:14:16.329693Z",
     "start_time": "2021-02-16T03:14:14.751287Z"
    }
   },
   "outputs": [
    {
     "data": {
      "text/plain": [
       "(0.1, 2141173.0413904563)"
      ]
     },
     "execution_count": 43,
     "metadata": {},
     "output_type": "execute_result"
    },
    {
     "data": {
      "image/png": "[encoded data removed]",
      "text/plain": [
       "<Figure size 432x288 with 1 Axes>"
      ]
     },
     "metadata": {
      "needs_background": "light"
     },
     "output_type": "display_data"
    }
   ],
   "source": [
    "plt.hist(score1,bins=100,range=(0,1000))\n",
    "plt.yscale('log')\n",
    "plt.ylim(ymin=.1)"
   ]
  },
  {
   "cell_type": "code",
   "execution_count": 44,
   "metadata": {
    "ExecuteTime": {
     "end_time": "2021-02-16T03:14:17.752392Z",
     "start_time": "2021-02-16T03:14:16.335415Z"
    }
   },
   "outputs": [
    {
     "data": {
      "text/plain": [
       "(0.1, 2141948.7150050127)"
      ]
     },
     "execution_count": 44,
     "metadata": {},
     "output_type": "execute_result"
    },
    {
     "data": {
      "image/png": "[encoded data removed]",
      "text/plain": [
       "<Figure size 432x288 with 1 Axes>"
      ]
     },
     "metadata": {
      "needs_background": "light"
     },
     "output_type": "display_data"
    }
   ],
   "source": [
    "plt.hist(score2,bins=100,range=(0,1000))\n",
    "plt.yscale('log')\n",
    "plt.ylim(ymin=.1)"
   ]
  },
  {
   "cell_type": "code",
   "execution_count": 45,
   "metadata": {
    "ExecuteTime": {
     "end_time": "2021-02-16T03:14:19.851713Z",
     "start_time": "2021-02-16T03:14:17.765554Z"
    }
   },
   "outputs": [
    {
     "data": {
      "text/plain": [
       "<matplotlib.axes._subplots.AxesSubplot at 0x7fcc85878fd0>"
      ]
     },
     "execution_count": 45,
     "metadata": {},
     "output_type": "execute_result"
    },
    {
     "data": {
      "image/png": "[encoded data removed]",
      "text/plain": [
       "<Figure size 432x288 with 1 Axes>"
      ]
     },
     "metadata": {
      "needs_background": "light"
     },
     "output_type": "display_data"
    }
   ],
   "source": [
    "import seaborn as sns\n",
    "sns.distplot(scores['final'])"
   ]
  },
  {
   "cell_type": "code",
   "execution_count": 46,
   "metadata": {
    "ExecuteTime": {
     "end_time": "2021-02-16T03:14:20.320722Z",
     "start_time": "2021-02-16T03:14:19.855592Z"
    }
   },
   "outputs": [],
   "source": [
    "data_top_100_scores=scores.sort_values(['final'],ascending=False).head(100)"
   ]
  },
  {
   "cell_type": "code",
   "execution_count": 47,
   "metadata": {
    "ExecuteTime": {
     "end_time": "2021-02-16T03:14:20.369474Z",
     "start_time": "2021-02-16T03:14:20.323565Z"
    }
   },
   "outputs": [],
   "source": [
    "datanew=data_orig.iloc[top_records,:]\n",
    "data_top_100=datanew.join(data_top_100_scores[['score1 rank','score2 rank','final']])"
   ]
  },
  {
   "cell_type": "code",
   "execution_count": 48,
   "metadata": {
    "ExecuteTime": {
     "end_time": "2021-02-16T03:14:20.403726Z",
     "start_time": "2021-02-16T03:14:20.380266Z"
    }
   },
   "outputs": [],
   "source": [
    "data_top_100.to_csv('top_100_version1.csv')"
   ]
  },
  {
   "cell_type": "markdown",
   "metadata": {
    "ExecuteTime": {
     "end_time": "2021-02-13T03:13:47.438424Z",
     "start_time": "2021-02-13T03:13:47.424760Z"
    }
   },
   "source": [
    "<b>Algorithm modifications </b>"
   ]
  },
  {
   "cell_type": "code",
   "execution_count": 49,
   "metadata": {
    "ExecuteTime": {
     "end_time": "2021-02-16T03:14:20.428115Z",
     "start_time": "2021-02-16T03:14:20.413586Z"
    }
   },
   "outputs": [],
   "source": [
    "# p for score1: 1\n",
    "# p for score2: 3\n",
    "# number of PCs kept: 8\n",
    "# changes to the autoencoder: compress the data records from 8 to 4 dimensions and then expand them back to 8 dimensions."
   ]
  },
  {
   "cell_type": "code",
   "execution_count": 50,
   "metadata": {
    "ExecuteTime": {
     "end_time": "2021-02-16T03:20:55.462198Z",
     "start_time": "2021-02-16T03:14:20.439366Z"
    }
   },
   "outputs": [
    {
     "name": "stdout",
     "output_type": "stream",
     "text": [
      "Epoch 1/5\n",
      "33469/33469 [==============================] - 72s 2ms/step - loss: 1.1609 - val_loss: 0.9217\n",
      "Epoch 2/5\n",
      "33469/33469 [==============================] - 71s 2ms/step - loss: 0.9106 - val_loss: 0.9205\n",
      "Epoch 3/5\n",
      "33469/33469 [==============================] - 74s 2ms/step - loss: 1.1145 - val_loss: 0.9200\n",
      "Epoch 4/5\n",
      "33469/33469 [==============================] - 71s 2ms/step - loss: 1.0904 - val_loss: 0.9202\n",
      "Epoch 5/5\n",
      "33469/33469 [==============================] - 73s 2ms/step - loss: 0.7805 - val_loss: 0.9198\n"
     ]
    }
   ],
   "source": [
    "# Keep the top 8 PCs\n",
    "pca=PCA(n_components=8)\n",
    "princ_comps=pca.fit_transform(data)\n",
    "data_pca=pd.DataFrame(princ_comps,columns=['PC'+str(i) for i in range(1,pca.n_components_+1)])\n",
    "# Z-scale the data again\n",
    "pca_mean=data_pca.mean()\n",
    "pca_sd=data_pca.std()\n",
    "data_pca=(data_pca-pca_mean)/pca_sd\n",
    "# Score 1\n",
    "p=1\n",
    "one_over_p=1/p\n",
    "score1=(((data_pca).abs()**p).sum(axis=1))**one_over_p\n",
    "# Score 2\n",
    "data_in=Input(shape=(8,))\n",
    "encoded_dim=4\n",
    "encoded=Dense(encoded_dim,activation='tanh')(data_in)\n",
    "decoded=Dense(8,activation='tanh')(encoded)\n",
    "autoencoder=Model(data_in,decoded)\n",
    "autoencoder.compile(optimizer='adam',loss='mean_squared_error')\n",
    "autoencoder.fit(data_pca,data_pca,epochs=5,shuffle=True,validation_data=(data_pca,data_pca))\n",
    "pca_out=autoencoder.predict(data_pca)\n",
    "error=pca_out-data_pca\n",
    "p=3\n",
    "oop=1/p\n",
    "score2=((error.abs()**p).sum(axis=1))**oop"
   ]
  },
  {
   "cell_type": "code",
   "execution_count": 51,
   "metadata": {
    "ExecuteTime": {
     "end_time": "2021-02-16T03:20:56.831323Z",
     "start_time": "2021-02-16T03:20:55.469315Z"
    }
   },
   "outputs": [],
   "source": [
    "scores_2=pd.DataFrame(score1)\n",
    "scores_2.columns=['score1']\n",
    "scores_2['score2']=score2\n",
    "scores_2['score1 rank']=scores_2['score1'].rank()\n",
    "scores_2['score2 rank']=scores_2['score2'].rank()\n",
    "scores_2['final']=(scores_2['score1 rank']+scores_2['score2 rank'])/2\n",
    "top_records_2=scores_2.sort_values(['final'],ascending=False).head(100).index\n",
    "data_top_100_scores_2=scores_2.sort_values(['final'],ascending=False).head(100)\n",
    "datanew_2=data_orig.iloc[top_records_2,:]\n",
    "data_top_100_2=datanew_2.join(data_top_100_scores_2[['score1 rank','score2 rank','final']])\n",
    "data_top_100_2.to_csv('top_100_version2.csv')"
   ]
  },
  {
   "cell_type": "code",
   "execution_count": 62,
   "metadata": {
    "ExecuteTime": {
     "end_time": "2021-02-16T06:36:40.073648Z",
     "start_time": "2021-02-16T06:36:39.977498Z"
    }
   },
   "outputs": [
    {
     "name": "stderr",
     "output_type": "stream",
     "text": [
      "<ipython-input-62-91006208f10b>:2: SettingWithCopyWarning: \n",
      "A value is trying to be set on a copy of a slice from a DataFrame.\n",
      "Try using .loc[row_indexer,col_indexer] = value instead\n",
      "\n",
      "See the caveats in the documentation: https://pandas.pydata.org/pandas-docs/stable/user_guide/indexing.html#returning-a-view-versus-a-copy\n",
      "  data_top_100_2['RECORD'] = (data_top_100_2.index + 1).astype(int)\n"
     ]
    },
    {
     "data": {
      "text/html": [
       "<div>\n",
       "<style scoped>\n",
       "    .dataframe tbody tr th:only-of-type {\n",
       "        vertical-align: middle;\n",
       "    }\n",
       "\n",
       "    .dataframe tbody tr th {\n",
       "        vertical-align: top;\n",
       "    }\n",
       "\n",
       "    .dataframe thead th {\n",
       "        text-align: right;\n",
       "    }\n",
       "</style>\n",
       "<table border=\"1\" class=\"dataframe\">\n",
       "  <thead>\n",
       "    <tr style=\"text-align: right;\">\n",
       "      <th></th>\n",
       "      <th>r1</th>\n",
       "      <th>r2</th>\n",
       "      <th>r3</th>\n",
       "      <th>r4</th>\n",
       "      <th>r5</th>\n",
       "      <th>r6</th>\n",
       "      <th>r7</th>\n",
       "      <th>r8</th>\n",
       "      <th>r9</th>\n",
       "      <th>r1_zip5</th>\n",
       "      <th>...</th>\n",
       "      <th>r9_taxclass</th>\n",
       "      <th>r1_boro</th>\n",
       "      <th>r2_boro</th>\n",
       "      <th>r3_boro</th>\n",
       "      <th>r4_boro</th>\n",
       "      <th>r5_boro</th>\n",
       "      <th>r6_boro</th>\n",
       "      <th>r7_boro</th>\n",
       "      <th>r8_boro</th>\n",
       "      <th>r9_boro</th>\n",
       "    </tr>\n",
       "    <tr>\n",
       "      <th>RECORD</th>\n",
       "      <th></th>\n",
       "      <th></th>\n",
       "      <th></th>\n",
       "      <th></th>\n",
       "      <th></th>\n",
       "      <th></th>\n",
       "      <th></th>\n",
       "      <th></th>\n",
       "      <th></th>\n",
       "      <th></th>\n",
       "      <th></th>\n",
       "      <th></th>\n",
       "      <th></th>\n",
       "      <th></th>\n",
       "      <th></th>\n",
       "      <th></th>\n",
       "      <th></th>\n",
       "      <th></th>\n",
       "      <th></th>\n",
       "      <th></th>\n",
       "      <th></th>\n",
       "    </tr>\n",
       "  </thead>\n",
       "  <tbody>\n",
       "    <tr>\n",
       "      <th>565392</th>\n",
       "      <td>512.765210</td>\n",
       "      <td>328.137810</td>\n",
       "      <td>93.955048</td>\n",
       "      <td>861.816504</td>\n",
       "      <td>351.253292</td>\n",
       "      <td>98.049397</td>\n",
       "      <td>573.033241</td>\n",
       "      <td>267.519796</td>\n",
       "      <td>89.549858</td>\n",
       "      <td>508.653468</td>\n",
       "      <td>...</td>\n",
       "      <td>75.315340</td>\n",
       "      <td>461.863588</td>\n",
       "      <td>304.868676</td>\n",
       "      <td>54.703561</td>\n",
       "      <td>938.887683</td>\n",
       "      <td>553.119217</td>\n",
       "      <td>175.573719</td>\n",
       "      <td>726.151071</td>\n",
       "      <td>354.612473</td>\n",
       "      <td>134.353739</td>\n",
       "    </tr>\n",
       "    <tr>\n",
       "      <th>917942</th>\n",
       "      <td>0.535636</td>\n",
       "      <td>28.155462</td>\n",
       "      <td>14.607118</td>\n",
       "      <td>15.196011</td>\n",
       "      <td>323.460897</td>\n",
       "      <td>163.953849</td>\n",
       "      <td>26.318384</td>\n",
       "      <td>641.545643</td>\n",
       "      <td>389.987533</td>\n",
       "      <td>1.492310</td>\n",
       "      <td>...</td>\n",
       "      <td>328.352110</td>\n",
       "      <td>0.783165</td>\n",
       "      <td>26.629905</td>\n",
       "      <td>7.710688</td>\n",
       "      <td>19.701153</td>\n",
       "      <td>379.852884</td>\n",
       "      <td>194.948448</td>\n",
       "      <td>45.398378</td>\n",
       "      <td>752.629342</td>\n",
       "      <td>444.211547</td>\n",
       "    </tr>\n",
       "    <tr>\n",
       "      <th>85886</th>\n",
       "      <td>-0.141711</td>\n",
       "      <td>471.007306</td>\n",
       "      <td>735.572763</td>\n",
       "      <td>0.231539</td>\n",
       "      <td>501.836908</td>\n",
       "      <td>763.158673</td>\n",
       "      <td>0.094670</td>\n",
       "      <td>383.932975</td>\n",
       "      <td>700.222268</td>\n",
       "      <td>-0.165887</td>\n",
       "      <td>...</td>\n",
       "      <td>589.640230</td>\n",
       "      <td>-0.220949</td>\n",
       "      <td>467.560770</td>\n",
       "      <td>833.464564</td>\n",
       "      <td>0.025431</td>\n",
       "      <td>254.237338</td>\n",
       "      <td>624.123556</td>\n",
       "      <td>-0.037172</td>\n",
       "      <td>147.129116</td>\n",
       "      <td>581.421286</td>\n",
       "    </tr>\n",
       "    <tr>\n",
       "      <th>684704</th>\n",
       "      <td>209.994955</td>\n",
       "      <td>-0.159183</td>\n",
       "      <td>-0.138220</td>\n",
       "      <td>20.610045</td>\n",
       "      <td>-0.024656</td>\n",
       "      <td>-0.019945</td>\n",
       "      <td>13.647789</td>\n",
       "      <td>-0.040397</td>\n",
       "      <td>-0.031106</td>\n",
       "      <td>224.806257</td>\n",
       "      <td>...</td>\n",
       "      <td>-0.000002</td>\n",
       "      <td>274.043849</td>\n",
       "      <td>-0.163587</td>\n",
       "      <td>-0.088594</td>\n",
       "      <td>26.708414</td>\n",
       "      <td>-0.027038</td>\n",
       "      <td>-0.025624</td>\n",
       "      <td>23.584207</td>\n",
       "      <td>-0.038468</td>\n",
       "      <td>-0.037462</td>\n",
       "    </tr>\n",
       "    <tr>\n",
       "      <th>67129</th>\n",
       "      <td>81.640121</td>\n",
       "      <td>466.558209</td>\n",
       "      <td>133.630975</td>\n",
       "      <td>132.685538</td>\n",
       "      <td>481.468505</td>\n",
       "      <td>134.402892</td>\n",
       "      <td>91.448411</td>\n",
       "      <td>380.307753</td>\n",
       "      <td>127.312210</td>\n",
       "      <td>33.568954</td>\n",
       "      <td>...</td>\n",
       "      <td>107.119819</td>\n",
       "      <td>50.302149</td>\n",
       "      <td>463.144208</td>\n",
       "      <td>151.484805</td>\n",
       "      <td>32.554357</td>\n",
       "      <td>243.917715</td>\n",
       "      <td>109.908658</td>\n",
       "      <td>23.018042</td>\n",
       "      <td>145.739631</td>\n",
       "      <td>105.702266</td>\n",
       "    </tr>\n",
       "    <tr>\n",
       "      <th>...</th>\n",
       "      <td>...</td>\n",
       "      <td>...</td>\n",
       "      <td>...</td>\n",
       "      <td>...</td>\n",
       "      <td>...</td>\n",
       "      <td>...</td>\n",
       "      <td>...</td>\n",
       "      <td>...</td>\n",
       "      <td>...</td>\n",
       "      <td>...</td>\n",
       "      <td>...</td>\n",
       "      <td>...</td>\n",
       "      <td>...</td>\n",
       "      <td>...</td>\n",
       "      <td>...</td>\n",
       "      <td>...</td>\n",
       "      <td>...</td>\n",
       "      <td>...</td>\n",
       "      <td>...</td>\n",
       "      <td>...</td>\n",
       "      <td>...</td>\n",
       "    </tr>\n",
       "    <tr>\n",
       "      <th>79817</th>\n",
       "      <td>-0.234077</td>\n",
       "      <td>44.390307</td>\n",
       "      <td>69.502636</td>\n",
       "      <td>0.077180</td>\n",
       "      <td>47.529543</td>\n",
       "      <td>72.300283</td>\n",
       "      <td>-0.008507</td>\n",
       "      <td>36.316146</td>\n",
       "      <td>66.276789</td>\n",
       "      <td>-0.313138</td>\n",
       "      <td>...</td>\n",
       "      <td>55.714130</td>\n",
       "      <td>-0.278011</td>\n",
       "      <td>44.063547</td>\n",
       "      <td>78.829559</td>\n",
       "      <td>-0.012478</td>\n",
       "      <td>24.063145</td>\n",
       "      <td>59.119325</td>\n",
       "      <td>-0.063211</td>\n",
       "      <td>13.893586</td>\n",
       "      <td>55.021168</td>\n",
       "    </tr>\n",
       "    <tr>\n",
       "      <th>33564</th>\n",
       "      <td>-0.145511</td>\n",
       "      <td>35.583941</td>\n",
       "      <td>55.753402</td>\n",
       "      <td>0.226295</td>\n",
       "      <td>38.262848</td>\n",
       "      <td>58.208560</td>\n",
       "      <td>0.090426</td>\n",
       "      <td>29.140528</td>\n",
       "      <td>53.190682</td>\n",
       "      <td>-0.259404</td>\n",
       "      <td>...</td>\n",
       "      <td>44.692655</td>\n",
       "      <td>-0.223296</td>\n",
       "      <td>35.321581</td>\n",
       "      <td>63.252140</td>\n",
       "      <td>0.024142</td>\n",
       "      <td>19.368187</td>\n",
       "      <td>47.594701</td>\n",
       "      <td>-0.038243</td>\n",
       "      <td>11.143295</td>\n",
       "      <td>44.155048</td>\n",
       "    </tr>\n",
       "    <tr>\n",
       "      <th>6094</th>\n",
       "      <td>-0.199936</td>\n",
       "      <td>12.422920</td>\n",
       "      <td>19.592479</td>\n",
       "      <td>0.126282</td>\n",
       "      <td>12.906381</td>\n",
       "      <td>19.649361</td>\n",
       "      <td>0.029631</td>\n",
       "      <td>10.268423</td>\n",
       "      <td>18.773806</td>\n",
       "      <td>-0.134188</td>\n",
       "      <td>...</td>\n",
       "      <td>15.705827</td>\n",
       "      <td>-0.256919</td>\n",
       "      <td>12.329932</td>\n",
       "      <td>22.283033</td>\n",
       "      <td>-0.000419</td>\n",
       "      <td>6.521368</td>\n",
       "      <td>16.059859</td>\n",
       "      <td>-0.053586</td>\n",
       "      <td>3.909943</td>\n",
       "      <td>15.576805</td>\n",
       "    </tr>\n",
       "    <tr>\n",
       "      <th>56134</th>\n",
       "      <td>28.813052</td>\n",
       "      <td>54.947010</td>\n",
       "      <td>1.627784</td>\n",
       "      <td>10.640250</td>\n",
       "      <td>12.881033</td>\n",
       "      <td>0.387308</td>\n",
       "      <td>32.438356</td>\n",
       "      <td>44.917979</td>\n",
       "      <td>1.675550</td>\n",
       "      <td>15.320824</td>\n",
       "      <td>...</td>\n",
       "      <td>1.305212</td>\n",
       "      <td>17.666695</td>\n",
       "      <td>54.543051</td>\n",
       "      <td>1.929639</td>\n",
       "      <td>2.581670</td>\n",
       "      <td>6.508525</td>\n",
       "      <td>0.306788</td>\n",
       "      <td>8.125500</td>\n",
       "      <td>17.190519</td>\n",
       "      <td>1.379174</td>\n",
       "    </tr>\n",
       "    <tr>\n",
       "      <th>2</th>\n",
       "      <td>80.032072</td>\n",
       "      <td>14.476590</td>\n",
       "      <td>4.049227</td>\n",
       "      <td>22.085202</td>\n",
       "      <td>2.552784</td>\n",
       "      <td>0.699158</td>\n",
       "      <td>89.652153</td>\n",
       "      <td>11.941798</td>\n",
       "      <td>3.980206</td>\n",
       "      <td>45.870785</td>\n",
       "      <td>...</td>\n",
       "      <td>3.246255</td>\n",
       "      <td>49.308730</td>\n",
       "      <td>14.368584</td>\n",
       "      <td>4.673052</td>\n",
       "      <td>5.392397</td>\n",
       "      <td>1.275732</td>\n",
       "      <td>0.561827</td>\n",
       "      <td>22.564715</td>\n",
       "      <td>4.551319</td>\n",
       "      <td>3.292858</td>\n",
       "    </tr>\n",
       "  </tbody>\n",
       "</table>\n",
       "<p>100 rows × 45 columns</p>\n",
       "</div>"
      ],
      "text/plain": [
       "                r1          r2          r3          r4          r5  \\\n",
       "RECORD                                                               \n",
       "565392  512.765210  328.137810   93.955048  861.816504  351.253292   \n",
       "917942    0.535636   28.155462   14.607118   15.196011  323.460897   \n",
       "85886    -0.141711  471.007306  735.572763    0.231539  501.836908   \n",
       "684704  209.994955   -0.159183   -0.138220   20.610045   -0.024656   \n",
       "67129    81.640121  466.558209  133.630975  132.685538  481.468505   \n",
       "...            ...         ...         ...         ...         ...   \n",
       "79817    -0.234077   44.390307   69.502636    0.077180   47.529543   \n",
       "33564    -0.145511   35.583941   55.753402    0.226295   38.262848   \n",
       "6094     -0.199936   12.422920   19.592479    0.126282   12.906381   \n",
       "56134    28.813052   54.947010    1.627784   10.640250   12.881033   \n",
       "2        80.032072   14.476590    4.049227   22.085202    2.552784   \n",
       "\n",
       "                r6          r7          r8          r9     r1_zip5  ...  \\\n",
       "RECORD                                                              ...   \n",
       "565392   98.049397  573.033241  267.519796   89.549858  508.653468  ...   \n",
       "917942  163.953849   26.318384  641.545643  389.987533    1.492310  ...   \n",
       "85886   763.158673    0.094670  383.932975  700.222268   -0.165887  ...   \n",
       "684704   -0.019945   13.647789   -0.040397   -0.031106  224.806257  ...   \n",
       "67129   134.402892   91.448411  380.307753  127.312210   33.568954  ...   \n",
       "...            ...         ...         ...         ...         ...  ...   \n",
       "79817    72.300283   -0.008507   36.316146   66.276789   -0.313138  ...   \n",
       "33564    58.208560    0.090426   29.140528   53.190682   -0.259404  ...   \n",
       "6094     19.649361    0.029631   10.268423   18.773806   -0.134188  ...   \n",
       "56134     0.387308   32.438356   44.917979    1.675550   15.320824  ...   \n",
       "2         0.699158   89.652153   11.941798    3.980206   45.870785  ...   \n",
       "\n",
       "        r9_taxclass     r1_boro     r2_boro     r3_boro     r4_boro  \\\n",
       "RECORD                                                                \n",
       "565392    75.315340  461.863588  304.868676   54.703561  938.887683   \n",
       "917942   328.352110    0.783165   26.629905    7.710688   19.701153   \n",
       "85886    589.640230   -0.220949  467.560770  833.464564    0.025431   \n",
       "684704    -0.000002  274.043849   -0.163587   -0.088594   26.708414   \n",
       "67129    107.119819   50.302149  463.144208  151.484805   32.554357   \n",
       "...             ...         ...         ...         ...         ...   \n",
       "79817     55.714130   -0.278011   44.063547   78.829559   -0.012478   \n",
       "33564     44.692655   -0.223296   35.321581   63.252140    0.024142   \n",
       "6094      15.705827   -0.256919   12.329932   22.283033   -0.000419   \n",
       "56134      1.305212   17.666695   54.543051    1.929639    2.581670   \n",
       "2          3.246255   49.308730   14.368584    4.673052    5.392397   \n",
       "\n",
       "           r5_boro     r6_boro     r7_boro     r8_boro     r9_boro  \n",
       "RECORD                                                              \n",
       "565392  553.119217  175.573719  726.151071  354.612473  134.353739  \n",
       "917942  379.852884  194.948448   45.398378  752.629342  444.211547  \n",
       "85886   254.237338  624.123556   -0.037172  147.129116  581.421286  \n",
       "684704   -0.027038   -0.025624   23.584207   -0.038468   -0.037462  \n",
       "67129   243.917715  109.908658   23.018042  145.739631  105.702266  \n",
       "...            ...         ...         ...         ...         ...  \n",
       "79817    24.063145   59.119325   -0.063211   13.893586   55.021168  \n",
       "33564    19.368187   47.594701   -0.038243   11.143295   44.155048  \n",
       "6094      6.521368   16.059859   -0.053586    3.909943   15.576805  \n",
       "56134     6.508525    0.306788    8.125500   17.190519    1.379174  \n",
       "2         1.275732    0.561827   22.564715    4.551319    3.292858  \n",
       "\n",
       "[100 rows x 45 columns]"
      ]
     },
     "execution_count": 62,
     "metadata": {},
     "output_type": "execute_result"
    }
   ],
   "source": [
    "data_top_100_2 = data.iloc[top_records_2]\n",
    "data_top_100_2['RECORD'] = (data_top_100_2.index + 1).astype(int)\n",
    "data_top_100_2.set_index('RECORD',inplace=True)\n",
    "data_top_100_2"
   ]
  },
  {
   "cell_type": "code",
   "execution_count": 63,
   "metadata": {
    "ExecuteTime": {
     "end_time": "2021-02-16T06:36:59.529490Z",
     "start_time": "2021-02-16T06:36:56.651548Z"
    }
   },
   "outputs": [
    {
     "data": {
      "image/png": "[encoded data removed]",
      "text/plain": [
       "<Figure size 1440x720 with 2 Axes>"
      ]
     },
     "metadata": {
      "needs_background": "light"
     },
     "output_type": "display_data"
    }
   ],
   "source": [
    "data_top_100_2_abs = data_top_100_2.abs()\n",
    "data_heatmap = data_top_100_2.abs().head(10)\n",
    "plt.rcParams['figure.figsize'] = (20,10)\n",
    "ax = sns.heatmap(data_heatmap, center=0, vmin=0, vmax=50, cmap='Reds')\n",
    "ax.xaxis.tick_top()\n",
    "ax.xaxis.set_label_position('top')\n",
    "plt.xticks(rotation=90)\n",
    "plt.savefig('heatmap.png')"
   ]
  },
  {
   "cell_type": "code",
   "execution_count": 73,
   "metadata": {
    "ExecuteTime": {
     "end_time": "2021-02-16T06:46:00.638582Z",
     "start_time": "2021-02-16T06:46:00.624997Z"
    }
   },
   "outputs": [
    {
     "name": "stdout",
     "output_type": "stream",
     "text": [
      "In the modified top 100 records, 93.0% are the same as before.\n"
     ]
    }
   ],
   "source": [
    "proportion=(len(top_records_2)-len(top_records_2.difference(top_records)))/len(top_records_2)*100\n",
    "print(f'In the modified top 100 records, {proportion}% are the same as before.')"
   ]
  },
  {
   "cell_type": "code",
   "execution_count": null,
   "metadata": {},
   "outputs": [],
   "source": []
  }
 ],
 "metadata": {
  "kernelspec": {
   "display_name": "Python 3",
   "language": "python",
   "name": "python3"
  },
  "language_info": {
   "codemirror_mode": {
    "name": "ipython",
    "version": 3
   },
   "file_extension": ".py",
   "mimetype": "text/x-python",
   "name": "python",
   "nbconvert_exporter": "python",
   "pygments_lexer": "ipython3",
   "version": "3.8.3"
  },
  "varInspector": {
   "cols": {
    "lenName": 16,
    "lenType": 16,
    "lenVar": 40
   },
   "kernels_config": {
    "python": {
     "delete_cmd_postfix": "",
     "delete_cmd_prefix": "del ",
     "library": "var_list.py",
     "varRefreshCmd": "print(var_dic_list())"
    },
    "r": {
     "delete_cmd_postfix": ") ",
     "delete_cmd_prefix": "rm(",
     "library": "var_list.r",
     "varRefreshCmd": "cat(var_dic_list()) "
    }
   },
   "types_to_exclude": [
    "module",
    "function",
    "builtin_function_or_method",
    "instance",
    "_Feature"
   ],
   "window_display": false
  }
 },
 "nbformat": 4,
 "nbformat_minor": 4
}
