{
 "cells": [
  {
   "cell_type": "code",
   "execution_count": 1,
   "metadata": {
    "ExecuteTime": {
     "end_time": "2021-03-05T03:18:53.646137Z",
     "start_time": "2021-03-05T03:18:47.897578Z"
    }
   },
   "outputs": [],
   "source": [
    "# 爬虫\n",
    "import sqlite3\n",
    "import sys\n",
    "from pprint import pprint\n",
    "import webbrowser\n",
    "import subprocess\n",
    "import random\n",
    "import pandas as pd\n",
    "import numpy as np\n",
    "import requests\n",
    "import re\n",
    "\n",
    "# 词云\n",
    "import  jieba   #jieba分词包  \n",
    "from PIL import Image #图片的处理\n",
    "import matplotlib.pyplot as plt # 主要进行词云绘图\n",
    "from wordcloud import WordCloud  #词云\n",
    "import matplotlib.colors as colors\n",
    "from collections import Counter\n",
    "import xlwt\n",
    "import docx"
   ]
  },
  {
   "cell_type": "code",
   "execution_count": 2,
   "metadata": {
    "ExecuteTime": {
     "end_time": "2021-03-05T03:18:54.748730Z",
     "start_time": "2021-03-05T03:18:54.606888Z"
    }
   },
   "outputs": [
    {
     "data": {
      "text/plain": [
       "0    https://www.xiaohongshu.com/discovery/item/5f9...\n",
       "1    https://www.xiaohongshu.com/discovery/item/5f9...\n",
       "2    https://www.xiaohongshu.com/discovery/item/5f9...\n",
       "3    https://www.xiaohongshu.com/discovery/item/5f9...\n",
       "4    https://www.xiaohongshu.com/discovery/item/5fa...\n",
       "Name: 笔记链接, dtype: object"
      ]
     },
     "execution_count": 2,
     "metadata": {},
     "output_type": "execute_result"
    }
   ],
   "source": [
    "urls=pd.read_excel('谷物麦片_test.xls')['笔记链接']\n",
    "urls.head()"
   ]
  },
  {
   "cell_type": "code",
   "execution_count": 3,
   "metadata": {
    "ExecuteTime": {
     "end_time": "2021-03-02T05:50:09.159943Z",
     "start_time": "2021-03-02T05:50:09.154935Z"
    }
   },
   "outputs": [],
   "source": [
    "#def pyGoogleSearch(url):\n",
    "#    for i in range(len(urls)):\n",
    "#        webbrowser.open(urls[i])\n",
    "#        input('Hit return to continue to next record')"
   ]
  },
  {
   "cell_type": "code",
   "execution_count": 4,
   "metadata": {
    "ExecuteTime": {
     "end_time": "2021-03-02T05:50:09.178507Z",
     "start_time": "2021-03-02T05:50:09.169553Z"
    }
   },
   "outputs": [],
   "source": [
    "# pyGoogleSearch(urls)"
   ]
  },
  {
   "cell_type": "code",
   "execution_count": 1,
   "metadata": {
    "ExecuteTime": {
     "end_time": "2021-04-14T02:27:20.115158Z",
     "start_time": "2021-04-14T02:27:20.090222Z"
    }
   },
   "outputs": [],
   "source": [
    "info={\n",
    "    \"User-Agent\":\"Mozilla/5.0 (Macintosh; Intel Mac OS X 10.15; rv:87.0) Gecko/20100101 Firefox/87.0\",\n",
    "    \"Cookie\":\"_data_chl=key=BaiduOrginal; Hm_lvt_c6d9cdbaf0b464645ff2ee32a71ea1ae=1618112965,1618112967,1618206527,1618365003; Hm_lvt_ed4e8df159c27d4f0ce1a965612b94dd=1615947686,1615951323,1615960564; Hm_lpvt_c6d9cdbaf0b464645ff2ee32a71ea1ae=1618365003; Hm_lpvt_ed4e8df159c27d4f0ce1a965612b94dd=1618365366; User=UserId=3299e1743fb236c7&Password=1599909c62eb6f2b26f7add5fa56ce27&ChildId=2126\"\n",
    "}"
   ]
  },
  {
   "cell_type": "markdown",
   "metadata": {},
   "source": [
    "### Test with single URL"
   ]
  },
  {
   "cell_type": "code",
   "execution_count": 6,
   "metadata": {
    "ExecuteTime": {
     "end_time": "2021-03-05T03:19:14.994043Z",
     "start_time": "2021-03-05T03:19:14.730000Z"
    }
   },
   "outputs": [],
   "source": [
    "test_url=urls[0]\n",
    "test_data = requests.get(test_url, headers = info).text"
   ]
  },
  {
   "cell_type": "code",
   "execution_count": 7,
   "metadata": {
    "ExecuteTime": {
     "end_time": "2021-03-05T03:19:24.114225Z",
     "start_time": "2021-03-05T03:19:24.079850Z"
    }
   },
   "outputs": [
    {
     "data": {
      "text/plain": [
       "'<!doctype html><html><head><meta charset=\"utf-8\"><meta name=\"description\" content=\"我家中常备的就是麦片啦！早上可以泡牛奶做早餐吃 下午可以整点花式下午茶 当作晚餐吃饱腹又代餐 全能选手没错啦～ 最近入手了新麦片尝尝鲜 周末在家做了高颜值的猕猴桃燕麦杯当下午茶吃 有颜又好吃 - 也给\"><meta name=\"keywords\" content=\"麦片,燕麦,猕猴桃,桃仁,谷物麦片,水果燕麦,早餐,夏威夷果,酸奶,代餐,谷物,美食,美食教程\"><meta name=\"shenma-site-verification\" content=\"3abbfaac4345ca4daaa5ad2282115298_1476771175\"><meta name=\"360-site-verification\" content=\"86dcc68a445e2ed8034e85f0ba88a83a\"><meta name=\"sogou-site-verification\" content=\"s2WSHhCpCV\"><meta name=\"google-site-verification\" content=\"jxL_cAIumLKHmN3VWfOMPoXtw_7nK1pZZRdJRYMC0oA\"><meta name=\"viewport\" content=\"width=device-width,initial-scale=1,minimum-scale=1,maximum-scale=1,user-scalable=no,viewport-fit=cover\"><meta name=\"format-detection\" content=\"telephone=no,address=no,email=no\"><meta name=\"mobileOptimized\" content=\"width\"><meta name=\"HandheldFriendly\" content=\"true\"><meta name=\"applicable-device\" content=\"pc,mobile\"><meta http-equiv=\"X-UA-Compatible\" content=\"IE=Edge,chrome=1\"><meta http-equiv=\"Cache-Control\" content=\"no-transform\"><meta http-equiv=\"Cache-Control\" content=\"no-siteapp\"><meta name=\"apple-mobile-web-app-capable\" content=\"yes\"><meta name=\"apple-mobile-web-app-status-bar-style\" content=\"black\"><title>宅家自制水果燕麦杯！健康谷物麦片太可了～_麦片_燕麦_猕猴桃_桃仁_谷物麦片_水果燕麦_早餐_夏威夷果_酸奶_代餐_谷物_美食_美食教程</title><script>window.__ERROR_TRACKER_BUFFER__=[],window.onerror=function(o,n,R,_,e){window.__ERROR_TRACKER_BUFFER__.push({error:e||o,extra:{source:n,lineno:R,colno:_}}),(new Image).src=\"//www.xiaohongshu.com/eplDKtpK4k.txt?l=\"+location.href+\"&a=\"+o+\"&b=\"+n+\"&c=\"+R+\"&d=\"+_+\"&e=\"+e.stack}</script><script>(function(n){var o={};function r(e){if(o[e])return o[e].exports;var t=o[e]={i:e,l:!1,exports:{}};return n[e].call(t.exports,t,t.exports,r),t.l=!0,t.exports}return r.m=n,r.c=o,r.d=function(e,t,n){r.o(e,t)||Object.defineProperty(e,t,{enumerable:!0,get:n})},r.r=function(e){\"undefined\"!=typeof Symbol&&Symbol.toStringTag&&Object.defineProperty(e,Symbol.toStringTag,{value:\"Module\"}),Object.defineProperty(e,\"__esModule\",{value:!0})},r.t=function(t,e){if(1&e&&(t=r(t)),8&e)return t;if(4&e&&\"object\"==typeof t&&t&&t.__esModule)return t;var n=Object.create(null);if(r.r(n),Object.defineProperty(n,\"default\",{enumerable:!0,value:t}),2&e&&\"string\"!=typeof t)for(var o in t)r.d(n,o,function(e){return t[e]}.bind(null,o));return n},r.n=function(e){var t=e&&e.__esModule?function(){return e.default}:function(){return e};return r.d(t,\"a\",t),t},r.o=function(e,t){return Object.prototype.hasOwnProperty.call(e,t)},r.p=\"\",r(r.s=1)})([function(e,t,n){\"use strict\";Object.defineProperty(t,\"__esModule\",{value:!0}),t.default=function(e){return!(e instanceof HTMLHeadElement||e instanceof HTMLMetaElement||e instanceof HTMLLinkElement||e instanceof HTMLStyleElement||e instanceof HTMLScriptElement||e instanceof SVGElement||\"none\"===getComputedStyle(e).display)}},function(e,t,n){\"use strict\";Object.defineProperty(t,\"__esModule\",{value:!0}),t.observe=function(){if(window.MutationObserver&&window.performance&&performance.timing){window.__FP__=0,window.__FCP__=0,window.__FMP_OBSERVED_POINTS__=[];var i,o=void(window.__FULLY_LOADED__=0),a=0,r={},d=void 0,_=void 0;(o=new MutationObserver(function(e){e.forEach(function(e){var n;\"childList\"===e.type?function e(t){for(var n,o=0;o<t.length;o++)n=void 0,n=t[o],0===window.__FP__&&n instanceof HTMLBodyElement&&(window.__FP__=Date.now()-performance.timing.navigationStart),0===window.__FCP__&&(0,l.default)(n)&&(window.__FCP__=Date.now()-performance.timing.navigationStart),n instanceof HTMLElement&&(0,f.default)(n)&&(u(a,!1),function(e){function t(){u(e)}n.addEventListener(\"load\",t),n.addEventListener(\"error\",t)}(a++)),n.childNodes&&e(n.childNodes)}(e.addedNodes):\"attributes\"===e.type&&(n=e.target,(0,f.default)(n)&&(u(a,!1),function(e){function t(){u(e)}n.addEventListener(\"load\",t),n.addEventListener(\"error\",t)}(a++)))}),function(){if(document.body){var e=document.body.clientHeight,t=window.innerHeight,n=(0,c.default)(document.body),o=window.__FMP_OBSERVED_POINTS__.length,r=window.__FMP_OBSERVED_POINTS__[o-1],i=r?n-r.allElementsNumber:n;window.__FMP_OBSERVED_POINTS__.push({t:Date.now()-performance.timing.navigationStart,layoutSignificance:i/Math.max(1,e/t),allElementsNumber:n})}}()})).observe(document,{childList:!0,subtree:!0,attributes:!0,attributeFilter:[\"src\"]}),i=XMLHttpRequest.prototype.send,XMLHttpRequest.prototype.send=function(){var e,t=this;u(a,!1),e=a++,t.addEventListener(\"readystatechange\",function(){4===t.readyState&&u(e)});for(var n=arguments.length,o=Array(n),r=0;r<n;r++)o[r]=arguments[r];return i.apply(this,o)}}function u(e){var t=!(1<arguments.length&&void 0!==arguments[1])||arguments[1];if(0===window.__FULLY_LOADED__)if(t)r[e].end=Date.now(),Object.keys(r).some(function(e){return!r[e].end})||(_=e,d=setTimeout(function(){o.disconnect();var e=r[_].end;window.__FULLY_LOADED__=e-performance.timing.navigationStart,window.__FMP_OBSERVED_POINTS__=window.__FMP_OBSERVED_POINTS__.filter(function(e){return e.t<=window.__FULLY_LOADED__});var t=new CustomEvent(\"__fullyloaded__\",{detail:{firstPaint:window.__FP__,firstContentfulPaint:window.__FCP__,fullyLoaded:window.__FULLY_LOADED__,observedPoints:window.__FMP_OBSERVED_POINTS__}});window.dispatchEvent(t)},2e3));else{var n=Date.now();r[e]={start:n},d&&n<r[_].end+2e3&&clearTimeout(d)}}};var f=o(n(2)),c=o(n(3)),l=o(n(4));function o(e){return e&&e.__esModule?e:{default:e}}},function(e,t,n){\"use strict\";Object.defineProperty(t,\"__esModule\",{value:!0}),t.default=function(e){return\"IMG\"===e.tagName&&e.src}},function(e,t,n){\"use strict\";Object.defineProperty(t,\"__esModule\",{value:!0}),t.default=function e(t){if(!(0,r.default)(t))return 0;var n=1;if(t.children)for(var o=0;o<t.children.length;o++)n+=e(t.children[o]);return n};var o,r=(o=n(0))&&o.__esModule?o:{default:o}},function(e,t,n){\"use strict\";Object.defineProperty(t,\"__esModule\",{value:!0}),t.default=function(e){return!!(e instanceof Text&&e.parentNode&&(0,r.default)(e.parentNode)&&e.textContent&&e.textContent.trim())};var o,r=(o=n(0))&&o.__esModule?o:{default:o}}]).observe()</script><link rel=\"dns-prefetch\" href=\"//fe-static.xhscdn.com\"><link rel=\"dns-prefetch\" href=\"//fe-img-qc.xhscdn.com\"><link rel=\"dns-prefetch\" href=\"//ci.xiaohongshu.com\"><link rel=\"dns-prefetch\" href=\"//qimg.xiaohongshu.com\"><link rel=\"dns-prefetch\" href=\"//img.xiaohongshu.com\"><link rel=\"dns-prefetch\" href=\"//fe-video-qc.xhscdn.com\"><link rel=\"preconnect\" href=\"//fe-static.xhscdn.com\" crossorigin><link rel=\"preconnect\" href=\"//fe-img-qc.xhscdn.com\" crossorigin><link rel=\"preconnect\" href=\"//ci.xiaohongshu.com\" crossorigin><link rel=\"preconnect\" href=\"//qimg.xiaohongshu.com\" crossorigin><link rel=\"preconnect\" href=\"//img.xiaohongshu.com\" crossorigin><link rel=\"preconnect\" href=\"//fe-video-qc.xhscdn.com\" crossorigin><script>window.__GLOBAL_SENTRY_CONFIG__={filepath:\"//fe-static.xhscdn.com/formula-static/@xhs/error-tracker@0.4.0/dist/ErrorTracker.js\",release:\"frieza@1.73.7\",dsn:\"https://af4ebe72809f42239f80365812d9622e@fesentry.xiaohongshu.com/75\"}</script><script src=\"//fe-static.xhscdn.com/formula-static/@xhs/error-tracker@0.4.0/dist/ErrorTracker.js\" crossorigin async></script><link href=\"//fe-static.xhscdn.com/formula-static/frieza/public/css/2.26b9dff.css\" rel=\"stylesheet\" crossorigin><script src=\"//fe-static.xhscdn.com/formula-static/@xhs/launcher@2.7.0/dist/Launcher.js\" defer=\"defer\"></script><script src=\"//fe-static.xhscdn.com/formula-static/frieza/public/js/runtime.90f50ad.js\" defer=\"defer\" crossorigin xhs-integrity=\"\"></script><script src=\"//fe-static.xhscdn.com/formula-static/frieza/public/js/vendor~main.967322b.js\" defer=\"defer\" crossorigin xhs-integrity=\"\"></script><script src=\"//fe-static.xhscdn.com/formula-static/frieza/public/js/main.800fc7a.js\" defer=\"defer\" crossorigin xhs-integrity=\"\"></script>\\n  <script type=\"application/ld+json\">\\n    {\\n      \"@context\": \"http://schema.org/\",\\n      \"@type\": \"WebPage\",\\n      \"name\": \"宅家自制水果燕麦杯！健康谷物麦片太可了～\",\\n      \"headline\": \"宅家自制水果燕麦杯！健康谷物麦片太可了～\",\\n      \"description\": \"我家中常备的就是麦片啦！早上可以泡牛奶做早餐吃 下午可以整点花式下午茶 当作晚餐吃饱腹又代餐👀 全能选手没错啦～ 最近入手了新麦片尝尝鲜 周末在家做了高颜值的猕猴桃燕麦杯当下午茶吃 🌈有颜又好吃\",\\n      \"image\": \"https://ci.xiaohongshu.com/9bd3de36-cba2-120c-115c-4e58bb?imageMogr2/format/jpg/quality/92/auto-orient/strip/crop/450x300/gravity/center\",\\n      \"datePublished\": \"2020-11-01T18:15:00\",\\n      \"uploadDate\": \"2020-11-01T18:15:00\",\\n      \"author\": {\\n        \"@type\": \"Person\",\\n        \"name\": \"谁说咩咩只吃草\",\\n        \"image\": \"https://img.xiaohongshu.com/avatar/5f3a1bd095609300015c5ce0.jpg@240w_240h_90q_1e_1c_1x.jpg\",\\n        \"url\": \"https://www.xiaohongshu.com/user/profile/55d003d6e4b1cf12ec693eed\"\\n      }\\n    }\\n  </script>\\n  \\n  <meta property=\"og:type\" content=\"article\">\\n  <meta property=\"og:site_name\" content=\"小红书\">\\n  <meta property=\"og:title\" content=\"宅家自制水果燕麦杯！健康谷物麦片太可了～\">\\n  <meta property=\"og:description\" content=\"我家中常备的就是麦片啦！早上可以泡牛奶做早餐吃 下午可以整点花式下午茶 当作晚餐吃饱腹又代餐👀 全能选手没错啦～ 最近入手了新麦片尝尝鲜 周末在家做了高颜值的猕猴桃燕麦杯当下午茶吃 🌈有颜又好吃\">\\n  <meta property=\"og:image\" content=\"https://ci.xiaohongshu.com/9bd3de36-cba2-120c-115c-4e58bb?imageMogr2/format/jpg/quality/92/auto-orient/strip/crop/450x300/gravity/center\">\\n  <meta property=\"og:url\" content=\"https://www.xiaohongshu.com/discovery/item/5f9e8ab1000000000101e85e\">\\n  \\n    <meta tag=\"sg:type\" content=\"undefined\">\\n    <meta tag=\"sg:tag\" content=\"undefined\">\\n  </head><body><div data-server-rendered=\"true\"><div id=\"app\"><div class=\"pc-wrapper notranslate\" data-v-ce3ea7a2><!----> <div class=\"header red-header light-theme\" data-v-5350ef6b data-v-ce3ea7a2><div class=\"RED\" data-v-5350ef6b><div class=\"logo\" data-v-5350ef6b><img src=\"https://ci.xiaohongshu.com/49fd555a-b46b-49fd-b5a5-053fb4a536dc\" class=\"light-logo\" data-v-5350ef6b></div></div> <ul class=\"navigation-bar\" data-v-5350ef6b><li class=\"search-bar\" data-v-5350ef6b></li> <a href=\"/\" owl=\"home_tab\" class=\"active\" data-v-5350ef6b><li class=\"navigation-item home\" data-v-5350ef6b>Home</li></a> <!----> <!----> <!----> <a href=\"/protocols/news\" class=\"active\" data-v-5350ef6b><li class=\"navigation-item news-center\" data-v-5350ef6b>News Center</li></a> <a href=\"/protocols/about\" class=\"active\" data-v-5350ef6b><li class=\"navigation-item about-us\" data-v-5350ef6b>About Us</li></a> <!----> <!----> <a href=\"/discovery/item/5f9e8ab1000000000101e85e\" class=\"active translation-wrapper active\" data-v-5350ef6b><li class=\"navigation-item translation\" data-v-5350ef6b>\\n        EN\\n        <img src=\"//ci.xiaohongshu.com/76a60a7d-5a51-48dc-bdec-7110fd2d6c34\" class=\"arrow\" data-v-5350ef6b></li> <div class=\"drop-up-wrapper english\" data-v-5350ef6b><div class=\"drop-up-content\" data-v-5350ef6b><span data-v-5350ef6b>中文(简体)</span></div></div></a></ul></div> <div class=\"card-note pc-container\" data-v-40f57ace data-v-ce3ea7a2><div class=\"left-card\" data-v-40f57ace><!----> <div class=\"bottom-gap\" data-v-fade3006 data-v-40f57ace><div class=\"carousel\" style=\"width:500px;height:500px;\" data-v-fade3006><ul class=\"slide\" data-v-fade3006><li style=\"width:500px;height:500px;\" data-v-fade3006><span class=\"inner\" style=\"background-image:url(//ci.xiaohongshu.com/9bd3de36-cba2-120c-115c-4e58bbfa8c51?imageView2/2/w/1080/format/jpg);\" data-v-fade3006></span></li><li style=\"width:500px;height:500px;display:none;\" data-v-fade3006><span class=\"inner\" style=\"background-image:url(//ci.xiaohongshu.com/c75e6306-7868-9e44-2d80-c9241bf1a5a7?imageView2/2/w/1080/format/jpg);\" data-v-fade3006></span></li><li style=\"width:500px;height:500px;display:none;\" data-v-fade3006><span class=\"inner\" style=\"background-image:url(//ci.xiaohongshu.com/c8afa04a-a0e0-1fd1-bc82-c97887109b5e?imageView2/2/w/1080/format/jpg);\" data-v-fade3006></span></li><li style=\"width:500px;height:500px;display:none;\" data-v-fade3006><span class=\"inner\" style=\"background-image:url(//ci.xiaohongshu.com/9e958596-f952-a509-b86c-578944139444?imageView2/2/w/1080/format/jpg);\" data-v-fade3006></span></li><li style=\"width:500px;height:500px;display:none;\" data-v-fade3006><span class=\"inner\" style=\"background-image:url(//ci.xiaohongshu.com/0eede995-e72f-b5de-a04c-656e4a99fbf4?imageView2/2/w/1080/format/jpg);\" data-v-fade3006></span></li><li style=\"width:500px;height:500px;display:none;\" data-v-fade3006><span class=\"inner\" style=\"background-image:url(//ci.xiaohongshu.com/02e28b90-abf3-161c-296a-90fa6d0d0b7e?imageView2/2/w/1080/format/jpg);\" data-v-fade3006></span></li><li style=\"width:500px;height:500px;display:none;\" data-v-fade3006><span class=\"inner\" style=\"background-image:url(//ci.xiaohongshu.com/5563116b-8fcf-19cc-e896-f7d41edf7ab0?imageView2/2/w/1080/format/jpg);\" data-v-fade3006></span></li><li style=\"width:500px;height:500px;display:none;\" data-v-fade3006><span class=\"inner\" style=\"background-image:url(//ci.xiaohongshu.com/687e66a0-c697-3fb7-0906-aac580ae7b38?imageView2/2/w/1080/format/jpg);\" data-v-fade3006></span></li><li style=\"width:500px;height:500px;display:none;\" data-v-fade3006><span class=\"inner\" style=\"background-image:url(//ci.xiaohongshu.com/b2d681cd-6a18-0227-d4db-a5744304269e?imageView2/2/w/1080/format/jpg);\" data-v-fade3006></span></li></ul> <div class=\"change-pic\" style=\"display:;\" data-v-fade3006><span class=\"left\" data-v-fade3006></span> <span class=\"right\" data-v-fade3006></span></div> <div class=\"pages\" style=\"display:none;\" data-v-fade3006><span data-v-fade3006>1</span> <i data-v-fade3006>/</i> <span data-v-fade3006>9</span></div></div> <div class=\"small-pic\" style=\"width:500px;display:;\" data-v-fade3006><div class=\"each active\" data-v-fade3006><i class=\"img\" style=\"background-image:url(https://ci.xiaohongshu.com/9bd3de36-cba2-120c-115c-4e58bbfa8c51?imageView2/2/w/100/h/100/q/75);\" data-v-fade3006></i></div><div class=\"each\" data-v-fade3006><i class=\"img\" style=\"background-image:url(https://ci.xiaohongshu.com/c75e6306-7868-9e44-2d80-c9241bf1a5a7?imageView2/2/w/100/h/100/q/75);\" data-v-fade3006></i></div><div class=\"each\" data-v-fade3006><i class=\"img\" style=\"background-image:url(https://ci.xiaohongshu.com/c8afa04a-a0e0-1fd1-bc82-c97887109b5e?imageView2/2/w/100/h/100/q/75);\" data-v-fade3006></i></div><div class=\"each\" data-v-fade3006><i class=\"img\" style=\"background-image:url(https://ci.xiaohongshu.com/9e958596-f952-a509-b86c-578944139444?imageView2/2/w/100/h/100/q/75);\" data-v-fade3006></i></div><div class=\"each\" data-v-fade3006><i class=\"img\" style=\"background-image:url(https://ci.xiaohongshu.com/0eede995-e72f-b5de-a04c-656e4a99fbf4?imageView2/2/w/100/h/100/q/75);\" data-v-fade3006></i></div><div class=\"each\" data-v-fade3006><i class=\"img\" style=\"background-image:url(https://ci.xiaohongshu.com/02e28b90-abf3-161c-296a-90fa6d0d0b7e?imageView2/2/w/100/h/100/q/75);\" data-v-fade3006></i></div><div class=\"each\" data-v-fade3006><i class=\"img\" style=\"background-image:url(https://ci.xiaohongshu.com/5563116b-8fcf-19cc-e896-f7d41edf7ab0?imageView2/2/w/100/h/100/q/75);\" data-v-fade3006></i></div><div class=\"each\" data-v-fade3006><i class=\"img\" style=\"background-image:url(https://ci.xiaohongshu.com/687e66a0-c697-3fb7-0906-aac580ae7b38?imageView2/2/w/100/h/100/q/75);\" data-v-fade3006></i></div><div class=\"each\" data-v-fade3006><i class=\"img\" style=\"background-image:url(https://ci.xiaohongshu.com/b2d681cd-6a18-0227-d4db-a5744304269e?imageView2/2/w/100/h/100/q/75);\" data-v-fade3006></i></div></div></div> <div class=\"note-top\" data-v-40f57ace><h1 class=\"title\" data-v-40f57ace>\\n        宅家自制水果燕麦杯！健康谷物麦片太可了～\\n        <!----></h1></div> <main data-v-40f57ace><div class=\"content\" data-v-5cfd3375><p data-v-5cfd3375>我家中常备的就是麦片啦！早上可以泡牛奶做早餐吃 下午可以整点花式下午茶 当作晚餐吃饱腹又代餐👀 全能选手没错啦～</p><p data-v-5cfd3375>最近入手了新麦片尝尝鲜 周末在家做了高颜值的猕猴桃燕麦杯当下午茶吃 🌈有颜又好吃 </p><p data-v-5cfd3375>-</p><p data-v-5cfd3375>👉🏻也给大家分享我的麦片杯做法哦</p><p data-v-5cfd3375>1⃣️先在杯底铺上一层麦片</p><p data-v-5cfd3375>️2⃣️把切片的猕猴桃固定在杯壁上一圈</p><p data-v-5cfd3375>3⃣️倒入酸奶后顶层再铺上麦片，最后用薄荷叶点缀下</p><p data-v-5cfd3375>-</p><p data-v-5cfd3375>简单几步手残也能Get同款哦！🥳我用的是欣善怡家的麦片做的燕麦杯 🤍是来源于新西兰进口的麦片 包含多种谷物🥖和果干 🍒营养丰富好吃不会胖！</p><p data-v-5cfd3375>-</p><p data-v-5cfd3375>💛燕麦夏威夷果口味：里面有香脆好吃的夏威夷果哦！还添加了膨化小麦，吃起来像爆米花一样松脆，越吃越上瘾<img src=\"//ci.xiaohongshu.com/xy_emo_r_wa.png?v=2\" class=\"shubaobao-expression\" data-v-5cfd3375></p><p data-v-5cfd3375>💙椰果扁桃仁果味：椰果和扁桃仁的神仙组合！干吃或者搭配酸奶、牛奶一起吃都好吃 清爽不油腻 脆爽可口～<img src=\"//ci.xiaohongshu.com/xy_emo_r_xieyan.png?v=2\" class=\"shubaobao-expression\" data-v-5cfd3375></p><p data-v-5cfd3375>-</p><p data-v-5cfd3375>没有什么比这样一碗好吃又不胖的燕麦杯更诱人的啦！专治嘴馋，可要家中常囤啦！👻</p></div> <!----></main> <div data-v-40f57ace></div> <div class=\"tags bottom-gap-add\" data-v-4504fe44 data-v-40f57ace><div class=\"operation-block\" data-v-4504fe44><span class=\"like\" data-v-4504fe44><i data-v-4504fe44></i> <span data-v-4504fe44>106</span></span> <span class=\"comment\" data-v-4504fe44><i data-v-4504fe44></i> <span data-v-4504fe44>12</span></span> <span class=\"star\" data-v-4504fe44><i data-v-4504fe44></i> <span data-v-4504fe44>64</span></span></div> <div class=\"publish-date\" data-v-4504fe44><span data-v-4504fe44>发布于 2020-11-01 18:15</span> <!----></div></div> <div class=\"bottom-info\" data-v-2fb963a3 data-v-40f57ace><span class=\"author-info\" data-v-f9dff6ea data-v-2fb963a3><div class=\"left\" data-v-f9dff6ea><div class=\"left-img\" data-v-f9dff6ea><img src=\"https://img.xiaohongshu.com/avatar/5f3a1bd095609300015c5ce0.jpg@240w_240h_90q_1e_1c_1x.jpg\" style=\"width:30px;height:30px;\" data-v-f9dff6ea> <i class=\"border-img\" style=\"width:30px;height:30px;\" data-v-f9dff6ea></i></div> <i class=\"add-v\" style=\"display:none;\" data-v-f9dff6ea></i></div> <!----> <div class=\"right\" style=\"width:82px;\" data-v-f9dff6ea><h6 class=\"name-bottom\" style=\"font-size:14px;\" data-v-f9dff6ea>\\n\\t\\t\\t\\t谁说咩咩只吃草\\n\\t\\t\\t</h6></div></span> <div class=\"share-item\" data-v-2fb963a3><span class=\"apart-border\" data-v-2fb963a3></span> <p class=\"title\" data-v-2fb963a3>一起来分享给朋友们看看吧：</p> <div class=\"all-icons\" data-v-2fb963a3><a owl=\"wx_share\" class=\"icon wechat-item\" data-v-2fb963a3></a> <a target=\"_blank\" owl=\"web_share\" class=\"icon weibo-item\" data-v-2fb963a3></a> <a target=\"_blank\" owl=\"qq_share\" class=\"icon qq-item\" data-v-2fb963a3></a></div></div> <div class=\"codeShow\" style=\"display:none;\" data-v-2fb963a3><img src=\"\" data-v-2fb963a3> <p data-v-2fb963a3>分享至微信</p></div></div> <div class=\"all-tip\" data-v-478bd9c0 data-v-40f57ace><h3 class=\"top\" data-v-478bd9c0><i class=\"remain\" data-v-478bd9c0></i> <span class=\"brief\" data-v-478bd9c0>笔记评论</span></h3> <div class=\"content\" data-v-478bd9c0><div class=\"comment\" data-v-03ec1510 data-v-478bd9c0><div class=\"comment-info\" data-v-03ec1510><div class=\"user\" data-v-03ec1510><div class=\"avatar avatar avatar-XS type-outline\" data-v-a06d2678 data-v-03ec1510><div class=\"avatar-img cube-image normal-image\" data-v-2a09b966 data-v-a06d2678><!----> <img alt=\"吹ccc_小红书\" src=\"https://img.xiaohongshu.com/avatar/5989ca39b46c5d6cda439d27.jpg@80w_80h_90q_1e_1c_1x.jpg\" data-v-2a09b966> </div> <!----></div> <div class=\"user-info\" data-v-03ec1510><h4 class=\"user-nickname\" data-v-03ec1510><a href=\"/user/profile/555431dfe58d135298f549a7\" data-v-03ec1510>吹ccc</a></h4> <span class=\"publish-time\" data-v-03ec1510>2020-11-04</span></div></div> <div class=\"comment-stats\" data-v-03ec1510><span class=\"likes\" data-v-03ec1510><i data-v-03ec1510><svg width=\"17px\" height=\"17px\" viewBox=\"0 0 17 17\" version=\"1.1\" xmlns=\"http://www.w3.org/2000/svg\" xmlns:xlink=\"http://www.w3.org/1999/xlink\" data-v-69afff82 data-v-03ec1510><g id=\"Page-1\" stroke=\"none\" stroke-width=\"1\" fill=\"none\" fill-rule=\"evenodd\" stroke-linecap=\"round\" stroke-linejoin=\"round\" data-v-69afff82><g id=\"2\" transform=\"translate(-752.000000, -1386.000000)\" stroke=\"#999999\" stroke-width=\"1.5\" data-v-69afff82><g id=\"Group-30\" transform=\"translate(300.000000, 1333.000000)\" data-v-69afff82><g id=\"Group-19\" transform=\"translate(0.000000, 42.000000)\" data-v-69afff82><g id=\"Group-17\" data-v-69afff82><g id=\"Group-16\" data-v-69afff82><g id=\"Group-15\" data-v-69afff82><g id=\"Group-11\" data-v-69afff82><g id=\"Group-55\" transform=\"translate(453.000000, 10.000000)\" data-v-69afff82><g id=\"Group-53\" transform=\"translate(0.000000, 2.000000)\" data-v-69afff82><path d=\"M2.31606717,13.7040937 L2.31606717,5.9695405 C2.31606717,5.40265829 2.75411161,4.94309345 3.29384494,4.94309345 L3.38868939,4.94309345 C4.83042272,4.94309345 5.99837828,3.71536214 5.99837828,2.20213581 L5.99837828,1.70149255 C5.99837828,0.820873901 6.67842272,0.107136335 7.51637828,0.107136335 C8.35482272,0.107136335 9.03437828,0.820873901 9.03437828,1.70149255 L9.03437828,4.24270637 C9.03437828,4.62935701 9.33308939,4.94309345 9.70024494,4.94309345 L11.9823783,4.92974296 C13.9384227,4.90560939 15.3679338,6.86145571 14.8414005,8.83989517 L13.5634449,13.2722568 C13.3136227,14.138498 12.5534005,14.7310542 11.6919783,14.7310542 L3.29384494,14.7310542 C2.75411161,14.7310542 2.31606717,14.2709759 2.31606717,13.7040937 Z\" id=\"Stroke-1\" data-v-69afff82></path> <path d=\"M0.329956055,5.3489996 L0.329956055,14.5916443\" id=\"Stroke-3\" data-v-69afff82></path></g></g></g></g></g></g></g></g></g></g></svg></i> <!----></span> <span class=\"reply-action\" data-v-03ec1510>回复</span></div></div> <p class=\"content\" data-v-547ccd48 data-v-03ec1510>太会了<img src=\"//ci.xiaohongshu.com/xy_emo_touxiao.png?v=2\" class=\"icon\" data-v-547ccd48></p> <!----></div><div class=\"comment\" data-v-03ec1510 data-v-478bd9c0><div class=\"comment-info\" data-v-03ec1510><div class=\"user\" data-v-03ec1510><div class=\"avatar avatar avatar-XS type-outline\" data-v-a06d2678 data-v-03ec1510><div class=\"avatar-img cube-image normal-image\" data-v-2a09b966 data-v-a06d2678><!----> <img alt=\"戳戳梵鱼_小红书\" src=\"https://img.xiaohongshu.com/avatar/5f17bf50eda385000151221a.jpg@80w_80h_90q_1e_1c_1x.jpg\" data-v-2a09b966> </div> <!----></div> <div class=\"user-info\" data-v-03ec1510><h4 class=\"user-nickname\" data-v-03ec1510><a href=\"/user/profile/5c1a4d3800000000070070ea\" data-v-03ec1510>戳戳梵鱼</a></h4> <span class=\"publish-time\" data-v-03ec1510>2020-11-03</span></div></div> <div class=\"comment-stats\" data-v-03ec1510><span class=\"likes\" data-v-03ec1510><i data-v-03ec1510><svg width=\"17px\" height=\"17px\" viewBox=\"0 0 17 17\" version=\"1.1\" xmlns=\"http://www.w3.org/2000/svg\" xmlns:xlink=\"http://www.w3.org/1999/xlink\" data-v-69afff82 data-v-03ec1510><g id=\"Page-1\" stroke=\"none\" stroke-width=\"1\" fill=\"none\" fill-rule=\"evenodd\" stroke-linecap=\"round\" stroke-linejoin=\"round\" data-v-69afff82><g id=\"2\" transform=\"translate(-752.000000, -1386.000000)\" stroke=\"#999999\" stroke-width=\"1.5\" data-v-69afff82><g id=\"Group-30\" transform=\"translate(300.000000, 1333.000000)\" data-v-69afff82><g id=\"Group-19\" transform=\"translate(0.000000, 42.000000)\" data-v-69afff82><g id=\"Group-17\" data-v-69afff82><g id=\"Group-16\" data-v-69afff82><g id=\"Group-15\" data-v-69afff82><g id=\"Group-11\" data-v-69afff82><g id=\"Group-55\" transform=\"translate(453.000000, 10.000000)\" data-v-69afff82><g id=\"Group-53\" transform=\"translate(0.000000, 2.000000)\" data-v-69afff82><path d=\"M2.31606717,13.7040937 L2.31606717,5.9695405 C2.31606717,5.40265829 2.75411161,4.94309345 3.29384494,4.94309345 L3.38868939,4.94309345 C4.83042272,4.94309345 5.99837828,3.71536214 5.99837828,2.20213581 L5.99837828,1.70149255 C5.99837828,0.820873901 6.67842272,0.107136335 7.51637828,0.107136335 C8.35482272,0.107136335 9.03437828,0.820873901 9.03437828,1.70149255 L9.03437828,4.24270637 C9.03437828,4.62935701 9.33308939,4.94309345 9.70024494,4.94309345 L11.9823783,4.92974296 C13.9384227,4.90560939 15.3679338,6.86145571 14.8414005,8.83989517 L13.5634449,13.2722568 C13.3136227,14.138498 12.5534005,14.7310542 11.6919783,14.7310542 L3.29384494,14.7310542 C2.75411161,14.7310542 2.31606717,14.2709759 2.31606717,13.7040937 Z\" id=\"Stroke-1\" data-v-69afff82></path> <path d=\"M0.329956055,5.3489996 L0.329956055,14.5916443\" id=\"Stroke-3\" data-v-69afff82></path></g></g></g></g></g></g></g></g></g></g></svg></i> <!----></span> <span class=\"reply-action\" data-v-03ec1510>回复</span></div></div> <p class=\"content\" data-v-547ccd48 data-v-03ec1510>我🐛啦！！</p> <!----></div><div class=\"comment\" data-v-03ec1510 data-v-478bd9c0><div class=\"comment-info\" data-v-03ec1510><div class=\"user\" data-v-03ec1510><div class=\"avatar avatar avatar-XS type-outline\" data-v-a06d2678 data-v-03ec1510><div class=\"avatar-img cube-image normal-image\" data-v-2a09b966 data-v-a06d2678><!----> <img alt=\"是小彩虹呀_小红书\" src=\"https://img.xiaohongshu.com/avatar/5facd6a18e6b95000111ebe7.jpg@80w_80h_90q_1e_1c_1x.jpg\" data-v-2a09b966> </div> <!----></div> <div class=\"user-info\" data-v-03ec1510><h4 class=\"user-nickname\" data-v-03ec1510><a href=\"/user/profile/548103a2d6e4a9617b302172\" data-v-03ec1510>是小彩虹呀</a></h4> <span class=\"publish-time\" data-v-03ec1510>2020-11-03</span></div></div> <div class=\"comment-stats\" data-v-03ec1510><span class=\"likes\" data-v-03ec1510><i data-v-03ec1510><svg width=\"17px\" height=\"17px\" viewBox=\"0 0 17 17\" version=\"1.1\" xmlns=\"http://www.w3.org/2000/svg\" xmlns:xlink=\"http://www.w3.org/1999/xlink\" data-v-69afff82 data-v-03ec1510><g id=\"Page-1\" stroke=\"none\" stroke-width=\"1\" fill=\"none\" fill-rule=\"evenodd\" stroke-linecap=\"round\" stroke-linejoin=\"round\" data-v-69afff82><g id=\"2\" transform=\"translate(-752.000000, -1386.000000)\" stroke=\"#999999\" stroke-width=\"1.5\" data-v-69afff82><g id=\"Group-30\" transform=\"translate(300.000000, 1333.000000)\" data-v-69afff82><g id=\"Group-19\" transform=\"translate(0.000000, 42.000000)\" data-v-69afff82><g id=\"Group-17\" data-v-69afff82><g id=\"Group-16\" data-v-69afff82><g id=\"Group-15\" data-v-69afff82><g id=\"Group-11\" data-v-69afff82><g id=\"Group-55\" transform=\"translate(453.000000, 10.000000)\" data-v-69afff82><g id=\"Group-53\" transform=\"translate(0.000000, 2.000000)\" data-v-69afff82><path d=\"M2.31606717,13.7040937 L2.31606717,5.9695405 C2.31606717,5.40265829 2.75411161,4.94309345 3.29384494,4.94309345 L3.38868939,4.94309345 C4.83042272,4.94309345 5.99837828,3.71536214 5.99837828,2.20213581 L5.99837828,1.70149255 C5.99837828,0.820873901 6.67842272,0.107136335 7.51637828,0.107136335 C8.35482272,0.107136335 9.03437828,0.820873901 9.03437828,1.70149255 L9.03437828,4.24270637 C9.03437828,4.62935701 9.33308939,4.94309345 9.70024494,4.94309345 L11.9823783,4.92974296 C13.9384227,4.90560939 15.3679338,6.86145571 14.8414005,8.83989517 L13.5634449,13.2722568 C13.3136227,14.138498 12.5534005,14.7310542 11.6919783,14.7310542 L3.29384494,14.7310542 C2.75411161,14.7310542 2.31606717,14.2709759 2.31606717,13.7040937 Z\" id=\"Stroke-1\" data-v-69afff82></path> <path d=\"M0.329956055,5.3489996 L0.329956055,14.5916443\" id=\"Stroke-3\" data-v-69afff82></path></g></g></g></g></g></g></g></g></g></g></svg></i> <!----></span> <span class=\"reply-action\" data-v-03ec1510>回复</span></div></div> <p class=\"content\" data-v-547ccd48 data-v-03ec1510>咩总给我们做一杯～</p> <!----></div><div class=\"comment\" data-v-03ec1510 data-v-478bd9c0><div class=\"comment-info\" data-v-03ec1510><div class=\"user\" data-v-03ec1510><div class=\"avatar avatar avatar-XS type-outline\" data-v-a06d2678 data-v-03ec1510><div class=\"avatar-img cube-image normal-image\" data-v-2a09b966 data-v-a06d2678><!----> <img alt=\"是敏哥啊_小红书\" src=\"https://img.xiaohongshu.com/avatar/5f65745590c68500019819de.jpg@80w_80h_90q_1e_1c_1x.jpg\" data-v-2a09b966> </div> <!----></div> <div class=\"user-info\" data-v-03ec1510><h4 class=\"user-nickname\" data-v-03ec1510><a href=\"/user/profile/574a67a4346094163613e0fc\" data-v-03ec1510>是敏哥啊</a></h4> <span class=\"publish-time\" data-v-03ec1510>2020-11-03</span></div></div> <div class=\"comment-stats\" data-v-03ec1510><span class=\"likes\" data-v-03ec1510><i data-v-03ec1510><svg width=\"17px\" height=\"17px\" viewBox=\"0 0 17 17\" version=\"1.1\" xmlns=\"http://www.w3.org/2000/svg\" xmlns:xlink=\"http://www.w3.org/1999/xlink\" data-v-69afff82 data-v-03ec1510><g id=\"Page-1\" stroke=\"none\" stroke-width=\"1\" fill=\"none\" fill-rule=\"evenodd\" stroke-linecap=\"round\" stroke-linejoin=\"round\" data-v-69afff82><g id=\"2\" transform=\"translate(-752.000000, -1386.000000)\" stroke=\"#999999\" stroke-width=\"1.5\" data-v-69afff82><g id=\"Group-30\" transform=\"translate(300.000000, 1333.000000)\" data-v-69afff82><g id=\"Group-19\" transform=\"translate(0.000000, 42.000000)\" data-v-69afff82><g id=\"Group-17\" data-v-69afff82><g id=\"Group-16\" data-v-69afff82><g id=\"Group-15\" data-v-69afff82><g id=\"Group-11\" data-v-69afff82><g id=\"Group-55\" transform=\"translate(453.000000, 10.000000)\" data-v-69afff82><g id=\"Group-53\" transform=\"translate(0.000000, 2.000000)\" data-v-69afff82><path d=\"M2.31606717,13.7040937 L2.31606717,5.9695405 C2.31606717,5.40265829 2.75411161,4.94309345 3.29384494,4.94309345 L3.38868939,4.94309345 C4.83042272,4.94309345 5.99837828,3.71536214 5.99837828,2.20213581 L5.99837828,1.70149255 C5.99837828,0.820873901 6.67842272,0.107136335 7.51637828,0.107136335 C8.35482272,0.107136335 9.03437828,0.820873901 9.03437828,1.70149255 L9.03437828,4.24270637 C9.03437828,4.62935701 9.33308939,4.94309345 9.70024494,4.94309345 L11.9823783,4.92974296 C13.9384227,4.90560939 15.3679338,6.86145571 14.8414005,8.83989517 L13.5634449,13.2722568 C13.3136227,14.138498 12.5534005,14.7310542 11.6919783,14.7310542 L3.29384494,14.7310542 C2.75411161,14.7310542 2.31606717,14.2709759 2.31606717,13.7040937 Z\" id=\"Stroke-1\" data-v-69afff82></path> <path d=\"M0.329956055,5.3489996 L0.329956055,14.5916443\" id=\"Stroke-3\" data-v-69afff82></path></g></g></g></g></g></g></g></g></g></g></svg></i> <!----></span> <span class=\"reply-action\" data-v-03ec1510>回复</span></div></div> <p class=\"content\" data-v-547ccd48 data-v-03ec1510>想吃！</p> <!----></div><div class=\"comment\" data-v-03ec1510 data-v-478bd9c0><div class=\"comment-info\" data-v-03ec1510><div class=\"user\" data-v-03ec1510><div class=\"avatar avatar avatar-XS type-outline\" data-v-a06d2678 data-v-03ec1510><div class=\"avatar-img cube-image normal-image\" data-v-2a09b966 data-v-a06d2678><!----> <img alt=\"李亚子✨_小红书\" src=\"https://img.xiaohongshu.com/avatar/5ffb108797391873baf89047.jpg@80w_80h_90q_1e_1c_1x.jpg\" data-v-2a09b966> </div> <!----></div> <div class=\"user-info\" data-v-03ec1510><h4 class=\"user-nickname\" data-v-03ec1510><a href=\"/user/profile/58f47a335e87e71f6d1d704e\" data-v-03ec1510>李亚子✨</a></h4> <span class=\"publish-time\" data-v-03ec1510>2020-11-02</span></div></div> <div class=\"comment-stats\" data-v-03ec1510><span class=\"likes\" data-v-03ec1510><i data-v-03ec1510><svg width=\"17px\" height=\"17px\" viewBox=\"0 0 17 17\" version=\"1.1\" xmlns=\"http://www.w3.org/2000/svg\" xmlns:xlink=\"http://www.w3.org/1999/xlink\" data-v-69afff82 data-v-03ec1510><g id=\"Page-1\" stroke=\"none\" stroke-width=\"1\" fill=\"none\" fill-rule=\"evenodd\" stroke-linecap=\"round\" stroke-linejoin=\"round\" data-v-69afff82><g id=\"2\" transform=\"translate(-752.000000, -1386.000000)\" stroke=\"#999999\" stroke-width=\"1.5\" data-v-69afff82><g id=\"Group-30\" transform=\"translate(300.000000, 1333.000000)\" data-v-69afff82><g id=\"Group-19\" transform=\"translate(0.000000, 42.000000)\" data-v-69afff82><g id=\"Group-17\" data-v-69afff82><g id=\"Group-16\" data-v-69afff82><g id=\"Group-15\" data-v-69afff82><g id=\"Group-11\" data-v-69afff82><g id=\"Group-55\" transform=\"translate(453.000000, 10.000000)\" data-v-69afff82><g id=\"Group-53\" transform=\"translate(0.000000, 2.000000)\" data-v-69afff82><path d=\"M2.31606717,13.7040937 L2.31606717,5.9695405 C2.31606717,5.40265829 2.75411161,4.94309345 3.29384494,4.94309345 L3.38868939,4.94309345 C4.83042272,4.94309345 5.99837828,3.71536214 5.99837828,2.20213581 L5.99837828,1.70149255 C5.99837828,0.820873901 6.67842272,0.107136335 7.51637828,0.107136335 C8.35482272,0.107136335 9.03437828,0.820873901 9.03437828,1.70149255 L9.03437828,4.24270637 C9.03437828,4.62935701 9.33308939,4.94309345 9.70024494,4.94309345 L11.9823783,4.92974296 C13.9384227,4.90560939 15.3679338,6.86145571 14.8414005,8.83989517 L13.5634449,13.2722568 C13.3136227,14.138498 12.5534005,14.7310542 11.6919783,14.7310542 L3.29384494,14.7310542 C2.75411161,14.7310542 2.31606717,14.2709759 2.31606717,13.7040937 Z\" id=\"Stroke-1\" data-v-69afff82></path> <path d=\"M0.329956055,5.3489996 L0.329956055,14.5916443\" id=\"Stroke-3\" data-v-69afff82></path></g></g></g></g></g></g></g></g></g></g></svg></i> <!----></span> <span class=\"reply-action\" data-v-03ec1510>回复</span></div></div> <p class=\"content\" data-v-547ccd48 data-v-03ec1510>明天早上就想吃这个！</p> <!----></div> <div owl=\"comment/bottom_total_link\" class=\"bottom\" data-v-478bd9c0>查看更多评论</div></div> <div class=\"pop-over-container pop-over\" style=\"display:none;\" data-v-1fedfdcc data-v-478bd9c0><div class=\"download-app\" data-v-1fedfdcc><i class=\"sweet-potato\" data-v-1fedfdcc></i> <div class=\"image-box\" data-v-1fedfdcc><img src=\"//ci.xiaohongshu.com/0b84da4e-3984-4603-a2f2-72a806e5494d\" data-v-1fedfdcc></div> <p data-v-1fedfdcc>扫码下载小红书app</p> <p data-v-1fedfdcc>与全世界的小红薯一起标记生活</p> <div class=\"close\" data-v-1fedfdcc>关闭</div></div></div></div> <div data-v-40f57ace></div></div> <div class=\"right-card\" data-v-40f57ace><div class=\"author-item bottom-gap\" data-v-fde2e53a data-v-40f57ace><h3 class=\"title\" data-v-fde2e53a>笔记作者</h3> <span class=\"author-info\" data-v-f9dff6ea data-v-fde2e53a><div class=\"left\" data-v-f9dff6ea><div class=\"left-img\" data-v-f9dff6ea><img src=\"https://img.xiaohongshu.com/avatar/5f3a1bd095609300015c5ce0.jpg@240w_240h_90q_1e_1c_1x.jpg\" style=\"width:50px;height:50px;\" data-v-f9dff6ea> <i class=\"border-img\" style=\"width:50px;height:50px;\" data-v-f9dff6ea></i></div> <i class=\"add-v\" style=\"display:none;\" data-v-f9dff6ea></i></div> <div class=\"right\" style=\"width:190px;\" data-v-f9dff6ea><h6 class=\"name\" style=\"font-size:16px;\" data-v-f9dff6ea><span class=\"name-detail\" data-v-f9dff6ea>谁说咩咩只吃草</span> <i class=\"level-detail\" style=\"background-image:url(//s4.xiaohongshu.com/static/throne/10f_290e3f6dab2053d6de8b71dfa1d3b472.png);\" data-v-f9dff6ea></i></h6> <p class=\"brief\" style=\"font-size:14px;\" data-v-f9dff6ea> </p></div> <!----></span> <div class=\"card-info\" data-v-fde2e53a><div class=\"inner\" data-v-fde2e53a><span data-v-fde2e53a>笔记</span> <span class=\"note\" data-v-fde2e53a>618</span></div> <div class=\"inner\" data-v-fde2e53a><span data-v-fde2e53a>粉丝</span> <span class=\"fans\" data-v-fde2e53a>3.3万</span></div> <div class=\"inner\" data-v-fde2e53a><span data-v-fde2e53a>获赞与收藏</span> <span class=\"collect\" data-v-fde2e53a>15.3万</span></div></div></div> <div data-v-40f57ace></div> <!----> <div class=\"bottom-gap\" data-v-14b480ad data-v-40f57ace><div class=\"panel-card\" style=\"display:;\" data-v-14b480ad><h3 data-v-14b480ad>相关笔记</h3> <div class=\"panel-list\" style=\"max-height:400px;overflow-y:auto\" data-v-14b480ad><a href=\"/discovery/item/5f7c5497000000000101c076\" owl=\"panel_card\" class=\"inner\" data-v-14b480ad><div class=\"picture\" data-v-14b480ad><span class=\"photo\" style=\"background-image:url(https://ci.xiaohongshu.com/61e22380-ae6c-3eb6-b40d-34c9c27bf7d7?imageView2/2/w/200/h/200/q/75);\" data-v-14b480ad></span> <i class=\"normal\" data-v-14b480ad></i></div> <div class=\"content\" data-v-14b480ad><p class=\"desc\" data-v-14b480ad>南京探店｜首家铜锣烧专卖店｜明瓦廊美食街</p> <div class=\"info\" data-v-14b480ad><img src=\"https://fe-img-qc.xhscdn.com/f5cc7873d03de9847b7509fa70fd04f344e65239\" class=\"like-icon\" data-v-14b480ad> <span class=\"counts\" data-v-14b480ad>2831</span></div></div></a><a href=\"/discovery/item/5f8c158c00000000010023ab\" owl=\"panel_card\" class=\"inner\" data-v-14b480ad><div class=\"picture\" data-v-14b480ad><span class=\"photo\" style=\"background-image:url(https://ci.xiaohongshu.com/bff77355-615b-3488-ac62-56d1844ab149?imageView2/2/w/200/h/200/q/75);\" data-v-14b480ad></span> <i class=\"normal\" data-v-14b480ad></i></div> <div class=\"content\" data-v-14b480ad><p class=\"desc\" data-v-14b480ad>♡ 日常碎片｜周末探店·日料·小熊咖啡🐻</p> <div class=\"info\" data-v-14b480ad><img src=\"https://fe-img-qc.xhscdn.com/f5cc7873d03de9847b7509fa70fd04f344e65239\" class=\"like-icon\" data-v-14b480ad> <span class=\"counts\" data-v-14b480ad>195</span></div></div></a><a href=\"/discovery/item/5f781f9700000000010052de\" owl=\"panel_card\" class=\"inner\" data-v-14b480ad><div class=\"picture\" data-v-14b480ad><span class=\"photo\" style=\"background-image:url(https://ci.xiaohongshu.com/7dad9b1d-7c81-38c9-baf3-cea3491500c1?imageView2/2/w/200/h/200/q/75);\" data-v-14b480ad></span> <i class=\"normal\" data-v-14b480ad></i></div> <div class=\"content\" data-v-14b480ad><p class=\"desc\" data-v-14b480ad>法式精致｜置身法国的重庆服装店&amp;下午茶</p> <div class=\"info\" data-v-14b480ad><img src=\"https://fe-img-qc.xhscdn.com/f5cc7873d03de9847b7509fa70fd04f344e65239\" class=\"like-icon\" data-v-14b480ad> <span class=\"counts\" data-v-14b480ad>20</span></div></div></a><a href=\"/discovery/item/5f7ad466000000000101f7c5\" owl=\"panel_card\" class=\"inner\" data-v-14b480ad><div class=\"picture\" data-v-14b480ad><span class=\"photo\" style=\"background-image:url(https://ci.xiaohongshu.com/1d11a549-bdb4-3d30-b6f5-3e3cf2360914?imageView2/2/w/200/h/200/q/75);\" data-v-14b480ad></span> <i class=\"normal\" data-v-14b480ad></i></div> <div class=\"content\" data-v-14b480ad><p class=\"desc\" data-v-14b480ad>北京探店｜京城最好吃泡芙⁉️手工蛋糕必吃</p> <div class=\"info\" data-v-14b480ad><img src=\"https://fe-img-qc.xhscdn.com/f5cc7873d03de9847b7509fa70fd04f344e65239\" class=\"like-icon\" data-v-14b480ad> <span class=\"counts\" data-v-14b480ad>1.4万</span></div></div></a><a href=\"/discovery/item/5f8f88ae000000000101ec3c\" owl=\"panel_card\" class=\"inner\" data-v-14b480ad><div class=\"picture\" data-v-14b480ad><span class=\"photo\" style=\"background-image:url(https://ci.xiaohongshu.com/fc826022-4bc2-34d5-897c-997755100ed1?imageView2/2/w/200/h/200/q/75);\" data-v-14b480ad></span> <i class=\"normal\" data-v-14b480ad></i></div> <div class=\"content\" data-v-14b480ad><p class=\"desc\" data-v-14b480ad>临沂探店｜咖啡爱好者 小众宝藏店铺 /老王</p> <div class=\"info\" data-v-14b480ad><img src=\"https://fe-img-qc.xhscdn.com/f5cc7873d03de9847b7509fa70fd04f344e65239\" class=\"like-icon\" data-v-14b480ad> <span class=\"counts\" data-v-14b480ad>12</span></div></div></a><a href=\"/discovery/item/5f9e2abd0000000001008a36\" owl=\"panel_card\" class=\"inner\" data-v-14b480ad><div class=\"picture\" data-v-14b480ad><span class=\"photo\" style=\"background-image:url(https://ci.xiaohongshu.com/ac420c3c-da5b-33bf-bf7b-0d135be2cba8?imageView2/2/w/200/h/200/q/75);\" data-v-14b480ad></span> <i class=\"normal\" data-v-14b480ad></i></div> <div class=\"content\" data-v-14b480ad><p class=\"desc\" data-v-14b480ad>2020.10.29-10.31｜失踪人口回来了｜这三天的饮食 前一段忙着考教资</p> <div class=\"info\" data-v-14b480ad><img src=\"https://fe-img-qc.xhscdn.com/f5cc7873d03de9847b7509fa70fd04f344e65239\" class=\"like-icon\" data-v-14b480ad> <span class=\"counts\" data-v-14b480ad>11</span></div></div></a><a href=\"/discovery/item/5f8b9ce7000000000101f1d9\" owl=\"panel_card\" class=\"inner\" data-v-14b480ad><div class=\"picture\" data-v-14b480ad><span class=\"photo\" style=\"background-image:url(https://ci.xiaohongshu.com/1ed42347-1620-3c81-ba89-1c002dd553cc?imageView2/2/w/200/h/200/q/75);\" data-v-14b480ad></span> <i class=\"normal\" data-v-14b480ad></i></div> <div class=\"content\" data-v-14b480ad><p class=\"desc\" data-v-14b480ad>无糖低卡宝藏｜茶百道新品｜❤️好喝不胖</p> <div class=\"info\" data-v-14b480ad><img src=\"https://fe-img-qc.xhscdn.com/f5cc7873d03de9847b7509fa70fd04f344e65239\" class=\"like-icon\" data-v-14b480ad> <span class=\"counts\" data-v-14b480ad>3895</span></div></div></a><a href=\"/discovery/item/5f84f40900000000010025d6\" owl=\"panel_card\" class=\"inner\" data-v-14b480ad><div class=\"picture\" data-v-14b480ad><span class=\"photo\" style=\"background-image:url(https://ci.xiaohongshu.com/da473e26-5a77-3d62-b6ca-c992fe317b49?imageView2/2/w/200/h/200/q/75);\" data-v-14b480ad></span> <i class=\"normal\" data-v-14b480ad></i></div> <div class=\"content\" data-v-14b480ad><p class=\"desc\" data-v-14b480ad>零食分享｜9.9元拥有便宜大碗的糯唧唧打糕</p> <div class=\"info\" data-v-14b480ad><img src=\"https://fe-img-qc.xhscdn.com/f5cc7873d03de9847b7509fa70fd04f344e65239\" class=\"like-icon\" data-v-14b480ad> <span class=\"counts\" data-v-14b480ad>447</span></div></div></a><a href=\"/discovery/item/5f89a49900000000010031b9\" owl=\"panel_card\" class=\"inner\" data-v-14b480ad><div class=\"picture\" data-v-14b480ad><span class=\"photo\" style=\"background-image:url(https://ci.xiaohongshu.com/3e34d62b-e9ff-33c2-8333-f876e4feba1a?imageView2/2/w/200/h/200/q/75);\" data-v-14b480ad></span> <i class=\"normal\" data-v-14b480ad></i></div> <div class=\"content\" data-v-14b480ad><p class=\"desc\" data-v-14b480ad>日式居家日记｜生活美学｜今天是中华胃</p> <div class=\"info\" data-v-14b480ad><img src=\"https://fe-img-qc.xhscdn.com/f5cc7873d03de9847b7509fa70fd04f344e65239\" class=\"like-icon\" data-v-14b480ad> <span class=\"counts\" data-v-14b480ad>21</span></div></div></a><a href=\"/discovery/item/5f8939af0000000001008d3c\" owl=\"panel_card\" class=\"inner\" data-v-14b480ad><div class=\"picture\" data-v-14b480ad><span class=\"photo\" style=\"background-image:url(https://ci.xiaohongshu.com/b9dbe65a-bbec-34e0-bde0-1ec6e41b1253?imageView2/2/w/200/h/200/q/75);\" data-v-14b480ad></span> <i class=\"normal\" data-v-14b480ad></i></div> <div class=\"content\" data-v-14b480ad><p class=\"desc\" data-v-14b480ad>在郁达夫笔下金秋吃顿暖和火锅吧｜北京新店</p> <div class=\"info\" data-v-14b480ad><img src=\"https://fe-img-qc.xhscdn.com/f5cc7873d03de9847b7509fa70fd04f344e65239\" class=\"like-icon\" data-v-14b480ad> <span class=\"counts\" data-v-14b480ad>4433</span></div></div></a></div> <div owl=\"panel_more\" class=\"more\" data-v-14b480ad>查看更多</div></div> <div class=\"pop-over-container pop-over\" style=\"display:none;\" data-v-1fedfdcc data-v-14b480ad><div class=\"download-app\" data-v-1fedfdcc><i class=\"sweet-potato\" data-v-1fedfdcc></i> <div class=\"image-box\" data-v-1fedfdcc><img src=\"//ci.xiaohongshu.com/0b84da4e-3984-4603-a2f2-72a806e5494d\" data-v-1fedfdcc></div> <p data-v-1fedfdcc>扫码下载小红书app</p> <p data-v-1fedfdcc>与全世界的小红薯一起标记生活</p> <div class=\"close\" data-v-1fedfdcc>关闭</div></div></div></div></div> <div class=\"load\" style=\"display:none;\" data-v-93f06806 data-v-40f57ace><img src=\"//ci.xiaohongshu.com/9886a854-aeb3-4d38-b602-4616da6694e6\" width=\"50\" height=\"50\" data-v-93f06806></div></div> <div class=\"ewm fixed-qr-code\" data-v-2d5c81b1 data-v-ce3ea7a2><div class=\"smallewm\" data-v-2d5c81b1></div> <div class=\"bigewm\" style=\"display:none;\" data-v-2d5c81b1><img src=\"//ci.xiaohongshu.com/0b84da4e-3984-4603-a2f2-72a806e5494d\" class=\"ewimg\" data-v-2d5c81b1> <p class=\"title\" data-v-2d5c81b1>扫我下载App</p></div></div> <div class=\"footer footer light-theme\" data-v-9a8e632a data-v-ce3ea7a2><div class=\"top\" data-v-9a8e632a><div class=\"navigation-bar-wrapper\" data-v-9a8e632a><ul class=\"navigation-bar four english\" data-v-9a8e632a><li class=\"navigation-item sign-up\" data-v-9a8e632a>Registration Agreement</li> <li class=\"navigation-item privacy\" data-v-9a8e632a>Privacy Policy</li> <li class=\"navigation-item complaint\" data-v-9a8e632a>Content Dispute Resolution Guide</li> <!----> <li class=\"navigation-item community\" data-v-9a8e632a>Community Guidelines</li></ul></div></div> <div class=\"bottom\" data-v-9a8e632a><div class=\"info\" data-v-9a8e632a><span class=\"line\" data-v-9a8e632a><a target=\"_blank\" href=\"//icp.chinaz.com/info?q=xiaohongshu.com\" title=\"小红书_沪ICP备\" data-v-9a8e632a>沪ICP备 13030189号 Copyright © 2014-2021 行吟信息科技（上海）有限公司</a> <span data-v-9a8e632a>| 地址：上海市黄浦区马当路388号C座</span> <span data-v-9a8e632a>| 电话：021-64224530</span> <span data-v-9a8e632a>| <a target=\"_blank\" href=\"//dc.xhscdn.com/06c2adb0-b353-11e9-9d0c-7be9ff8961c1/自营经营者信息公示.pdf\" data-v-9a8e632a>自营经营者信息</a></span> <span data-v-9a8e632a>| <a target=\"_blank\" href=\"//www.beian.gov.cn/portal/registerSystemInfo?recordcode=31010102002533\" title=\"小红书_沪公网安备\" data-v-9a8e632a>2021  沪公网安备 31010102002533号<i class=\"police\" data-v-9a8e632a></i></a></span></span> <span class=\"line\" data-v-9a8e632a><a target=\"_blank\" href=\"//o3.xiaohongshu.com/d/4-xingyin-sh-wangluowenhua.pdf\" title=\"小红书_网络文化经营许可\" data-v-9a8e632a> 网络文化经营许可证：沪网文[2018]4086-308号</a>\\n          | <a target=\"_blank\" href=\"//dc.xhscdn.com/2df10900-a3da-11e9-9232-a5e3ddde171e/行吟上海-增值电信业务经营许可证.pdf\" title=\"小红书_网文\" data-v-9a8e632a>增值电信业务经营许可证：沪B2-20150021</a>\\n          | <a target=\"_blank\" href=\"http://scjgj.sh.gov.cn/platform/survey/step1_phone\" title=\"小红书_网购评价\" data-v-9a8e632a><i class=\"rank\" data-v-9a8e632a></i> 网购(订餐)大家评</a></span> <span class=\"line\" data-v-9a8e632a><a target=\"_blank\" href=\"//o3.xiaohongshu.com/d/5-xingyin-sh-yiliaoqixie.pdf\" title=\"小红书_医疗器械经营\" data-v-9a8e632a>医疗器械经营许可证：沪嘉食药监械经营许20187006号</a>\\n        | <a target=\"_blank\" href=\"https://ci.xiaohongshu.com/%E5%8C%BB%E7%96%97%E5%99%A8%E6%A2%B0%E7%BD%91%E7%BB%9C%E4%BA%A4%E6%98%93%E6%9C%8D%E5%8A%A1%E7%AC%AC%E4%B8%89%E6%96%B9%E5%B9%B3%E5%8F%B0%E5%A4%87%E6%A1%88.PDF\" title=\"小红书_医疗器械网络交易服务\" data-v-9a8e632a>医疗器械网络交易服务第三方平台备案:（沪）网械平台备字[2019]第00006号</a>\\n        | <a target=\"_blank\" href=\"//o3.xiaohongshu.com/d/3-xingyin-sh-yiyaoxinxi.pdf\" title=\"小红书_互联网药品信息服务\" data-v-9a8e632a>互联网药品信息服务资格证书：(沪)-经营性-2018-0011 </a></span> <span class=\"line\" data-v-9a8e632a><span title=\"小红书_违法不良信息\" data-v-9a8e632a>违法不良信息举报电话：(027) 8700 3878</span>\\n        | <a target=\"_blank\" href=\"http://www.shjbzx.cn\" title=\"小红书_上海市互联网举报中心\" data-v-9a8e632a>上海市互联网举报中心</a>\\n        | <a target=\"_blank\" href=\"http://www.12377.cn\" title=\"网上有害信息举报专区\" data-v-9a8e632a>网上有害信息举报专区</a></span></div></div></div></div></div></div><script>window.__INITIAL_STATE__={\"chinese\":{\"releaseTime\":\"发布时间\",\"navBar\":{\"home\":\"首页\",\"trending\":\"社区精选\",\"businessCooperation\":\"业务合作\",\"childrenOfBusinessCooperation\":{\"brand\":\"企业号\",\"advertisement\":\"推广合作\",\"partnership\":\"品牌合作人\",\"business\":\"商家入驻\"},\"creativeTool\":\"创作者服务\",\"childrenOfCreativeTool\":{\"data\":\"数据查看\",\"video\":\"视频上传\",\"obs\":\"电脑直播\"},\"newsCenter\":\"新闻中心\",\"aboutUs\":\"关于我们\",\"socialResponsibility\":\"社会责任\",\"joinUs\":\"加入我们\",\"videoPost\":\"视频发布\"},\"policy\":{\"registrationAgreement\":\"用户协议\",\"privacyPolicy\":\"隐私政策\",\"contentDispute\":\"侵权投诉指引\",\"ratingTerms\":\"小红书评价规则\",\"communityRule\":\"社区规范\"},\"home\":{\"ios\":\"iOS 版\",\"android\":\"Android 版\"},\"newsCenter\":{\"more\":\"查看更多\",\"showText\":{\"title\":\"新闻中心\"},\"activitiesTitle\":\"近期动态\",\"newsTitle\":\"热门报道\",\"trophyTitle\":\"荣誉奖项\",\"storiesTitle\":\"用户故事\",\"subRoute\":{\"activities\":{\"showText\":{\"title\":\"近期动态\"}},\"report\":{\"showText\":{\"title\":\"热门报道\"}},\"trophy\":{\"showText\":{\"title\":\"公司荣誉\"}}}},\"aboutUs\":{\"showText\":{\"title\":\"关于我们\"},\"introduction\":{\"title\":\"什么是小红书\",\"detail\":[\"小红书是年轻人的生活方式平台，由毛文超和瞿芳于2013年在上海创立。小红书以“Inspire Lives 分享和发现世界的精彩”为使命，用户可以通过短视频、图文等形式记录生活点滴，分享生活方式，并基于兴趣形成互动。截至到2019年10月，小红书月活跃用户数已经过亿，其中70%用户是90后，并持续快速增长。\"]},\"officeEnvironment\":\"公司环境\",\"contactUs\":\"合作邮箱\",\"officeAddressTitle\":\"我们在这里\",\"growthTitle\":\"小红书发展史\",\"contactTitle\":\"更多方式关注小红书\"},\"liability\":{\"showText\":{\"title\":\"社会责任\"}}},\"english\":{\"releaseTime\":\"release time\",\"navBar\":{\"home\":\"Home\",\"newsCenter\":\"News Center\",\"aboutUs\":\"About Us\"},\"policy\":{\"registrationAgreement\":\"Registration Agreement\",\"privacyPolicy\":\"Privacy Policy\",\"contentDispute\":\"Content Dispute Resolution Guide\",\"ratingTerms\":\"Evaluation Guide\",\"communityRule\":\"Community Guidelines\"},\"home\":{\"ios\":\"iOS\",\"android\":\"Android\"},\"newsCenter\":{\"more\":\"more\",\"showText\":{\"title\":\"NEWS CENTER\",\"content\":\"\"},\"activitiesTitle\":\"Latest News\",\"trophyTitle\":\"Achievement and Awards\",\"storiesTitle\":\"User Stories\",\"subRoute\":{\"activities\":{\"showText\":{\"title\":\"Latest News\"}},\"report\":{\"showText\":{\"title\":\"Most Popular\"}},\"trophy\":{\"showText\":{\"title\":\"Achievement and Rewards\"}}}},\"aboutUs\":{\"showText\":{\"title\":\"ABOUT US\"},\"introduction\":{\"title\":\"About Xiaohongshu\",\"detail\":[\"Established in 2013, founded by Charlwin Mao and Miranda Qu, Xiaohongshu is a thriving lifestyle community platform with over 300 million registered users as of July 2019. And 70% of the users are post-90s. Three billion impressions are created on Xiaohongshu daily via a wide variety of media, including photos, texts, and short videos. These touch on all areas of lifestyle, such as cosmetics and beauty, fashion, food, travel, entertainment, reading, fitness, and childcare. \",\"Through artificial intelligence and machine learning, Xiaohongshu tailors content recommendations to individual users, incubating new consumer trends. More than 20,000 brands have community accounts on Xiaohongshu. The platform hosts nearly 10,000 third-party e-commerce merchants and offers more than 100,000 different products.\"]},\"officeEnvironment\":\"Office Environment\",\"contactUs\":\"Contact Us\",\"officeAddressTitle\":\"Office Address\",\"growthTitle\":\"Major Developments\",\"contactTitle\":\"More ways to follow Xiaohongshu\"},\"liability\":{\"showText\":{\"title\":\"SOCIAL RESPONSIBILITY\"}}}};(function(){var s;(s=document.currentScript||document.scripts[document.scripts.length-1]).parentNode.removeChild(s);}());</script><script>window.__INITIAL_SSR_STATE__={\"RedAppLayout\":undefined,\"NoteView\":{\"commentInfo\":{\"comments\":[{\"ats\":[],\"content\":\"太会了[偷笑R]\",\"hashTags\":[],\"id\":\"5fa1fe6e0000000001027c67\",\"likes\":0,\"isLiked\":false,\"targetNoteId\":\"5f9e8ab1000000000101e85e\",\"subComments\":[],\"subCommentsTotal\":0,\"time\":\"2020-11-04 09:05\",\"user\":{\"id\":\"555431dfe58d135298f549a7\",\"image\":\"https:\\\\u002F\\\\u002Fimg.xiaohongshu.com\\\\u002Favatar\\\\u002F5989ca39b46c5d6cda439d27.jpg@80w_80h_90q_1e_1c_1x.jpg\",\"nickname\":\"吹ccc\"}},{\"ats\":[],\"content\":\"我🐛啦！！\",\"hashTags\":[],\"id\":\"5fa101f90000000001028ddc\",\"likes\":0,\"isLiked\":false,\"targetNoteId\":\"5f9e8ab1000000000101e85e\",\"subComments\":[],\"subCommentsTotal\":0,\"time\":\"2020-11-03 15:08\",\"user\":{\"id\":\"5c1a4d3800000000070070ea\",\"image\":\"https:\\\\u002F\\\\u002Fimg.xiaohongshu.com\\\\u002Favatar\\\\u002F5f17bf50eda385000151221a.jpg@80w_80h_90q_1e_1c_1x.jpg\",\"nickname\":\"戳戳梵鱼\"}},{\"ats\":[],\"content\":\"咩总给我们做一杯～\",\"hashTags\":[],\"id\":\"5fa0cd86000000000102c3ea\",\"likes\":0,\"isLiked\":false,\"targetNoteId\":\"5f9e8ab1000000000101e85e\",\"subComments\":[],\"subCommentsTotal\":0,\"time\":\"2020-11-03 11:24\",\"user\":{\"id\":\"548103a2d6e4a9617b302172\",\"image\":\"https:\\\\u002F\\\\u002Fimg.xiaohongshu.com\\\\u002Favatar\\\\u002F5facd6a18e6b95000111ebe7.jpg@80w_80h_90q_1e_1c_1x.jpg\",\"nickname\":\"是小彩虹呀\"}},{\"ats\":[],\"content\":\"想吃！\",\"hashTags\":[],\"id\":\"5fa02e480000000001026c51\",\"likes\":0,\"isLiked\":false,\"targetNoteId\":\"5f9e8ab1000000000101e85e\",\"subComments\":[],\"subCommentsTotal\":0,\"time\":\"2020-11-03 00:05\",\"user\":{\"id\":\"574a67a4346094163613e0fc\",\"image\":\"https:\\\\u002F\\\\u002Fimg.xiaohongshu.com\\\\u002Favatar\\\\u002F5f65745590c68500019819de.jpg@80w_80h_90q_1e_1c_1x.jpg\",\"nickname\":\"是敏哥啊\"}},{\"ats\":[],\"content\":\"明天早上就想吃这个！\",\"hashTags\":[],\"id\":\"5fa01f080000000001025cb0\",\"likes\":0,\"isLiked\":false,\"targetNoteId\":\"5f9e8ab1000000000101e85e\",\"subComments\":[],\"subCommentsTotal\":0,\"time\":\"2020-11-02 23:00\",\"user\":{\"id\":\"58f47a335e87e71f6d1d704e\",\"image\":\"https:\\\\u002F\\\\u002Fimg.xiaohongshu.com\\\\u002Favatar\\\\u002F5ffb108797391873baf89047.jpg@80w_80h_90q_1e_1c_1x.jpg\",\"nickname\":\"李亚子✨\"}}],\"targetNoteId\":\"5f9e8ab1000000000101e85e\",\"targetNoteUserId\":\"55d003d6e4b1cf12ec693eed\",\"commentsLevel1Count\":12,\"commentsTotal\":12,\"pageSize\":5},\"noteInfo\":{\"ats\":[],\"likes\":106,\"collects\":64,\"shareCount\":0,\"comments\":12,\"title\":\"宅家自制水果燕麦杯！健康谷物麦片太可了～\",\"desc\":\"我家中常备的就是麦片啦！早上可以泡牛奶做早餐吃 下午可以整点花式下午茶 当作晚餐吃饱腹又代餐👀 全能选手没错啦～\\\\n最近入手了新麦片尝尝鲜 周末在家做了高颜值的猕猴桃燕麦杯当下午茶吃 🌈有颜又好吃 \\\\n-\\\\n👉🏻也给大家分享我的麦片杯做法哦\\\\n1⃣️先在杯底铺上一层麦片\\\\n️2⃣️把切片的猕猴桃固定在杯壁上一圈\\\\n3⃣️倒入酸奶后顶层再铺上麦片，最后用薄荷叶点缀下\\\\n-\\\\n简单几步手残也能Get同款哦！🥳我用的是欣善怡家的麦片做的燕麦杯 🤍是来源于新西兰进口的麦片 包含多种谷物🥖和果干 🍒营养丰富好吃不会胖！\\\\n-\\\\n💛燕麦夏威夷果口味：里面有香脆好吃的夏威夷果哦！还添加了膨化小麦，吃起来像爆米花一样松脆，越吃越上瘾[哇R]\\\\n💙椰果扁桃仁果味：椰果和扁桃仁的神仙组合！干吃或者搭配酸奶、牛奶一起吃都好吃 清爽不油腻 脆爽可口～[斜眼R]\\\\n-\\\\n没有什么比这样一碗好吃又不胖的燕麦杯更诱人的啦！专治嘴馋，可要家中常囤啦！👻\",\"id\":\"5f9e8ab1000000000101e85e\",\"imageList\":[{\"url\":\"\\\\u002F\\\\u002Fci.xiaohongshu.com\\\\u002F9bd3de36-cba2-120c-115c-4e58bbfa8c51?imageView2\\\\u002F2\\\\u002Fw\\\\u002F1080\\\\u002Fformat\\\\u002Fjpg\",\"width\":1279,\"height\":1705,\"fileId\":\"9bd3de36-cba2-120c-115c-4e58bbfa8c51\",\"traceId\":\"05242bc4-b295-332d-a990-bf75b97ab8fc\"},{\"url\":\"\\\\u002F\\\\u002Fci.xiaohongshu.com\\\\u002Fc75e6306-7868-9e44-2d80-c9241bf1a5a7?imageView2\\\\u002F2\\\\u002Fw\\\\u002F1080\\\\u002Fformat\\\\u002Fjpg\",\"width\":1279,\"height\":1705,\"fileId\":\"c75e6306-7868-9e44-2d80-c9241bf1a5a7\",\"traceId\":\"8e433f5e-ad48-3d39-ba21-3fc9b1c42c8b\"},{\"url\":\"\\\\u002F\\\\u002Fci.xiaohongshu.com\\\\u002Fc8afa04a-a0e0-1fd1-bc82-c97887109b5e?imageView2\\\\u002F2\\\\u002Fw\\\\u002F1080\\\\u002Fformat\\\\u002Fjpg\",\"width\":1280,\"height\":1706,\"fileId\":\"c8afa04a-a0e0-1fd1-bc82-c97887109b5e\",\"traceId\":\"2a93ad53-a18d-3693-ab99-250b67d1116f\"},{\"url\":\"\\\\u002F\\\\u002Fci.xiaohongshu.com\\\\u002F9e958596-f952-a509-b86c-578944139444?imageView2\\\\u002F2\\\\u002Fw\\\\u002F1080\\\\u002Fformat\\\\u002Fjpg\",\"width\":1279,\"height\":1705,\"fileId\":\"9e958596-f952-a509-b86c-578944139444\",\"traceId\":\"7985bd93-a2a7-358b-8307-869fcd4f2ec9\"},{\"url\":\"\\\\u002F\\\\u002Fci.xiaohongshu.com\\\\u002F0eede995-e72f-b5de-a04c-656e4a99fbf4?imageView2\\\\u002F2\\\\u002Fw\\\\u002F1080\\\\u002Fformat\\\\u002Fjpg\",\"width\":1280,\"height\":1706,\"fileId\":\"0eede995-e72f-b5de-a04c-656e4a99fbf4\",\"traceId\":\"ac68f08c-96ea-31a4-a5f5-ea071d04a002\"},{\"url\":\"\\\\u002F\\\\u002Fci.xiaohongshu.com\\\\u002F02e28b90-abf3-161c-296a-90fa6d0d0b7e?imageView2\\\\u002F2\\\\u002Fw\\\\u002F1080\\\\u002Fformat\\\\u002Fjpg\",\"width\":1280,\"height\":1706,\"fileId\":\"02e28b90-abf3-161c-296a-90fa6d0d0b7e\",\"traceId\":\"bb8e5920-4363-32cc-a3ba-39393ba96301\"},{\"url\":\"\\\\u002F\\\\u002Fci.xiaohongshu.com\\\\u002F5563116b-8fcf-19cc-e896-f7d41edf7ab0?imageView2\\\\u002F2\\\\u002Fw\\\\u002F1080\\\\u002Fformat\\\\u002Fjpg\",\"width\":1280,\"height\":1706,\"fileId\":\"5563116b-8fcf-19cc-e896-f7d41edf7ab0\",\"traceId\":\"b58eec73-2830-349f-8a9a-f1ed7846ca40\"},{\"url\":\"\\\\u002F\\\\u002Fci.xiaohongshu.com\\\\u002F687e66a0-c697-3fb7-0906-aac580ae7b38?imageView2\\\\u002F2\\\\u002Fw\\\\u002F1080\\\\u002Fformat\\\\u002Fjpg\",\"width\":1281,\"height\":1704,\"fileId\":\"687e66a0-c697-3fb7-0906-aac580ae7b38\",\"traceId\":\"c2ee1881-f48c-3a6c-922d-2c4442e228f1\"},{\"url\":\"\\\\u002F\\\\u002Fci.xiaohongshu.com\\\\u002Fb2d681cd-6a18-0227-d4db-a5744304269e?imageView2\\\\u002F2\\\\u002Fw\\\\u002F1080\\\\u002Fformat\\\\u002Fjpg\",\"width\":1279,\"height\":1705,\"fileId\":\"b2d681cd-6a18-0227-d4db-a5744304269e\",\"traceId\":\"0c0f4943-cd90-3df7-862d-dc1806367a1e\"}],\"cover\":{\"url\":\"\\\\u002F\\\\u002Fci.xiaohongshu.com\\\\u002F9bd3de36-cba2-120c-115c-4e58bbfa8c51?imageView2\\\\u002F2\\\\u002Fw\\\\u002F1080\\\\u002Fformat\\\\u002Fjpg\",\"width\":1279,\"height\":1705,\"fileId\":\"9bd3de36-cba2-120c-115c-4e58bbfa8c51\",\"traceId\":\"05242bc4-b295-332d-a990-bf75b97ab8fc\"},\"isLiked\":false,\"time\":\"2020-11-01 18:15\",\"type\":\"normal\",\"hashTags\":[],\"cooperateBinds\":[],\"isCollected\":false,\"generatedTitle\":\"宅家自制水果燕麦杯！健康谷物麦片太可了～\",\"keywords\":[],\"categories\":[],\"categoriesIndex\":[],\"seoMeta\":{\"title\":\"宅家自制水果燕麦杯！健康谷物麦片太可了～_麦片_燕麦_猕猴桃_桃仁_谷物麦片_水果燕麦_早餐_夏威夷果_酸奶_代餐_谷物_美食_美食教程\",\"description\":\"我家中常备的就是麦片啦！早上可以泡牛奶做早餐吃 下午可以整点花式下午茶 当作晚餐吃饱腹又代餐 全能选手没错啦～ 最近入手了新麦片尝尝鲜 周末在家做了高颜值的猕猴桃燕麦杯当下午茶吃 有颜又好吃 - 也给\",\"keywords\":\"麦片,燕麦,猕猴桃,桃仁,谷物麦片,水果燕麦,早餐,夏威夷果,酸奶,代餐,谷物,美食,美食教程\",\"image\":[\"https:\\\\u002F\\\\u002Fci.xiaohongshu.com\\\\u002F9bd3de36-cba2-120c-115c-4e58bbfa8c51?imageMogr2\\\\u002Fformat\\\\u002Fjpg\\\\u002Fquality\\\\u002F92\\\\u002Fauto-orient\\\\u002Fstrip\\\\u002Fcrop\\\\u002F450x300\\\\u002Fgravity\\\\u002Fcenter\",\"https:\\\\u002F\\\\u002Fci.xiaohongshu.com\\\\u002Fc75e6306-7868-9e44-2d80-c9241bf1a5a7?imageMogr2\\\\u002Fformat\\\\u002Fjpg\\\\u002Fquality\\\\u002F92\\\\u002Fauto-orient\\\\u002Fstrip\\\\u002Fcrop\\\\u002F450x300\\\\u002Fgravity\\\\u002Fcenter\",\"https:\\\\u002F\\\\u002Fci.xiaohongshu.com\\\\u002Fc8afa04a-a0e0-1fd1-bc82-c97887109b5e?imageMogr2\\\\u002Fformat\\\\u002Fjpg\\\\u002Fquality\\\\u002F92\\\\u002Fauto-orient\\\\u002Fstrip\\\\u002Fcrop\\\\u002F450x300\\\\u002Fgravity\\\\u002Fcenter\",\"https:\\\\u002F\\\\u002Fci.xiaohongshu.com\\\\u002F9e958596-f952-a509-b86c-578944139444?imageMogr2\\\\u002Fformat\\\\u002Fjpg\\\\u002Fquality\\\\u002F92\\\\u002Fauto-orient\\\\u002Fstrip\\\\u002Fcrop\\\\u002F450x300\\\\u002Fgravity\\\\u002Fcenter\",\"https:\\\\u002F\\\\u002Fci.xiaohongshu.com\\\\u002F0eede995-e72f-b5de-a04c-656e4a99fbf4?imageMogr2\\\\u002Fformat\\\\u002Fjpg\\\\u002Fquality\\\\u002F92\\\\u002Fauto-orient\\\\u002Fstrip\\\\u002Fcrop\\\\u002F450x300\\\\u002Fgravity\\\\u002Fcenter\",\"https:\\\\u002F\\\\u002Fci.xiaohongshu.com\\\\u002F02e28b90-abf3-161c-296a-90fa6d0d0b7e?imageMogr2\\\\u002Fformat\\\\u002Fjpg\\\\u002Fquality\\\\u002F92\\\\u002Fauto-orient\\\\u002Fstrip\\\\u002Fcrop\\\\u002F450x300\\\\u002Fgravity\\\\u002Fcenter\",\"https:\\\\u002F\\\\u002Fci.xiaohongshu.com\\\\u002F5563116b-8fcf-19cc-e896-f7d41edf7ab0?imageMogr2\\\\u002Fformat\\\\u002Fjpg\\\\u002Fquality\\\\u002F92\\\\u002Fauto-orient\\\\u002Fstrip\\\\u002Fcrop\\\\u002F450x300\\\\u002Fgravity\\\\u002Fcenter\",\"https:\\\\u002F\\\\u002Fci.xiaohongshu.com\\\\u002F687e66a0-c697-3fb7-0906-aac580ae7b38?imageMogr2\\\\u002Fformat\\\\u002Fjpg\\\\u002Fquality\\\\u002F92\\\\u002Fauto-orient\\\\u002Fstrip\\\\u002Fcrop\\\\u002F450x300\\\\u002Fgravity\\\\u002Fcenter\",\"https:\\\\u002F\\\\u002Fci.xiaohongshu.com\\\\u002Fb2d681cd-6a18-0227-d4db-a5744304269e?imageMogr2\\\\u002Fformat\\\\u002Fjpg\\\\u002Fquality\\\\u002F92\\\\u002Fauto-orient\\\\u002Fstrip\\\\u002Fcrop\\\\u002F450x300\\\\u002Fgravity\\\\u002Fcenter\"]},\"inCensor\":false,\"censorTip\":\"\",\"user\":{\"bannerImage\":\"\",\"fans\":32735,\"follows\":274,\"gender\":1,\"id\":\"55d003d6e4b1cf12ec693eed\",\"nickname\":\"谁说咩咩只吃草\",\"notes\":618,\"boards\":0,\"location\":\"地球的某一片红薯地\",\"image\":\"https:\\\\u002F\\\\u002Fimg.xiaohongshu.com\\\\u002Favatar\\\\u002F5f3a1bd095609300015c5ce0.jpg@240w_240h_90q_1e_1c_1x.jpg\",\"collected\":70638,\"desc\":\"时尚◽️护肤▪️探店📮573852675@qq.com\",\"liked\":82769,\"officialVerified\":false,\"redOfficialVerifyShowIcon\":false,\"level\":{\"image\":\"http:\\\\u002F\\\\u002Fs4.xiaohongshu.com\\\\u002Fstatic\\\\u002Fthrone\\\\u002F10f_290e3f6dab2053d6de8b71dfa1d3b472.png\",\"name\":\"银冠薯\"},\"fstatus\":\"none\",\"redOfficialVerifyIconType\":0,\"red_id\":\"427058770\",\"isFollowed\":false},\"poi\":{}},\"noteType\":\"normal\",\"userId\":\"55d003d6e4b1cf12ec693eed\",\"player\":null,\"panelData\":[{\"id\":\"5f7c5497000000000101c076\",\"title\":\"南京探店｜首家铜锣烧专卖店｜明瓦廊美食街\",\"type\":\"normal\",\"likes\":2831,\"isLiked\":false,\"cover\":{\"url\":\"http:\\\\u002F\\\\u002Fci.xiaohongshu.com\\\\u002F61e22380-ae6c-3eb6-b40d-34c9c27bf7d7?imageView2\\\\u002F2\\\\u002Fw\\\\u002F540\\\\u002Fformat\\\\u002Fjpg\",\"gifUrl\":\"\",\"width\":1279,\"height\":1705,\"fileId\":\"61e22380-ae6c-3eb6-b40d-34c9c27bf7d7\"},\"time\":\"2020-10-06 19:27\",\"user\":{\"id\":\"55b6f2dba75c954391ab70b9\",\"image\":\"https:\\\\u002F\\\\u002Fimg.xiaohongshu.com\\\\u002Favatar\\\\u002F6033528998bae15aa5f5168e.jpg@80w_80h_90q_1e_1c_1x.jpg\",\"nickname\":\"曹靓靓_\",\"redOfficialVerifyType\":0,\"redOfficialVerifyShowIcon\":false,\"officialVerified\":false},\"trackId\":\"txt_2_5f7c5497000000000101c076_-1_\"},{\"id\":\"5f8c158c00000000010023ab\",\"title\":\"♡ 日常碎片｜周末探店·日料·小熊咖啡🐻\",\"type\":\"normal\",\"likes\":195,\"isLiked\":false,\"cover\":{\"url\":\"http:\\\\u002F\\\\u002Fci.xiaohongshu.com\\\\u002Fbff77355-615b-3488-ac62-56d1844ab149?imageView2\\\\u002F2\\\\u002Fw\\\\u002F540\\\\u002Fformat\\\\u002Fjpg\",\"gifUrl\":\"\",\"width\":1280,\"height\":1706,\"fileId\":\"bff77355-615b-3488-ac62-56d1844ab149\"},\"time\":\"2020-10-18 18:14\",\"user\":{\"id\":\"5e90640500000000010021ce\",\"image\":\"https:\\\\u002F\\\\u002Fimg.xiaohongshu.com\\\\u002Favatar\\\\u002F60247f6eabd7f593f5da66df.jpg@80w_80h_90q_1e_1c_1x.jpg\",\"nickname\":\"MarEle.\",\"redOfficialVerifyType\":0,\"redOfficialVerifyShowIcon\":false,\"officialVerified\":false},\"trackId\":\"txt_3_5f8c158c00000000010023ab_-1_\"},{\"id\":\"5f781f9700000000010052de\",\"title\":\"法式精致｜置身法国的重庆服装店&下午茶\",\"type\":\"normal\",\"likes\":20,\"isLiked\":false,\"cover\":{\"url\":\"http:\\\\u002F\\\\u002Fci.xiaohongshu.com\\\\u002F7dad9b1d-7c81-38c9-baf3-cea3491500c1?imageView2\\\\u002F2\\\\u002Fw\\\\u002F540\\\\u002Fformat\\\\u002Fjpg\",\"gifUrl\":\"\",\"width\":1705,\"height\":1136,\"fileId\":\"7dad9b1d-7c81-38c9-baf3-cea3491500c1\"},\"time\":\"2020-10-03 14:52\",\"user\":{\"id\":\"5f4b78770000000001002ba7\",\"image\":\"https:\\\\u002F\\\\u002Fimg.xiaohongshu.com\\\\u002Favatar\\\\u002F5f69f546ed4be70001466d84.jpg@80w_80h_90q_1e_1c_1x.jpg\",\"nickname\":\"House of Lady\",\"redOfficialVerifyType\":0,\"redOfficialVerifyShowIcon\":false,\"officialVerified\":false},\"trackId\":\"txt_4_5f781f9700000000010052de_-1_\"},{\"id\":\"5f7ad466000000000101f7c5\",\"title\":\"北京探店｜京城最好吃泡芙⁉️手工蛋糕必吃\",\"type\":\"normal\",\"likes\":14035,\"isLiked\":false,\"cover\":{\"url\":\"http:\\\\u002F\\\\u002Fci.xiaohongshu.com\\\\u002F1d11a549-bdb4-3d30-b6f5-3e3cf2360914?imageView2\\\\u002F2\\\\u002Fw\\\\u002F540\\\\u002Fformat\\\\u002Fjpg\",\"gifUrl\":\"\",\"width\":1279,\"height\":1705,\"fileId\":\"1d11a549-bdb4-3d30-b6f5-3e3cf2360914\"},\"time\":\"2020-10-05 16:08\",\"user\":{\"id\":\"5830601850c4b4424546aab4\",\"image\":\"https:\\\\u002F\\\\u002Fimg.xiaohongshu.com\\\\u002Favatar\\\\u002F5f3f8db9e597110001d2de56.jpg@80w_80h_90q_1e_1c_1x.jpg\",\"nickname\":\"王月亮\",\"redOfficialVerifyType\":0,\"redOfficialVerifyShowIcon\":false,\"officialVerified\":false},\"trackId\":\"txt_5_5f7ad466000000000101f7c5_-1_\"},{\"id\":\"5f8f88ae000000000101ec3c\",\"title\":\"临沂探店｜咖啡爱好者 小众宝藏店铺 \\\\u002F老王\",\"type\":\"normal\",\"likes\":12,\"isLiked\":false,\"cover\":{\"url\":\"http:\\\\u002F\\\\u002Fci.xiaohongshu.com\\\\u002Ffc826022-4bc2-34d5-897c-997755100ed1?imageView2\\\\u002F2\\\\u002Fw\\\\u002F540\\\\u002Fformat\\\\u002Fjpg\",\"gifUrl\":\"\",\"width\":1279,\"height\":1705,\"fileId\":\"fc826022-4bc2-34d5-897c-997755100ed1\"},\"time\":\"2020-10-21 09:02\",\"user\":{\"id\":\"5a8054044eacab76003f593f\",\"image\":\"https:\\\\u002F\\\\u002Fimg.xiaohongshu.com\\\\u002Favatar\\\\u002F5a8054b0b46c5d2e6ed86fe3.jpg@80w_80h_90q_1e_1c_1x.jpg\",\"nickname\":\"任酸甜\",\"redOfficialVerifyType\":0,\"redOfficialVerifyShowIcon\":false,\"officialVerified\":false},\"trackId\":\"txt_6_5f8f88ae000000000101ec3c_-1_\"},{\"id\":\"5f9e2abd0000000001008a36\",\"title\":\"2020.10.29-10.31｜失踪人口回来了｜这三天的饮食 前一段忙着考教资\",\"type\":\"normal\",\"likes\":11,\"isLiked\":false,\"cover\":{\"url\":\"http:\\\\u002F\\\\u002Fci.xiaohongshu.com\\\\u002Fac420c3c-da5b-33bf-bf7b-0d135be2cba8?imageView2\\\\u002F2\\\\u002Fw\\\\u002F540\\\\u002Fformat\\\\u002Fjpg\",\"gifUrl\":\"\",\"width\":1536,\"height\":1532,\"fileId\":\"ac420c3c-da5b-33bf-bf7b-0d135be2cba8\"},\"time\":\"2020-11-01 11:25\",\"user\":{\"id\":\"5e1975de000000000100357f\",\"image\":\"https:\\\\u002F\\\\u002Fimg.xiaohongshu.com\\\\u002Favatar\\\\u002F5f4a6ce876826f00015c6883.jpg@80w_80h_90q_1e_1c_1x.jpg\",\"nickname\":\"下架学姐🍼\",\"redOfficialVerifyType\":0,\"redOfficialVerifyShowIcon\":false,\"officialVerified\":false},\"trackId\":\"txt_7_5f9e2abd0000000001008a36_-1_\"},{\"id\":\"5f8b9ce7000000000101f1d9\",\"title\":\"无糖低卡宝藏｜茶百道新品｜❤️好喝不胖\",\"type\":\"normal\",\"likes\":3895,\"isLiked\":false,\"cover\":{\"url\":\"http:\\\\u002F\\\\u002Fci.xiaohongshu.com\\\\u002F1ed42347-1620-3c81-ba89-1c002dd553cc?imageView2\\\\u002F2\\\\u002Fw\\\\u002F540\\\\u002Fformat\\\\u002Fjpg\",\"gifUrl\":\"\",\"width\":1279,\"height\":1705,\"fileId\":\"1ed42347-1620-3c81-ba89-1c002dd553cc\"},\"time\":\"2020-10-18 09:39\",\"user\":{\"id\":\"5d036157000000001102b9d7\",\"image\":\"https:\\\\u002F\\\\u002Fimg.xiaohongshu.com\\\\u002Favatar\\\\u002F5e84078730e2cf000183a241.jpg@80w_80h_90q_1e_1c_1x.jpg\",\"nickname\":\"王小蓓BBW\",\"redOfficialVerifyType\":0,\"redOfficialVerifyShowIcon\":false,\"officialVerified\":false},\"trackId\":\"txt_8_5f8b9ce7000000000101f1d9_-1_\"},{\"id\":\"5f84f40900000000010025d6\",\"title\":\"零食分享｜9.9元拥有便宜大碗的糯唧唧打糕\",\"type\":\"normal\",\"likes\":447,\"isLiked\":false,\"cover\":{\"url\":\"http:\\\\u002F\\\\u002Fci.xiaohongshu.com\\\\u002Fda473e26-5a77-3d62-b6ca-c992fe317b49?imageView2\\\\u002F2\\\\u002Fw\\\\u002F540\\\\u002Fformat\\\\u002Fjpg\",\"gifUrl\":\"\",\"width\":1279,\"height\":1705,\"fileId\":\"da473e26-5a77-3d62-b6ca-c992fe317b49\"},\"time\":\"2020-10-13 08:25\",\"user\":{\"id\":\"5c9dbbbf0000000017032e69\",\"image\":\"https:\\\\u002F\\\\u002Fimg.xiaohongshu.com\\\\u002Favatar\\\\u002F5f46346febb4f6000191e7d9.jpg@80w_80h_90q_1e_1c_1x.jpg\",\"nickname\":\"康帅傅方便面\",\"redOfficialVerifyType\":0,\"redOfficialVerifyShowIcon\":false,\"officialVerified\":false},\"trackId\":\"txt_9_5f84f40900000000010025d6_-1_\"},{\"id\":\"5f89a49900000000010031b9\",\"title\":\"日式居家日记｜生活美学｜今天是中华胃\",\"type\":\"normal\",\"likes\":21,\"isLiked\":false,\"cover\":{\"url\":\"http:\\\\u002F\\\\u002Fci.xiaohongshu.com\\\\u002F3e34d62b-e9ff-33c2-8333-f876e4feba1a?imageView2\\\\u002F2\\\\u002Fw\\\\u002F540\\\\u002Fformat\\\\u002Fjpg\",\"gifUrl\":\"\",\"width\":1280,\"height\":1706,\"fileId\":\"3e34d62b-e9ff-33c2-8333-f876e4feba1a\"},\"time\":\"2020-10-16 21:48\",\"user\":{\"id\":\"5ea9bdf40000000001003596\",\"image\":\"https:\\\\u002F\\\\u002Fimg.xiaohongshu.com\\\\u002Favatar\\\\u002F5f043d550ab1b1000168d73e.jpg@80w_80h_90q_1e_1c_1x.jpg\",\"nickname\":\"香奶奶祖小羽👵\",\"redOfficialVerifyType\":0,\"redOfficialVerifyShowIcon\":false,\"officialVerified\":false},\"trackId\":\"txt_10_5f89a49900000000010031b9_-1_\"},{\"id\":\"5f8939af0000000001008d3c\",\"title\":\"在郁达夫笔下金秋吃顿暖和火锅吧｜北京新店\",\"type\":\"normal\",\"likes\":4433,\"isLiked\":false,\"cover\":{\"url\":\"http:\\\\u002F\\\\u002Fci.xiaohongshu.com\\\\u002Fb9dbe65a-bbec-34e0-bde0-1ec6e41b1253?imageView2\\\\u002F2\\\\u002Fw\\\\u002F540\\\\u002Fformat\\\\u002Fjpg\",\"gifUrl\":\"\",\"width\":1279,\"height\":1705,\"fileId\":\"b9dbe65a-bbec-34e0-bde0-1ec6e41b1253\"},\"time\":\"2020-10-16 14:11\",\"user\":{\"id\":\"55cf680bb7ba2264abc32c04\",\"image\":\"https:\\\\u002F\\\\u002Fimg.xiaohongshu.com\\\\u002Favatar\\\\u002F5ee5b8de6ee58b0001229e72.jpg@80w_80h_90q_1e_1c_1x.jpg\",\"nickname\":\"SHERORITA\",\"redOfficialVerifyType\":0,\"redOfficialVerifyShowIcon\":false,\"officialVerified\":false},\"trackId\":\"txt_11_5f8939af0000000001008d3c_-1_\"}],\"panelContent\":\"相关笔记\",\"isLoading\":false,\"isSougou\":false}}</script></body></html>'"
      ]
     },
     "execution_count": 7,
     "metadata": {},
     "output_type": "execute_result"
    }
   ],
   "source": [
    "test_data"
   ]
  },
  {
   "cell_type": "code",
   "execution_count": 5,
   "metadata": {
    "ExecuteTime": {
     "end_time": "2021-03-05T03:19:09.880682Z",
     "start_time": "2021-03-05T03:19:09.870408Z"
    }
   },
   "outputs": [],
   "source": [
    "test_content = re.compile(',\"title\":\"(.*?)\",\"id\":')\n",
    "test_content_list = test_content.findall(test_data)"
   ]
  },
  {
   "cell_type": "code",
   "execution_count": 8,
   "metadata": {
    "ExecuteTime": {
     "end_time": "2021-03-02T05:50:09.917855Z",
     "start_time": "2021-03-02T05:50:09.906229Z"
    }
   },
   "outputs": [
    {
     "data": {
      "text/plain": [
       "['宅家自制水果燕麦杯！健康谷物麦片太可了～\",\"desc\":\"我家中常备的就是麦片啦！早上可以泡牛奶做早餐吃 下午可以整点花式下午茶 当作晚餐吃饱腹又代餐👀 全能选手没错啦～\\\\n最近入手了新麦片尝尝鲜 周末在家做了高颜值的猕猴桃燕麦杯当下午茶吃 🌈有颜又好吃 \\\\n-\\\\n👉🏻也给大家分享我的麦片杯做法哦\\\\n1⃣️先在杯底铺上一层麦片\\\\n️2⃣️把切片的猕猴桃固定在杯壁上一圈\\\\n3⃣️倒入酸奶后顶层再铺上麦片，最后用薄荷叶点缀下\\\\n-\\\\n简单几步手残也能Get同款哦！🥳我用的是欣善怡家的麦片做的燕麦杯 🤍是来源于新西兰进口的麦片 包含多种谷物🥖和果干 🍒营养丰富好吃不会胖！\\\\n-\\\\n💛燕麦夏威夷果口味：里面有香脆好吃的夏威夷果哦！还添加了膨化小麦，吃起来像爆米花一样松脆，越吃越上瘾[哇R]\\\\n💙椰果扁桃仁果味：椰果和扁桃仁的神仙组合！干吃或者搭配酸奶、牛奶一起吃都好吃 清爽不油腻 脆爽可口～[斜眼R]\\\\n-\\\\n没有什么比这样一碗好吃又不胖的燕麦杯更诱人的啦！专治嘴馋，可要家中常囤啦！👻']"
      ]
     },
     "execution_count": 8,
     "metadata": {},
     "output_type": "execute_result"
    }
   ],
   "source": [
    "test_content_list"
   ]
  },
  {
   "cell_type": "markdown",
   "metadata": {
    "heading_collapsed": true
   },
   "source": [
    "### Test with short lists of URL (using for loop)"
   ]
  },
  {
   "cell_type": "code",
   "execution_count": 31,
   "metadata": {
    "ExecuteTime": {
     "end_time": "2021-03-02T06:26:05.129236Z",
     "start_time": "2021-03-02T06:26:00.551221Z"
    },
    "hidden": true
   },
   "outputs": [],
   "source": [
    "temp_content=re.compile(',\"title\":\"(.*?)\",\"id\":')\n",
    "temp_data=[requests.get(urls[0], headers = info).text]\n",
    "temp_content_list=[temp_content.findall(temp_data[0])]\n",
    "temp_urls=[urls[0],urls[1],urls[2],urls[3]]\n",
    "for i in range(1,len(temp_urls)):\n",
    "    temp_data.append(requests.get(temp_urls[i],headers = info).text)\n",
    "    temp_content_list.append(temp_content.findall(temp_data[i]))"
   ]
  },
  {
   "cell_type": "code",
   "execution_count": 32,
   "metadata": {
    "ExecuteTime": {
     "end_time": "2021-03-02T06:26:14.620472Z",
     "start_time": "2021-03-02T06:26:14.608332Z"
    },
    "hidden": true
   },
   "outputs": [
    {
     "data": {
      "text/plain": [
       "[['宅家自制水果燕麦杯！健康谷物麦片太可了～\",\"desc\":\"我家中常备的就是麦片啦！早上可以泡牛奶做早餐吃 下午可以整点花式下午茶 当作晚餐吃饱腹又代餐👀 全能选手没错啦～\\\\n最近入手了新麦片尝尝鲜 周末在家做了高颜值的猕猴桃燕麦杯当下午茶吃 🌈有颜又好吃 \\\\n-\\\\n👉🏻也给大家分享我的麦片杯做法哦\\\\n1⃣️先在杯底铺上一层麦片\\\\n️2⃣️把切片的猕猴桃固定在杯壁上一圈\\\\n3⃣️倒入酸奶后顶层再铺上麦片，最后用薄荷叶点缀下\\\\n-\\\\n简单几步手残也能Get同款哦！🥳我用的是欣善怡家的麦片做的燕麦杯 🤍是来源于新西兰进口的麦片 包含多种谷物🥖和果干 🍒营养丰富好吃不会胖！\\\\n-\\\\n💛燕麦夏威夷果口味：里面有香脆好吃的夏威夷果哦！还添加了膨化小麦，吃起来像爆米花一样松脆，越吃越上瘾[哇R]\\\\n💙椰果扁桃仁果味：椰果和扁桃仁的神仙组合！干吃或者搭配酸奶、牛奶一起吃都好吃 清爽不油腻 脆爽可口～[斜眼R]\\\\n-\\\\n没有什么比这样一碗好吃又不胖的燕麦杯更诱人的啦！专治嘴馋，可要家中常囤啦！👻'],\n",
       " ['高颜值红薯谷物牛奶杯🥤，冬日热饮get\",\"desc\":\"🌿红薯直接蒸着吃腻了，那就来点不一样的，简单几步DIY，就是一杯有颜有料的冬日热饮啦🌿 @吃货薯 \\\\n食材：蒸熟的红薯150克、奶粉100克、谷物麦片适量 @生活薯 \\\\n\\xa0👇🏻\\xa0步骤\\xa0👇🏻\\\\n1⃣️养生壶烧水，水烧开后倒400ml把奶粉泡开\\\\n2⃣️红薯倒入大宇轻养破壁机中，倒入100ml泡好的牛奶，用奶昔功能打成红薯泥\\\\n3⃣️用勺子把红薯泥填入杯中\\\\n4⃣️剩下的热牛奶打发出奶泡，倒入杯子中\\\\n5⃣️最后撒上谷物麦片就🆗了 @吃不饱同学 \\\\n💕喝之前用勺子搅拌均匀，香甜美味又温暖哦💕 @哥登生活好物 '],\n",
       " ['\",\"desc\":\"卡乐比麦片800克，真正日本本土版，营养早餐，吃法多多！！香脆可口！[色]Calbee卡乐比🍥燕麦水果谷物麦片（无添加防腐剂），多种水果谷物：🍎苹果 、🏉木瓜、🍓草莓 、🌴椰果、🎃南瓜仁 、🍇葡萄干、🌾燕麦、🍚玄米、🍀小麦，富含维他命A、D、B1、B6、B12等，营养美味，泡牛奶、冲豆浆、配酸奶、拌沙拉，可以方便简单也可高大上！尽情享用吧😊'],\n",
       " ['Day187 低卡饱腹颜在线的｜香蕉树梅燕麦粥\",\"desc\":\"早啊～\\\\n昨天晚上去吃了羊棒子，早上起来感觉都没有消化完，今天吃一个燕麦碗吧！低卡饱腹无负担[派对R]\\\\n食材：\\\\n原味燕麦30g\\\\n牛奶100ml\\\\n香蕉1根\\\\n树莓、蓝莓十多颗\\\\n谷物麦片、椰蓉适量\\\\n步骤：\\\\n1⃣️燕麦➕牛奶放入奶锅煮熟\\\\n2⃣️燕麦粥➕半根香蕉➕几颗蓝莓➕几颗树梅打成泥\\\\n3⃣️半根香蕉切片，燕麦粥装入碗中，用香蕉、谷物麦片、蓝莓、树莓装饰，最后撒上一点椰蓉即可']]"
      ]
     },
     "execution_count": 32,
     "metadata": {},
     "output_type": "execute_result"
    }
   ],
   "source": [
    "temp_content_list"
   ]
  },
  {
   "cell_type": "markdown",
   "metadata": {
    "heading_collapsed": true
   },
   "source": [
    "### Get full content lists (using for loop) "
   ]
  },
  {
   "cell_type": "code",
   "execution_count": 34,
   "metadata": {
    "ExecuteTime": {
     "end_time": "2021-03-02T06:28:49.175294Z",
     "start_time": "2021-03-02T06:28:42.136058Z"
    },
    "hidden": true
   },
   "outputs": [],
   "source": [
    "content=re.compile(',\"title\":\"(.*?)\",\"id\":')\n",
    "data=[requests.get(urls[0], headers = info).text]\n",
    "content_list=[content.findall(data[0])]\n",
    "for i in range(1,len(urls)):\n",
    "    data.append(requests.get(urls[i],headers = info).text)\n",
    "    content_list.append(content.findall(data[i]))"
   ]
  },
  {
   "cell_type": "code",
   "execution_count": 35,
   "metadata": {
    "ExecuteTime": {
     "end_time": "2021-03-02T06:28:54.203843Z",
     "start_time": "2021-03-02T06:28:54.189770Z"
    },
    "hidden": true
   },
   "outputs": [
    {
     "data": {
      "text/plain": [
       "[['宅家自制水果燕麦杯！健康谷物麦片太可了～\",\"desc\":\"我家中常备的就是麦片啦！早上可以泡牛奶做早餐吃 下午可以整点花式下午茶 当作晚餐吃饱腹又代餐👀 全能选手没错啦～\\\\n最近入手了新麦片尝尝鲜 周末在家做了高颜值的猕猴桃燕麦杯当下午茶吃 🌈有颜又好吃 \\\\n-\\\\n👉🏻也给大家分享我的麦片杯做法哦\\\\n1⃣️先在杯底铺上一层麦片\\\\n️2⃣️把切片的猕猴桃固定在杯壁上一圈\\\\n3⃣️倒入酸奶后顶层再铺上麦片，最后用薄荷叶点缀下\\\\n-\\\\n简单几步手残也能Get同款哦！🥳我用的是欣善怡家的麦片做的燕麦杯 🤍是来源于新西兰进口的麦片 包含多种谷物🥖和果干 🍒营养丰富好吃不会胖！\\\\n-\\\\n💛燕麦夏威夷果口味：里面有香脆好吃的夏威夷果哦！还添加了膨化小麦，吃起来像爆米花一样松脆，越吃越上瘾[哇R]\\\\n💙椰果扁桃仁果味：椰果和扁桃仁的神仙组合！干吃或者搭配酸奶、牛奶一起吃都好吃 清爽不油腻 脆爽可口～[斜眼R]\\\\n-\\\\n没有什么比这样一碗好吃又不胖的燕麦杯更诱人的啦！专治嘴馋，可要家中常囤啦！👻'],\n",
       " ['高颜值红薯谷物牛奶杯🥤，冬日热饮get\",\"desc\":\"🌿红薯直接蒸着吃腻了，那就来点不一样的，简单几步DIY，就是一杯有颜有料的冬日热饮啦🌿 @吃货薯 \\\\n食材：蒸熟的红薯150克、奶粉100克、谷物麦片适量 @生活薯 \\\\n\\xa0👇🏻\\xa0步骤\\xa0👇🏻\\\\n1⃣️养生壶烧水，水烧开后倒400ml把奶粉泡开\\\\n2⃣️红薯倒入大宇轻养破壁机中，倒入100ml泡好的牛奶，用奶昔功能打成红薯泥\\\\n3⃣️用勺子把红薯泥填入杯中\\\\n4⃣️剩下的热牛奶打发出奶泡，倒入杯子中\\\\n5⃣️最后撒上谷物麦片就🆗了 @吃不饱同学 \\\\n💕喝之前用勺子搅拌均匀，香甜美味又温暖哦💕 @哥登生活好物 '],\n",
       " ['\",\"desc\":\"卡乐比麦片800克，真正日本本土版，营养早餐，吃法多多！！香脆可口！[色]Calbee卡乐比🍥燕麦水果谷物麦片（无添加防腐剂），多种水果谷物：🍎苹果 、🏉木瓜、🍓草莓 、🌴椰果、🎃南瓜仁 、🍇葡萄干、🌾燕麦、🍚玄米、🍀小麦，富含维他命A、D、B1、B6、B12等，营养美味，泡牛奶、冲豆浆、配酸奶、拌沙拉，可以方便简单也可高大上！尽情享用吧😊'],\n",
       " ['Day187 低卡饱腹颜在线的｜香蕉树梅燕麦粥\",\"desc\":\"早啊～\\\\n昨天晚上去吃了羊棒子，早上起来感觉都没有消化完，今天吃一个燕麦碗吧！低卡饱腹无负担[派对R]\\\\n食材：\\\\n原味燕麦30g\\\\n牛奶100ml\\\\n香蕉1根\\\\n树莓、蓝莓十多颗\\\\n谷物麦片、椰蓉适量\\\\n步骤：\\\\n1⃣️燕麦➕牛奶放入奶锅煮熟\\\\n2⃣️燕麦粥➕半根香蕉➕几颗蓝莓➕几颗树梅打成泥\\\\n3⃣️半根香蕉切片，燕麦粥装入碗中，用香蕉、谷物麦片、蓝莓、树莓装饰，最后撒上一点椰蓉即可'],\n",
       " ['宿舍女孩减脂必囤✨一起变美变瘦吧\",\"desc\":\"嘿嘿嘿❗低卡零食分享收好啦✨\\\\n都是平价好物，自用一段时间啦🍹\\\\n✅低卡✅免煮✅平价✅饱腹\\\\n.\\\\n🔥hometaco代餐粉\\\\n🔥红参糖\\\\n🔥混合谷物麦片\\\\n🔥JuJu烟酰胺冲泡饮品\\\\n🔥无糖桑葚汁'],\n",
       " ['🥣菊乐酸奶➕Nana谷物麦片\",\"desc\":\"最近真的超爱这款菊乐酸奶！！太好喝了！！以前只有成都能买到！！现在线上也可以买到啦！！\\\\n10月从澳门回来 体重飙升到56kg[失望R]\\\\n累感无爱[笑哭R][笑哭R][笑哭R]经过20天…终于稍微恢复一点，继续加油！没有节食…没有运动…不过夜宵确实不吃了…奶茶也从一天一杯变成2-3天一杯[害羞R]\\\\n随着年龄增长新陈代谢开始变慢，所以胖起来容易，瘦下来就难了，我借助酵素加快新陈代谢。\\\\n每天早晨起来一袋白藜芦醇，到公司酸奶加麦片，再会吃一点锅贴或者麻球，煎饼什么的，嘿嘿早餐要吃饱嘛…\\\\n中午餐前一瓶酵素，我不怎么爱吃米饭，所以午餐我一般都是面食或者几个自己喜欢的小菜。下午3点左右会想吃东西，也不一定是饿…可能之前下午茶喝惯了，最近用Nana代餐取代。\\\\n晚餐我也不吃米饭类，就只吃菜，但是不控制量[汗颜R]不过Nana代餐有饱腹感，所以晚餐我吃的并不多。不过嘿嘿，这些天里我吃过2次自助餐…去过1次迪士尼…还吃过2次火锅…1次烤肉…所以…这个体重我已经很满意啦[害羞R]'],\n",
       " ['酸酸甜甜嚼着喝的果粒酸奶来啦!\",\"desc\":\"惠丰嚼酸奶，小清新的颜值,\\\\n打开是一股浓浓的果香甜,里边添加超大颗果粒 \\\\n可以让你嚼着喝的果粒酸奶,\\\\n简直就是小仙女的最爱!💃\\\\n喝酸奶有什么好处?\\\\n√酸奶营养高,含有丰富的维生素、含优质的蛋白质\\\\n√能通色,促进肠道蠕动,加快消化\\\\n√提高免疫力,吃东西前喝一杯酸奶,增强饱腹感\\\\n○什么时候喝比较好?\\\\n√餐前喝一杯,增强饱腹感,不建议餐后吃 x\\\\n○该怎么喝?\\\\n1、做酸奶冰淇凌吃·(敲好吃)\\\\n2、搭配谷物麦片\\\\n3、做蔬菜沙拉酸奶\\\\n4、搭配全麦面包,鸡蛋吃\\\\n○为什么种草这款酸奶?\\\\n√真的超浓郁奶香,味道偏酸但不是鉤甜的酸奶,冷藏后又像豆腐块一样姐妹们，👭赶快get同款吧～'],\n",
       " ['11月3日早餐｜吐司版披萨🍕\",\"desc\":\"☀️早安🏠早餐\\\\n感恩的心\\\\n都藏在每一餐里\\\\n再华丽的词语\\\\n也比不过一日三餐的用心🌷\\\\n今日早餐：全麦吐司版披萨、糯玉米、水煮蛋、蜜桔、谷物麦片无糖酸奶'],\n",
       " ['懒人厨房｜那些独自宅家的日子🌈燕麦为伴\",\"desc\":\"[汗颜R][失望R]老爸老妈去旅游了\\\\n[可怜R][哭惹R]叮嘱我一个人也要好好吃饭\\\\n👉贝氏澳洲燕麦片\\\\n好大一桶，能吃很久\\\\n💜🎀贝氏燕麦，甄选来自澳洲阳光谷物麦片为原料\\\\n浓浓的麦香，冲泡只要五分钟\\\\n饱腹感强，营养代餐'],\n",
       " ['坚持护发养发，不做秃头小宝贝\",\"desc\":\"我平时很喜欢做发型，还隔三差五卷一次头发\\\\n虽然是用卷发棒暂时性卷\\\\n但次数频繁了对头发也不好\\\\n会引起掉发、脱发问题\\\\n很多宝宝看我经常切换发型\\\\n没什么困扰,都在好奇\\\\n其实我一直都在悄悄养发哦～\\\\n-\\\\n日常除了滋养型洗护和专用修护的发膜外\\\\n我还注重以内养外的口服滋补\\\\n其实养发很简单，经常吃黑色谷物就可以了\\\\n所以我们要选个口碑好比较有名的谷物麦片！\\\\n-\\\\n💓现在桂格五黑燕麦片实在太火了\\\\n无论是养生达人还是美妆护肤达人都在吃！\\\\n而且她们的头发状态确实很好，我就跟着一起吃上了~\\\\n-\\\\n桂格五黑燕麦片含有五种黑色谷物\\\\n养发的需求都能满足！\\\\n✔️黑芝麻、黑米、黑豆可以帮助生长新的头发\\\\n还有黑小麦以黑养黑让发丝乌黑亮丽！\\\\n-\\\\n它吃起来很方便，平时直接用水冲泡五分钟就行\\\\n一口下去软软糯糯，还泛滥着谷物的醇香，超满足！\\\\n我后来都当做早饭吃的，有营养能养发还健康方便\\\\n适合很多上班族哦！\\\\n✔️日常还可以加工一下当做下午茶\\\\n比如冲泡五分钟后加入酸奶和水果🍓\\\\n或者加入牛奶、桂圆、芋圆等，再淋点蜂蜜🐝\\\\n怎么吃都很美味！吃法多多滋味也多多！\\\\n-\\\\n它的营养黑色谷物都是按照科学配比方式\\\\n所以每一种谷物的营养都能被吸收\\\\n其实小仙女们在减肥期，也可以放心天天吃\\\\n它没有添加蔗糖，本身谷物也是低卡高蛋白\\\\n所以热量低到可以忽略不计！\\\\n你们减肥期间的代餐也能用桂格五黑燕麦片替代哦\\\\n裹腹感很强的‼️\\\\n吃得饱还美味还不长胖，又能慢慢养头发，一举多得呀！\\\\n-\\\\n我已经吃了大半袋，期间换着各种花样吃\\\\n等于多了好几种解馋小零食呢\\\\n现在枕头上没有那么多掉发了\\\\n梳头的时候也不会满满一梳子头发\\\\n尤其是天天打扫的浴室，以前掉发都能团成一个小球\\\\n我家猫特别喜欢拽着玩，现在只有寥寥几根掉发\\\\n它已经没得玩啦~\\\\n-\\\\n可见食补养发还是以纯粹的谷物好\\\\n不会有副作用效果也能看到\\\\n毕竟谷物的营养一直是公认的\\\\n只要我们坚持吃桂格五黑燕麦片\\\\n都能拥有一头乌黑亮丽的秀发啦~'],\n",
       " ['精致女孩的营养早餐🍳｜即食麦片\",\"desc\":\"虽然工作生活每天都是忙忙碌碌的\\\\n但是早餐是一定少不了的\\\\n[哭惹R]身体如果出现问题的话\\\\n再高效的工作都是得不偿失\\\\n所以我早上起来都会泡一杯\\\\n欣善怡优粹麦谷物即食麦片来吃\\\\n吃了热腾腾的早餐♨肚子也会变乖哦！\\\\n最重要的是有能量去工作！\\\\n——\\\\n✨我每天早上都是酸奶\\\\u002F牛奶➕谷物麦片\\\\n冲泡以后麦片的香气就蔓延开啦\\\\n再放入一些新鲜的🍉水果\\\\n吃起来真的太赞啦！\\\\n[派对R]搭配着一起吃很简单方便\\\\n最重要的是清淡又营养养生🍂！\\\\n——\\\\n它家的麦片是🇦🇺当地的优质农场，\\\\n都是纯天然的，\\\\n一打开袋子就能闻到淡淡的麦香味🌾，\\\\n闻着就很有食欲啊！\\\\n它是那种全麦💯%来自澳洲当地优质农场，\\\\n原粒压制，非常优质！！！\\\\n——\\\\n麦片是属于低脂低糖、高纤维的，\\\\n吃了热量很低的同时还能有饱腹感\\\\n🌾麦片总体脂肪含量低至1.4%🍁\\\\n饱和脂肪酸含量低至0.2%\\\\n瘦身减脂期间吃它太给力啦！\\\\n边吃变瘦，果然超模的身材是吃出来的呀！\\\\n——\\\\n一打开是完完整整的麦片还可以生吃，当零食，\\\\n口感香香脆脆der〰️好吃😋\\\\n周末宅家追剧嘴馋时就可以吃一些啦！\\\\n好吃不低脂，吃多了也不会发胖。\\\\n[赞R]一盒麦片也足足有1.4kg呢，\\\\n可以吃超久，真的家中必囤啦！\\\\n——\\\\n⚠⚠[哇R]注意与牛奶酸奶果汁水果搭配食用口感NO.1'],\n",
       " ['水果麦片居然有这么多酸奶块，真的好吗？\",\"desc\":\"✨现在的人，都很注意养身减肥，特别是女孩子，喜欢低脂健康的食物。[萌萌哒R]其中，麦片可以说是很好的代餐了，高纤维，饱腹感又很强！\\\\n🍃所以家里的麦片，少说也囤了六七盒，原味的，水果麦片的，奇亚籽的，其中回gou好多次的，就是这款好麦多，酸奶桃桃奇亚籽谷物麦片！\\\\n✨好麦多这款麦片，酸奶块真的很多也很好吃，但是每次我都只能尝一尝，因为一打开，就会被我儿子吃完！[大笑R]儿子超喜欢这个酸奶块，吃完酸奶块，就挑玉米片，椰片，三岁的儿子是拿水果麦片当零食吃了，[暗中观察R]因为好麦多麦片，非油炸，健康低脂，不怕胖，所以看到儿子喜欢，老母亲也很欣慰。剩下的奇亚籽麦片，就是老母亲泡酸奶或者牛奶了🥛！[偷笑R]因为奇亚籽饱腹感特别强，下午吃了，到晚上都不饿。[萌萌哒R]\\\\n\\\\n🍃二话不说，双1⃣️1⃣️直接囤起来啦！[买爆R]\\\\n'],\n",
       " ['Day189 低卡饱腹颜值超高的｜可可燕麦粥🥣\",\"desc\":\"早啊～\\\\n今天吃可可燕麦粥，据说可可粉有各种美容养颜减脂抗氧化的作用，我呢就是觉得好看又好吃就好[偷笑R][偷笑R]\\\\n👉\\\\n食材：\\\\n原味麦片30g\\\\n牛奶100ml\\\\n蜂蜜1勺\\\\n花生酱1勺\\\\n谷物麦片、奇亚籽、杏仁片适量\\\\n树莓数颗\\\\n饼干2块\\\\n步骤：\\\\n1⃣️燕麦➕牛奶放入奶锅煮至浓稠，倒入碗中\\\\n2⃣️谷物麦片打底，再放上树莓、坚果、花生酱、饼干、坚果、杏仁片（150度烤一分钟）即可\\\\n话说，加了花生酱还真的不错呦，你要不要也试一下呢？[害羞R][害羞R]'],\n",
       " ['追剧必备零食💯低脂营养大颗粒酸奶麦片\",\"desc\":\"刚入了一款宋威龙、关晓彤等等\\\\n😍😍众明星推荐的的好麦多的奇亚籽谷物麦片\\\\n今天到货了、已经迫不及待的开吃了\\\\n我选择的是酸奶🍑桃桃口味的\\\\n一打开有一种清新的桃子🍑的香味，赞\\\\n好麦多封口是拉链设计，防潮保鲜，又方便拿取\\\\n里面很丰富，我们倒碗里放大看看🥰🥰\\\\n黄桃酸奶块、6种水果、6种坚果谷物、麦片非油炸哦\\\\n奇亚籽会比一般的麦片饱腹感强👍\\\\n开袋即食，干吃口感酥脆，好棒🙊🙊\\\\n一边追剧一边吃，爽🙊🙊\\\\n麦片还🉑️以搭配拌酸奶吃、豆浆、牛奶、冰淇淋一起吃\\\\n🤩🤩各种吃法最主要看个人喜好，是零食的首选\\\\n好麦多酸奶桃桃麦片，低热量，0蔗糖，代餐营养又饱腹，扛饿5小时🥰🥰\\\\n上班族，上学党来不急吃早餐，都可以直接代餐，\\\\n麦片用料足、味道又好，好赞，爱了❤️。\\\\n @吃货薯  @日常薯 '],\n",
       " ['11.3｜巧克力酱吐司｜橄榄菜拌饭｜糯玉米\",\"desc\":\"📝在小红书打卡的第138天！\\\\n—————————\\\\n🥣早餐：好丽友➕谷物麦片牛奶➕水果茶🍵\\\\n🥣午餐：🈚️\\\\n下午加餐：苹果➕巧克力酱吐司➕茉莉茶🍵\\\\n🥣晚餐：家常菜\\\\n黄瓜➕QQ糖➕饼干➕玉米（饿了就吃！\\\\n—————————\\\\n阿巴阿巴阿巴：\\\\n💬昨天吃完晚饭后喝了水果茶嘛\\\\n然后我就睡不着了[石化R][石化R][石化R]\\\\n好像一直熬到两三点才睡的\\\\n早上八点就醒了\\\\n真的好久没熬夜了\\\\n昨天晚上刷手机快刷吐了\\\\n也不知道是手机看久了想吐\\\\n还是熬夜了想吐\\\\n反正熬夜没好处\\\\n大家晚上千万别喝茶喝咖啡！！！\\\\n虽然是八点醒的\\\\n但是我十点才起床哈哈哈\\\\n没暴食没节食没体重的日子真的很快lo哈哈哈'],\n",
       " ['11.04小基数打卡205天|好麦多麦片太好吃惹\",\"desc\":\"身高 164cm\\\\n11.03体重 41.9kg\\\\n11.04体重 41.8kg\\\\n——碎碎念——\\\\n🎉昨天终于拿到快递——关晓彤、谭松韵、宋威龙代言的好麦多麦片～酸奶桃桃奇亚籽谷物麦片！！！这个麦片还有谁不知道吗？苦不苦种草它超久der\\\\n💕我种草它的原因很简单，最爱的桃子🍑口味，非油炸适合我这种减肥人士，富含饱腹感超强的奇亚籽❤️，还有大块黄桃酸奶块，超多坚果多样果肉🍓🍇，简直太适合和我一样减肥期小仙女！！！早餐来一份酸奶拌麦片🎊营养饱腹开启活力满满新一天✨\\\\n👓昨晚拿到快递就迫不及待拆开，铺面而来的桃子味，爱桃子味的苦不苦原地起飞好吗！🎵每一口都是不同的口感，混合着奇亚籽麦片坚果果肉的麦片，每次吃到不同的配料都是惊喜，超喜欢这种挖宝的感觉的人不止我一个叭🎗️先吃一口大块黄桃酸奶块，白桃丁、蔓越莓干、草莓干等水果都等着与味蕾\\\\n*⸜( •ᴗ• )⸝*相遇～\\\\n👉今天早餐黄桃酸奶拌着麦片，满满一大碗和室友分享美味，全都对麦片赞不绝口👍，双十一回购安排上👌\\\\n——饮食——\\\\n早餐:\\\\n酸奶+好麦多麦片（真的没吃多少，但是一上午都不饿！绝了绝了）\\\\n午餐:\\\\n麻辣烫\\\\n加餐:\\\\n辣条\\\\n晚餐:无\\\\n——运动——\\\\n暂无\\\\n——小任务——\\\\n💤睡觉 : 十一点五十到八点\\\\n💩:  暂无\\\\n🥛 : 喝水\\\\n饭后站二十分钟'],\n",
       " ['有好吃的面包推荐吗\",\"desc\":\"早：抹茶奶酥QQ酥➕芋头QQ酥➕麦片牛奶➕蓝莓\\\\n上午加餐：鲜牛奶➕泸溪河杨枝甘露泡芙\\\\n午：咖喱土豆鸡块➕芹菜肉丝➕炒青菜➕鱼头豆腐汤\\\\n下午加餐：明珠熟鱼片➕盐酥鸡➕泸溪河蛋卷\\\\n晚：奇亚籽谷物麦片酸奶➕蓝莓'],\n",
       " ['打工人的加油站⛽️\",\"desc\":\"谷物麦片：打工人补充能量的最佳选择，干吃的快乐+100 。懒鬼早餐只需牛奶一浇，精致懒鬼请选择热牛奶🥛'],\n",
       " ['红豆紫薯谷物麦片，即食免煮❗❗宝藏满满\",\"desc\":\"最近很多人喜欢谷物燕麦片，乐宝就不得不推荐一下我们的新产品了[偷笑R][偷笑R][偷笑R]\\\\n—\\\\n满满好料，看了就让人心动💗有木有💗\\\\n[害羞R]\\\\n紫薯丁+冻干红豆的混搭也太美味了吧😋\\\\n还有其他草莓片🍓苹果片🍎多种配料也太无敌了吧[哇R]\\\\n—\\\\n果干都超大的，真的很良心~\\\\n麦片也是低温烘焙非油炸的噢❗\\\\n[偷笑R][偷笑R]\\\\n买过的姐妹们👭纷纷来私信说谷物大宝藏了[赞R][赞R]\\\\n👏👏👏\\\\n不会干巴巴，无敌好吃，真的太戳心❤️💗💗😍😍😍']]"
      ]
     },
     "execution_count": 35,
     "metadata": {},
     "output_type": "execute_result"
    }
   ],
   "source": [
    "content_list"
   ]
  },
  {
   "cell_type": "markdown",
   "metadata": {
    "heading_collapsed": true
   },
   "source": [
    "### 词云分析"
   ]
  },
  {
   "cell_type": "code",
   "execution_count": 50,
   "metadata": {
    "ExecuteTime": {
     "end_time": "2021-03-02T08:21:23.985454Z",
     "start_time": "2021-03-02T08:21:23.964165Z"
    },
    "hidden": true
   },
   "outputs": [
    {
     "data": {
      "text/html": [
       "<div>\n",
       "<style scoped>\n",
       "    .dataframe tbody tr th:only-of-type {\n",
       "        vertical-align: middle;\n",
       "    }\n",
       "\n",
       "    .dataframe tbody tr th {\n",
       "        vertical-align: top;\n",
       "    }\n",
       "\n",
       "    .dataframe thead th {\n",
       "        text-align: right;\n",
       "    }\n",
       "</style>\n",
       "<table border=\"1\" class=\"dataframe\">\n",
       "  <thead>\n",
       "    <tr style=\"text-align: right;\">\n",
       "      <th></th>\n",
       "      <th>内容</th>\n",
       "    </tr>\n",
       "  </thead>\n",
       "  <tbody>\n",
       "    <tr>\n",
       "      <th>0</th>\n",
       "      <td>宅家自制水果燕麦杯！健康谷物麦片太可了～\",\"desc\":\"我家中常备的就是麦片啦！早上可以...</td>\n",
       "    </tr>\n",
       "    <tr>\n",
       "      <th>1</th>\n",
       "      <td>高颜值红薯谷物牛奶杯🥤，冬日热饮get\",\"desc\":\"🌿红薯直接蒸着吃腻了，那就来点不一...</td>\n",
       "    </tr>\n",
       "    <tr>\n",
       "      <th>2</th>\n",
       "      <td>\",\"desc\":\"卡乐比麦片800克，真正日本本土版，营养早餐，吃法多多！！香脆可口！[色...</td>\n",
       "    </tr>\n",
       "    <tr>\n",
       "      <th>3</th>\n",
       "      <td>Day187 低卡饱腹颜在线的｜香蕉树梅燕麦粥\",\"desc\":\"早啊～\\n昨天晚上去吃了羊...</td>\n",
       "    </tr>\n",
       "    <tr>\n",
       "      <th>4</th>\n",
       "      <td>宿舍女孩减脂必囤✨一起变美变瘦吧\",\"desc\":\"嘿嘿嘿❗低卡零食分享收好啦✨\\n都是平价...</td>\n",
       "    </tr>\n",
       "    <tr>\n",
       "      <th>5</th>\n",
       "      <td>🥣菊乐酸奶➕Nana谷物麦片\",\"desc\":\"最近真的超爱这款菊乐酸奶！！太好喝了！！以前...</td>\n",
       "    </tr>\n",
       "    <tr>\n",
       "      <th>6</th>\n",
       "      <td>酸酸甜甜嚼着喝的果粒酸奶来啦!\",\"desc\":\"惠丰嚼酸奶，小清新的颜值,\\n打开是一股浓...</td>\n",
       "    </tr>\n",
       "    <tr>\n",
       "      <th>7</th>\n",
       "      <td>11月3日早餐｜吐司版披萨🍕\",\"desc\":\"☀️早安🏠早餐\\n感恩的心\\n都藏在每一餐里...</td>\n",
       "    </tr>\n",
       "    <tr>\n",
       "      <th>8</th>\n",
       "      <td>懒人厨房｜那些独自宅家的日子🌈燕麦为伴\",\"desc\":\"[汗颜R][失望R]老爸老妈去旅游...</td>\n",
       "    </tr>\n",
       "    <tr>\n",
       "      <th>9</th>\n",
       "      <td>坚持护发养发，不做秃头小宝贝\",\"desc\":\"我平时很喜欢做发型，还隔三差五卷一次头发\\n...</td>\n",
       "    </tr>\n",
       "    <tr>\n",
       "      <th>10</th>\n",
       "      <td>精致女孩的营养早餐🍳｜即食麦片\",\"desc\":\"虽然工作生活每天都是忙忙碌碌的\\n但是早餐...</td>\n",
       "    </tr>\n",
       "    <tr>\n",
       "      <th>11</th>\n",
       "      <td>水果麦片居然有这么多酸奶块，真的好吗？\",\"desc\":\"✨现在的人，都很注意养身减肥，特别...</td>\n",
       "    </tr>\n",
       "    <tr>\n",
       "      <th>12</th>\n",
       "      <td>Day189 低卡饱腹颜值超高的｜可可燕麦粥🥣\",\"desc\":\"早啊～\\n今天吃可可燕麦粥...</td>\n",
       "    </tr>\n",
       "    <tr>\n",
       "      <th>13</th>\n",
       "      <td>追剧必备零食💯低脂营养大颗粒酸奶麦片\",\"desc\":\"刚入了一款宋威龙、关晓彤等等\\n😍😍...</td>\n",
       "    </tr>\n",
       "    <tr>\n",
       "      <th>14</th>\n",
       "      <td>11.3｜巧克力酱吐司｜橄榄菜拌饭｜糯玉米\",\"desc\":\"📝在小红书打卡的第138天！\\...</td>\n",
       "    </tr>\n",
       "    <tr>\n",
       "      <th>15</th>\n",
       "      <td>11.04小基数打卡205天|好麦多麦片太好吃惹\",\"desc\":\"身高 164cm\\n11...</td>\n",
       "    </tr>\n",
       "    <tr>\n",
       "      <th>16</th>\n",
       "      <td>有好吃的面包推荐吗\",\"desc\":\"早：抹茶奶酥QQ酥➕芋头QQ酥➕麦片牛奶➕蓝莓\\n上午...</td>\n",
       "    </tr>\n",
       "    <tr>\n",
       "      <th>17</th>\n",
       "      <td>打工人的加油站⛽️\",\"desc\":\"谷物麦片：打工人补充能量的最佳选择，干吃的快乐+100...</td>\n",
       "    </tr>\n",
       "    <tr>\n",
       "      <th>18</th>\n",
       "      <td>红豆紫薯谷物麦片，即食免煮❗❗宝藏满满\",\"desc\":\"最近很多人喜欢谷物燕麦片，乐宝就不...</td>\n",
       "    </tr>\n",
       "  </tbody>\n",
       "</table>\n",
       "</div>"
      ],
      "text/plain": [
       "                                                   内容\n",
       "0   宅家自制水果燕麦杯！健康谷物麦片太可了～\",\"desc\":\"我家中常备的就是麦片啦！早上可以...\n",
       "1   高颜值红薯谷物牛奶杯🥤，冬日热饮get\",\"desc\":\"🌿红薯直接蒸着吃腻了，那就来点不一...\n",
       "2   \",\"desc\":\"卡乐比麦片800克，真正日本本土版，营养早餐，吃法多多！！香脆可口！[色...\n",
       "3   Day187 低卡饱腹颜在线的｜香蕉树梅燕麦粥\",\"desc\":\"早啊～\\n昨天晚上去吃了羊...\n",
       "4   宿舍女孩减脂必囤✨一起变美变瘦吧\",\"desc\":\"嘿嘿嘿❗低卡零食分享收好啦✨\\n都是平价...\n",
       "5   🥣菊乐酸奶➕Nana谷物麦片\",\"desc\":\"最近真的超爱这款菊乐酸奶！！太好喝了！！以前...\n",
       "6   酸酸甜甜嚼着喝的果粒酸奶来啦!\",\"desc\":\"惠丰嚼酸奶，小清新的颜值,\\n打开是一股浓...\n",
       "7   11月3日早餐｜吐司版披萨🍕\",\"desc\":\"☀️早安🏠早餐\\n感恩的心\\n都藏在每一餐里...\n",
       "8   懒人厨房｜那些独自宅家的日子🌈燕麦为伴\",\"desc\":\"[汗颜R][失望R]老爸老妈去旅游...\n",
       "9   坚持护发养发，不做秃头小宝贝\",\"desc\":\"我平时很喜欢做发型，还隔三差五卷一次头发\\n...\n",
       "10  精致女孩的营养早餐🍳｜即食麦片\",\"desc\":\"虽然工作生活每天都是忙忙碌碌的\\n但是早餐...\n",
       "11  水果麦片居然有这么多酸奶块，真的好吗？\",\"desc\":\"✨现在的人，都很注意养身减肥，特别...\n",
       "12  Day189 低卡饱腹颜值超高的｜可可燕麦粥🥣\",\"desc\":\"早啊～\\n今天吃可可燕麦粥...\n",
       "13  追剧必备零食💯低脂营养大颗粒酸奶麦片\",\"desc\":\"刚入了一款宋威龙、关晓彤等等\\n😍😍...\n",
       "14  11.3｜巧克力酱吐司｜橄榄菜拌饭｜糯玉米\",\"desc\":\"📝在小红书打卡的第138天！\\...\n",
       "15  11.04小基数打卡205天|好麦多麦片太好吃惹\",\"desc\":\"身高 164cm\\n11...\n",
       "16  有好吃的面包推荐吗\",\"desc\":\"早：抹茶奶酥QQ酥➕芋头QQ酥➕麦片牛奶➕蓝莓\\n上午...\n",
       "17  打工人的加油站⛽️\",\"desc\":\"谷物麦片：打工人补充能量的最佳选择，干吃的快乐+100...\n",
       "18  红豆紫薯谷物麦片，即食免煮❗❗宝藏满满\",\"desc\":\"最近很多人喜欢谷物燕麦片，乐宝就不..."
      ]
     },
     "execution_count": 50,
     "metadata": {},
     "output_type": "execute_result"
    }
   ],
   "source": [
    "fullContent=pd.DataFrame(content_list,columns=['内容'])\n",
    "fullContent"
   ]
  },
  {
   "cell_type": "code",
   "execution_count": 51,
   "metadata": {
    "ExecuteTime": {
     "end_time": "2021-03-02T08:22:49.732264Z",
     "start_time": "2021-03-02T08:22:49.724801Z"
    },
    "hidden": true
   },
   "outputs": [],
   "source": [
    "neiRong=fullContent['内容'][0]\n",
    "for i in range(1,len(fullContent['内容'])):\n",
    "    neiRong=neiRong+'\\n'+fullContent['内容'][i]"
   ]
  },
  {
   "cell_type": "code",
   "execution_count": 53,
   "metadata": {
    "ExecuteTime": {
     "end_time": "2021-03-02T08:23:57.398523Z",
     "start_time": "2021-03-02T08:23:57.370376Z"
    },
    "hidden": true
   },
   "outputs": [],
   "source": [
    "# 定义函数\n",
    "def fenJu(text):\n",
    "    juzi=[]\n",
    "    start=0\n",
    "    end=0\n",
    "    for i in range(len(text)):\n",
    "        if text[i]=='\\n':\n",
    "            end=i+1\n",
    "            juzi.append(text[start:end])\n",
    "            start=i+1\n",
    "    return juzi\n",
    "\n",
    "def tiQu(juzi,ci):\n",
    "    output=''\n",
    "    count=0\n",
    "    for i in range(len(juzi)):\n",
    "        if juzi[i].find(ci)>=0:\n",
    "            output=output+str(count+2)+'.'+juzi[i]\n",
    "            count=count+1\n",
    "    return count,output\n",
    "\n",
    "def multiTiqu(aList, diZhi):\n",
    "    for i in aList:\n",
    "        output=tiQu(juzi,i)\n",
    "        #创建Word文档\n",
    "        doc = docx.Document()\n",
    "        #写入Word文档\n",
    "        doc.add_paragraph(output[1])\n",
    "        #保存Word文档\n",
    "        doc.save(diZhi+'%d' % output[0]+'-'+i+\".docx\")\n",
    "        \n",
    "def yiLeiCi(juzi,aList,diZhi):\n",
    "    output=''\n",
    "    count=0\n",
    "    aList=['油','贵']\n",
    "    for i in range(len(juzi)):\n",
    "        for j in range(len(aList)):\n",
    "            if juzi[i].find(aList[j])>=0:\n",
    "                output=output+str(count+2)+'.'+juzi[i]\n",
    "                count=count+1\n",
    "                break\n",
    "    #创建Word文档\n",
    "    doc = docx.Document()\n",
    "    #写入Word文档\n",
    "    doc.add_paragraph(output)\n",
    "    #保存word文档\n",
    "    name = aList[0]\n",
    "    for i in range(1,len(aList)):\n",
    "        name = name + '&' + aList[i]\n",
    "    doc.save(diZhi+'%d' % count+'-'+name+\".docx\")"
   ]
  },
  {
   "cell_type": "code",
   "execution_count": 56,
   "metadata": {
    "ExecuteTime": {
     "end_time": "2021-03-02T08:25:11.661493Z",
     "start_time": "2021-03-02T08:25:10.626319Z"
    },
    "hidden": true
   },
   "outputs": [
    {
     "name": "stderr",
     "output_type": "stream",
     "text": [
      "Building prefix dict from the default dictionary ...\n",
      "Loading model from cache /var/folders/0x/pbr2zq2j1qjdqkfqx5l5_m9w0000gn/T/jieba.cache\n",
      "Loading model cost 0.975 seconds.\n",
      "Prefix dict has been built successfully.\n"
     ]
    }
   ],
   "source": [
    "wordlist = list(jieba.cut(neiRong))\n",
    "wordlist = [word for word in wordlist if len(word)>1]"
   ]
  },
  {
   "cell_type": "code",
   "execution_count": 60,
   "metadata": {
    "ExecuteTime": {
     "end_time": "2021-03-02T08:30:16.641640Z",
     "start_time": "2021-03-02T08:30:16.535976Z"
    },
    "hidden": true
   },
   "outputs": [],
   "source": [
    "wordlist\n",
    "word = \" \".join(wordlist)\n",
    "\n",
    "counts={}\n",
    "for i in wordlist:\n",
    "    counts[i]=counts.get(i,1)+1\n",
    "\n",
    "items=list(counts.items())\n",
    "def takeSecond(elem):\n",
    "    return elem[1]\n",
    "\n",
    "items.sort(key=takeSecond,reverse=True) \n",
    "\n",
    "itemsDict = {}\n",
    "for i in range(len(items)):\n",
    "    itemsDict[items[i][0]] = items[i][1]\n",
    "\n",
    "cipin = pd.DataFrame.from_dict(itemsDict, orient='index')\n",
    "\n",
    "writer=pd.ExcelWriter('/Users/littletrista/Desktop/PE/爬虫/谷物麦片.xlsx')\n",
    "cipin.to_excel(writer,sheet_name='词频')\n",
    "writer.save()"
   ]
  },
  {
   "cell_type": "code",
   "execution_count": null,
   "metadata": {
    "hidden": true
   },
   "outputs": [],
   "source": []
  }
 ],
 "metadata": {
  "kernelspec": {
   "display_name": "Python 3",
   "language": "python",
   "name": "python3"
  },
  "language_info": {
   "codemirror_mode": {
    "name": "ipython",
    "version": 3
   },
   "file_extension": ".py",
   "mimetype": "text/x-python",
   "name": "python",
   "nbconvert_exporter": "python",
   "pygments_lexer": "ipython3",
   "version": "3.8.3"
  },
  "varInspector": {
   "cols": {
    "lenName": 16,
    "lenType": 16,
    "lenVar": 40
   },
   "kernels_config": {
    "python": {
     "delete_cmd_postfix": "",
     "delete_cmd_prefix": "del ",
     "library": "var_list.py",
     "varRefreshCmd": "print(var_dic_list())"
    },
    "r": {
     "delete_cmd_postfix": ") ",
     "delete_cmd_prefix": "rm(",
     "library": "var_list.r",
     "varRefreshCmd": "cat(var_dic_list()) "
    }
   },
   "types_to_exclude": [
    "module",
    "function",
    "builtin_function_or_method",
    "instance",
    "_Feature"
   ],
   "window_display": false
  }
 },
 "nbformat": 4,
 "nbformat_minor": 4
}
